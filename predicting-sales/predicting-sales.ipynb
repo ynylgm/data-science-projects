{
 "cells": [
  {
   "cell_type": "markdown",
   "metadata": {},
   "source": [
    "### Index\n",
    "<ol>1 <strong>Introduction</strong><br>\n",
    "    2 <b>Import Data</b><br>\n",
    "    3 <b>Data Cleaning</b><br>\n",
    "    <ol><i>Aggragation of Tables<br>\n",
    "        Check for Missing Values<br>\n",
    "        Feature Validation<br>\n",
    "        Outliers Removal</i></ol>\n",
    "    4 <b>EDA</b><br>\n",
    "    5 <b>Feature Engineering</b>\n",
    "    <ol><i>Feature Selection<br>\n",
    "        Target Clipping<br>\n",
    "        Feature Extraction<br>\n",
    "        Construction of Monthly Sales Dataframe<br>\n",
    "        Previous Value Benchmark<br>\n",
    "        Log Transformation<br></i></ol>\n",
    "    </ol>"
   ]
  },
  {
   "cell_type": "markdown",
   "metadata": {},
   "source": [
    "### 1 Introduction\n",
    "\n",
    "In this competition, work with a challenging time-series dataset consisting of daily sales data, kindly provided by one of the largest Russian software firms - 1C Company. Predict total sales for every product and store in the next month.\n",
    "\n",
    "Submissions are evaluated by root mean squared error (RMSE). True target values are clipped into [0,20] range.\n",
    "\n",
    "#### Submission File\n",
    "\n",
    "For each id in the test set, you must predict a total number of sales. The file should contain a header and have the following format:\n",
    "\n",
    "`ID,item_cnt_month`<br>\n",
    "`0,0.5`<br>\n",
    "`1,0.5`<br>\n",
    "`2,0.5`<br>\n",
    "`3,0.5`<br>\n",
    "`etc.`<br>\n",
    "\n",
    "You are provided with daily historical sales data. The task is to forecast the total amount of products sold in every shop for the test set. Note that the list of shops and products slightly changes every month. Creating a robust model that can handle such situations is part of the challenge.\n",
    "\n",
    "#### Data Description\n",
    "\n",
    "The task is to forecast the total amount of products sold in every shop for the test set. Note that the list of shops and products slightly changes every month. Creating a robust model that can handle such situations is part of the challenge.\n",
    "\n",
    "##### File descriptions\n",
    "\n",
    "* **sales_train.csv** - the training set. Daily historical data from January 2013 to October 2015.\n",
    "* **test.csv** - the test set. You need to forecast the sales for these shops and products for November 2015.\n",
    "* **sample_submission.csv** - a sample submission file in the correct format.\n",
    "* **items.csv** - supplemental information about the items/products.\n",
    "* **item_categories.csv**  - supplemental information about the items categories.\n",
    "* **shops.csv**- supplemental information about the shops.\n",
    "\n",
    "##### Data fields\n",
    "\n",
    "* **ID** - an Id that represents a (Shop, Item) tuple within the test set\n",
    "* **shop_id** - unique identifier of a shop\n",
    "* **item_id** - unique identifier of a product\n",
    "* **item_category_id** - unique identifier of item category\n",
    "* **item_cnt_day** - number of products sold. You are predicting a monthly amount of this measure\n",
    "* **item_price** - current price of an item\n",
    "* **date** - date in format dd/mm/yyyy\n",
    "* **date_block_num** - a consecutive month number, used for convenience. January 2013 is 0, February 2013 is 1,..., October 2015 is 33\n",
    "* **item_name** - name of item\n",
    "* **shop_name** - name of shop\n",
    "* **item_category_name** - name of item category\n",
    "\n",
    "The author recommends producing Previous Value Benchmark in which for each shop/item pair the prediction is just monthly sales from the previous month, i.e October 2015. This will require generating lagged values. It is recommended to fill NaNs with 0 and to clip the target values into [0:20] range. Such technique is a necessary basis for more complex models."
   ]
  },
  {
   "cell_type": "markdown",
   "metadata": {},
   "source": [
    "### 2 Import Data"
   ]
  },
  {
   "cell_type": "code",
   "execution_count": 1,
   "metadata": {},
   "outputs": [],
   "source": [
    "import numpy as np\n",
    "import pandas as pd\n",
    "pd.set_option('display.float_format', lambda x: '%.2f' % x)\n",
    "import matplotlib.pyplot as plt\n",
    "%matplotlib inline\n",
    "import seaborn as sns\n",
    "\n",
    "from scipy.stats import skew\n",
    "\n",
    "import gc\n",
    "import warnings\n",
    "warnings.filterwarnings('ignore')"
   ]
  },
  {
   "cell_type": "code",
   "execution_count": 2,
   "metadata": {
    "_cell_guid": "6541e1a6-a353-4709-a1fa-730e0f2a308d",
    "_uuid": "debe15ae99f3596923efc37ce2f609920213be54"
   },
   "outputs": [],
   "source": [
    "train = pd.read_csv(\"../sales_train.csv\", \n",
    "                    dtype={'date': 'str', 'date_block_num': 'int8', 'shop_id': 'int8', 'item_id': 'int16', 'item_price': 'float32', 'item_cnt_day': 'int16'})\n",
    "test = pd.read_csv(\"../test.csv\", dtype={'ID': 'int32', 'shop_id': 'int8', 'item_id': 'int16'})\n",
    "\n",
    "items = pd.read_csv(\"../items.csv\", dtype={'item_name': 'str', 'item_id': 'int16', 'item_category_id': 'int8'})\n",
    "item_cat = pd.read_csv(\"../item_categories.csv\", dtype={'item_category_name': 'str', 'item_category_id': 'int8'})\n",
    "shops = pd.read_csv(\"../shops.csv\", dtype={'shop_name': 'str', 'shop_id': 'int8'})"
   ]
  },
  {
   "cell_type": "code",
   "execution_count": 3,
   "metadata": {},
   "outputs": [
    {
     "data": {
      "text/html": [
       "<div>\n",
       "<style scoped>\n",
       "    .dataframe tbody tr th:only-of-type {\n",
       "        vertical-align: middle;\n",
       "    }\n",
       "\n",
       "    .dataframe tbody tr th {\n",
       "        vertical-align: top;\n",
       "    }\n",
       "\n",
       "    .dataframe thead th {\n",
       "        text-align: right;\n",
       "    }\n",
       "</style>\n",
       "<table border=\"1\" class=\"dataframe\">\n",
       "  <thead>\n",
       "    <tr style=\"text-align: right;\">\n",
       "      <th></th>\n",
       "      <th>date</th>\n",
       "      <th>date_block_num</th>\n",
       "      <th>shop_id</th>\n",
       "      <th>item_id</th>\n",
       "      <th>item_price</th>\n",
       "      <th>item_cnt_day</th>\n",
       "    </tr>\n",
       "  </thead>\n",
       "  <tbody>\n",
       "    <tr>\n",
       "      <th>0</th>\n",
       "      <td>02.01.2013</td>\n",
       "      <td>0</td>\n",
       "      <td>59</td>\n",
       "      <td>22154</td>\n",
       "      <td>999.00</td>\n",
       "      <td>1</td>\n",
       "    </tr>\n",
       "    <tr>\n",
       "      <th>1</th>\n",
       "      <td>03.01.2013</td>\n",
       "      <td>0</td>\n",
       "      <td>25</td>\n",
       "      <td>2552</td>\n",
       "      <td>899.00</td>\n",
       "      <td>1</td>\n",
       "    </tr>\n",
       "    <tr>\n",
       "      <th>2</th>\n",
       "      <td>05.01.2013</td>\n",
       "      <td>0</td>\n",
       "      <td>25</td>\n",
       "      <td>2552</td>\n",
       "      <td>899.00</td>\n",
       "      <td>-1</td>\n",
       "    </tr>\n",
       "    <tr>\n",
       "      <th>3</th>\n",
       "      <td>06.01.2013</td>\n",
       "      <td>0</td>\n",
       "      <td>25</td>\n",
       "      <td>2554</td>\n",
       "      <td>1709.05</td>\n",
       "      <td>1</td>\n",
       "    </tr>\n",
       "    <tr>\n",
       "      <th>4</th>\n",
       "      <td>15.01.2013</td>\n",
       "      <td>0</td>\n",
       "      <td>25</td>\n",
       "      <td>2555</td>\n",
       "      <td>1099.00</td>\n",
       "      <td>1</td>\n",
       "    </tr>\n",
       "  </tbody>\n",
       "</table>\n",
       "</div>"
      ],
      "text/plain": [
       "         date  date_block_num  shop_id  item_id  item_price  item_cnt_day\n",
       "0  02.01.2013               0       59    22154      999.00             1\n",
       "1  03.01.2013               0       25     2552      899.00             1\n",
       "2  05.01.2013               0       25     2552      899.00            -1\n",
       "3  06.01.2013               0       25     2554     1709.05             1\n",
       "4  15.01.2013               0       25     2555     1099.00             1"
      ]
     },
     "execution_count": 3,
     "metadata": {},
     "output_type": "execute_result"
    }
   ],
   "source": [
    "train.head()"
   ]
  },
  {
   "cell_type": "code",
   "execution_count": 4,
   "metadata": {},
   "outputs": [
    {
     "name": "stdout",
     "output_type": "stream",
     "text": [
      "<class 'pandas.core.frame.DataFrame'>\n",
      "RangeIndex: 2935849 entries, 0 to 2935848\n",
      "Data columns (total 6 columns):\n",
      " #   Column          Dtype  \n",
      "---  ------          -----  \n",
      " 0   date            object \n",
      " 1   date_block_num  int8   \n",
      " 2   shop_id         int8   \n",
      " 3   item_id         int16  \n",
      " 4   item_price      float32\n",
      " 5   item_cnt_day    int16  \n",
      "dtypes: float32(1), int16(2), int8(2), object(1)\n",
      "memory usage: 39.2+ MB\n"
     ]
    }
   ],
   "source": [
    "train.info()"
   ]
  },
  {
   "cell_type": "markdown",
   "metadata": {},
   "source": [
    "Table *train* contains daily sales records of date, shop id's, item id's, item prices, item count per day."
   ]
  },
  {
   "cell_type": "code",
   "execution_count": 5,
   "metadata": {},
   "outputs": [
    {
     "data": {
      "text/html": [
       "<div>\n",
       "<style scoped>\n",
       "    .dataframe tbody tr th:only-of-type {\n",
       "        vertical-align: middle;\n",
       "    }\n",
       "\n",
       "    .dataframe tbody tr th {\n",
       "        vertical-align: top;\n",
       "    }\n",
       "\n",
       "    .dataframe thead th {\n",
       "        text-align: right;\n",
       "    }\n",
       "</style>\n",
       "<table border=\"1\" class=\"dataframe\">\n",
       "  <thead>\n",
       "    <tr style=\"text-align: right;\">\n",
       "      <th></th>\n",
       "      <th>ID</th>\n",
       "      <th>shop_id</th>\n",
       "      <th>item_id</th>\n",
       "    </tr>\n",
       "  </thead>\n",
       "  <tbody>\n",
       "    <tr>\n",
       "      <th>0</th>\n",
       "      <td>0</td>\n",
       "      <td>5</td>\n",
       "      <td>5037</td>\n",
       "    </tr>\n",
       "    <tr>\n",
       "      <th>1</th>\n",
       "      <td>1</td>\n",
       "      <td>5</td>\n",
       "      <td>5320</td>\n",
       "    </tr>\n",
       "    <tr>\n",
       "      <th>2</th>\n",
       "      <td>2</td>\n",
       "      <td>5</td>\n",
       "      <td>5233</td>\n",
       "    </tr>\n",
       "    <tr>\n",
       "      <th>3</th>\n",
       "      <td>3</td>\n",
       "      <td>5</td>\n",
       "      <td>5232</td>\n",
       "    </tr>\n",
       "    <tr>\n",
       "      <th>4</th>\n",
       "      <td>4</td>\n",
       "      <td>5</td>\n",
       "      <td>5268</td>\n",
       "    </tr>\n",
       "  </tbody>\n",
       "</table>\n",
       "</div>"
      ],
      "text/plain": [
       "   ID  shop_id  item_id\n",
       "0   0        5     5037\n",
       "1   1        5     5320\n",
       "2   2        5     5233\n",
       "3   3        5     5232\n",
       "4   4        5     5268"
      ]
     },
     "execution_count": 5,
     "metadata": {},
     "output_type": "execute_result"
    }
   ],
   "source": [
    "test.head()"
   ]
  },
  {
   "cell_type": "markdown",
   "metadata": {},
   "source": [
    "Table *test* contains ID for every (shop,item) tuple, shop id's, item id's. To be used for prediction as the final step of this project."
   ]
  },
  {
   "cell_type": "code",
   "execution_count": 6,
   "metadata": {},
   "outputs": [
    {
     "data": {
      "text/html": [
       "<div>\n",
       "<style scoped>\n",
       "    .dataframe tbody tr th:only-of-type {\n",
       "        vertical-align: middle;\n",
       "    }\n",
       "\n",
       "    .dataframe tbody tr th {\n",
       "        vertical-align: top;\n",
       "    }\n",
       "\n",
       "    .dataframe thead th {\n",
       "        text-align: right;\n",
       "    }\n",
       "</style>\n",
       "<table border=\"1\" class=\"dataframe\">\n",
       "  <thead>\n",
       "    <tr style=\"text-align: right;\">\n",
       "      <th></th>\n",
       "      <th>item_name</th>\n",
       "      <th>item_id</th>\n",
       "      <th>item_category_id</th>\n",
       "    </tr>\n",
       "  </thead>\n",
       "  <tbody>\n",
       "    <tr>\n",
       "      <th>0</th>\n",
       "      <td>! ВО ВЛАСТИ НАВАЖДЕНИЯ (ПЛАСТ.)         D</td>\n",
       "      <td>0</td>\n",
       "      <td>40</td>\n",
       "    </tr>\n",
       "    <tr>\n",
       "      <th>1</th>\n",
       "      <td>!ABBYY FineReader 12 Professional Edition Full...</td>\n",
       "      <td>1</td>\n",
       "      <td>76</td>\n",
       "    </tr>\n",
       "    <tr>\n",
       "      <th>2</th>\n",
       "      <td>***В ЛУЧАХ СЛАВЫ   (UNV)                    D</td>\n",
       "      <td>2</td>\n",
       "      <td>40</td>\n",
       "    </tr>\n",
       "    <tr>\n",
       "      <th>3</th>\n",
       "      <td>***ГОЛУБАЯ ВОЛНА  (Univ)                      D</td>\n",
       "      <td>3</td>\n",
       "      <td>40</td>\n",
       "    </tr>\n",
       "    <tr>\n",
       "      <th>4</th>\n",
       "      <td>***КОРОБКА (СТЕКЛО)                       D</td>\n",
       "      <td>4</td>\n",
       "      <td>40</td>\n",
       "    </tr>\n",
       "  </tbody>\n",
       "</table>\n",
       "</div>"
      ],
      "text/plain": [
       "                                           item_name  item_id  \\\n",
       "0          ! ВО ВЛАСТИ НАВАЖДЕНИЯ (ПЛАСТ.)         D        0   \n",
       "1  !ABBYY FineReader 12 Professional Edition Full...        1   \n",
       "2      ***В ЛУЧАХ СЛАВЫ   (UNV)                    D        2   \n",
       "3    ***ГОЛУБАЯ ВОЛНА  (Univ)                      D        3   \n",
       "4        ***КОРОБКА (СТЕКЛО)                       D        4   \n",
       "\n",
       "   item_category_id  \n",
       "0                40  \n",
       "1                76  \n",
       "2                40  \n",
       "3                40  \n",
       "4                40  "
      ]
     },
     "execution_count": 6,
     "metadata": {},
     "output_type": "execute_result"
    }
   ],
   "source": [
    "items.head()"
   ]
  },
  {
   "cell_type": "markdown",
   "metadata": {},
   "source": [
    "Table *items* contains item names and item category id's for each item id."
   ]
  },
  {
   "cell_type": "code",
   "execution_count": 7,
   "metadata": {},
   "outputs": [
    {
     "data": {
      "text/html": [
       "<div>\n",
       "<style scoped>\n",
       "    .dataframe tbody tr th:only-of-type {\n",
       "        vertical-align: middle;\n",
       "    }\n",
       "\n",
       "    .dataframe tbody tr th {\n",
       "        vertical-align: top;\n",
       "    }\n",
       "\n",
       "    .dataframe thead th {\n",
       "        text-align: right;\n",
       "    }\n",
       "</style>\n",
       "<table border=\"1\" class=\"dataframe\">\n",
       "  <thead>\n",
       "    <tr style=\"text-align: right;\">\n",
       "      <th></th>\n",
       "      <th>item_category_name</th>\n",
       "      <th>item_category_id</th>\n",
       "    </tr>\n",
       "  </thead>\n",
       "  <tbody>\n",
       "    <tr>\n",
       "      <th>0</th>\n",
       "      <td>PC - Гарнитуры/Наушники</td>\n",
       "      <td>0</td>\n",
       "    </tr>\n",
       "    <tr>\n",
       "      <th>1</th>\n",
       "      <td>Аксессуары - PS2</td>\n",
       "      <td>1</td>\n",
       "    </tr>\n",
       "    <tr>\n",
       "      <th>2</th>\n",
       "      <td>Аксессуары - PS3</td>\n",
       "      <td>2</td>\n",
       "    </tr>\n",
       "    <tr>\n",
       "      <th>3</th>\n",
       "      <td>Аксессуары - PS4</td>\n",
       "      <td>3</td>\n",
       "    </tr>\n",
       "    <tr>\n",
       "      <th>4</th>\n",
       "      <td>Аксессуары - PSP</td>\n",
       "      <td>4</td>\n",
       "    </tr>\n",
       "  </tbody>\n",
       "</table>\n",
       "</div>"
      ],
      "text/plain": [
       "        item_category_name  item_category_id\n",
       "0  PC - Гарнитуры/Наушники                 0\n",
       "1         Аксессуары - PS2                 1\n",
       "2         Аксессуары - PS3                 2\n",
       "3         Аксессуары - PS4                 3\n",
       "4         Аксессуары - PSP                 4"
      ]
     },
     "execution_count": 7,
     "metadata": {},
     "output_type": "execute_result"
    }
   ],
   "source": [
    "item_cat.head()"
   ]
  },
  {
   "cell_type": "markdown",
   "metadata": {},
   "source": [
    "Table *item_cat* contains item category names for each item category id."
   ]
  },
  {
   "cell_type": "code",
   "execution_count": 8,
   "metadata": {},
   "outputs": [
    {
     "data": {
      "text/html": [
       "<div>\n",
       "<style scoped>\n",
       "    .dataframe tbody tr th:only-of-type {\n",
       "        vertical-align: middle;\n",
       "    }\n",
       "\n",
       "    .dataframe tbody tr th {\n",
       "        vertical-align: top;\n",
       "    }\n",
       "\n",
       "    .dataframe thead th {\n",
       "        text-align: right;\n",
       "    }\n",
       "</style>\n",
       "<table border=\"1\" class=\"dataframe\">\n",
       "  <thead>\n",
       "    <tr style=\"text-align: right;\">\n",
       "      <th></th>\n",
       "      <th>shop_name</th>\n",
       "      <th>shop_id</th>\n",
       "    </tr>\n",
       "  </thead>\n",
       "  <tbody>\n",
       "    <tr>\n",
       "      <th>0</th>\n",
       "      <td>!Якутск Орджоникидзе, 56 фран</td>\n",
       "      <td>0</td>\n",
       "    </tr>\n",
       "    <tr>\n",
       "      <th>1</th>\n",
       "      <td>!Якутск ТЦ \"Центральный\" фран</td>\n",
       "      <td>1</td>\n",
       "    </tr>\n",
       "    <tr>\n",
       "      <th>2</th>\n",
       "      <td>Адыгея ТЦ \"Мега\"</td>\n",
       "      <td>2</td>\n",
       "    </tr>\n",
       "    <tr>\n",
       "      <th>3</th>\n",
       "      <td>Балашиха ТРК \"Октябрь-Киномир\"</td>\n",
       "      <td>3</td>\n",
       "    </tr>\n",
       "    <tr>\n",
       "      <th>4</th>\n",
       "      <td>Волжский ТЦ \"Волга Молл\"</td>\n",
       "      <td>4</td>\n",
       "    </tr>\n",
       "  </tbody>\n",
       "</table>\n",
       "</div>"
      ],
      "text/plain": [
       "                        shop_name  shop_id\n",
       "0   !Якутск Орджоникидзе, 56 фран        0\n",
       "1   !Якутск ТЦ \"Центральный\" фран        1\n",
       "2                Адыгея ТЦ \"Мега\"        2\n",
       "3  Балашиха ТРК \"Октябрь-Киномир\"        3\n",
       "4        Волжский ТЦ \"Волга Молл\"        4"
      ]
     },
     "execution_count": 8,
     "metadata": {},
     "output_type": "execute_result"
    }
   ],
   "source": [
    "shops.head()"
   ]
  },
  {
   "cell_type": "markdown",
   "metadata": {},
   "source": [
    "Table *shops* contains shop names for each shop id."
   ]
  },
  {
   "cell_type": "markdown",
   "metadata": {},
   "source": [
    "### 3 Data Cleaning"
   ]
  },
  {
   "cell_type": "markdown",
   "metadata": {},
   "source": [
    "#### Aggreagation of Tables"
   ]
  },
  {
   "cell_type": "markdown",
   "metadata": {},
   "source": [
    "Dataset provided and contained features are as following (*test* set to be used for final prediction excluded): \n",
    "* *train* containing **date**, **date_block_num**, **shop_id**, **item_id**, **item_price**, **item_cnt_day**\n",
    "* *items* containing **item_name**, **item_id**, **item_category_id**\n",
    "* *item_cat* containing **item_category_name**, **item_category_id**\n",
    "* *shops* containing **shop_name**, **shop_id**\n",
    "\n",
    "It is best to aggregate all the information from different datasets into one large train set, as doing so would provide a better summary of product details."
   ]
  },
  {
   "cell_type": "markdown",
   "metadata": {},
   "source": [
    "Append the following rows from tables *items*, *item_cat*, *shops* to table *train* for a combined train set.\n",
    "* **item_name** and **item_category_id** from table *items* mapped by item_id from table *train*\n",
    "* **item_category_name** from table *item_cat* mapped by item_category_id originally from table *items*\n",
    "* **shop_name** from table *shops* mapped by shop_id from table *train*"
   ]
  },
  {
   "cell_type": "code",
   "execution_count": 9,
   "metadata": {},
   "outputs": [
    {
     "data": {
      "text/html": [
       "<div>\n",
       "<style scoped>\n",
       "    .dataframe tbody tr th:only-of-type {\n",
       "        vertical-align: middle;\n",
       "    }\n",
       "\n",
       "    .dataframe tbody tr th {\n",
       "        vertical-align: top;\n",
       "    }\n",
       "\n",
       "    .dataframe thead th {\n",
       "        text-align: right;\n",
       "    }\n",
       "</style>\n",
       "<table border=\"1\" class=\"dataframe\">\n",
       "  <thead>\n",
       "    <tr style=\"text-align: right;\">\n",
       "      <th></th>\n",
       "      <th>date</th>\n",
       "      <th>date_block_num</th>\n",
       "      <th>item_id</th>\n",
       "      <th>item_name</th>\n",
       "      <th>item_category_id</th>\n",
       "      <th>item_category_name</th>\n",
       "      <th>shop_id</th>\n",
       "      <th>shop_name</th>\n",
       "      <th>item_price</th>\n",
       "      <th>item_cnt_day</th>\n",
       "    </tr>\n",
       "  </thead>\n",
       "  <tbody>\n",
       "    <tr>\n",
       "      <th>0</th>\n",
       "      <td>02.01.2013</td>\n",
       "      <td>0</td>\n",
       "      <td>22154</td>\n",
       "      <td>ЯВЛЕНИЕ 2012 (BD)</td>\n",
       "      <td>37</td>\n",
       "      <td>Кино - Blu-Ray</td>\n",
       "      <td>59</td>\n",
       "      <td>Ярославль ТЦ \"Альтаир\"</td>\n",
       "      <td>999.00</td>\n",
       "      <td>1</td>\n",
       "    </tr>\n",
       "    <tr>\n",
       "      <th>1</th>\n",
       "      <td>03.01.2013</td>\n",
       "      <td>0</td>\n",
       "      <td>2552</td>\n",
       "      <td>DEEP PURPLE  The House Of Blue Light  LP</td>\n",
       "      <td>58</td>\n",
       "      <td>Музыка - Винил</td>\n",
       "      <td>25</td>\n",
       "      <td>Москва ТРК \"Атриум\"</td>\n",
       "      <td>899.00</td>\n",
       "      <td>1</td>\n",
       "    </tr>\n",
       "    <tr>\n",
       "      <th>2</th>\n",
       "      <td>05.01.2013</td>\n",
       "      <td>0</td>\n",
       "      <td>2552</td>\n",
       "      <td>DEEP PURPLE  The House Of Blue Light  LP</td>\n",
       "      <td>58</td>\n",
       "      <td>Музыка - Винил</td>\n",
       "      <td>25</td>\n",
       "      <td>Москва ТРК \"Атриум\"</td>\n",
       "      <td>899.00</td>\n",
       "      <td>-1</td>\n",
       "    </tr>\n",
       "    <tr>\n",
       "      <th>3</th>\n",
       "      <td>06.01.2013</td>\n",
       "      <td>0</td>\n",
       "      <td>2554</td>\n",
       "      <td>DEEP PURPLE  Who Do You Think We Are  LP</td>\n",
       "      <td>58</td>\n",
       "      <td>Музыка - Винил</td>\n",
       "      <td>25</td>\n",
       "      <td>Москва ТРК \"Атриум\"</td>\n",
       "      <td>1709.05</td>\n",
       "      <td>1</td>\n",
       "    </tr>\n",
       "    <tr>\n",
       "      <th>4</th>\n",
       "      <td>15.01.2013</td>\n",
       "      <td>0</td>\n",
       "      <td>2555</td>\n",
       "      <td>DEEP PURPLE 30 Very Best Of 2CD (Фирм.)</td>\n",
       "      <td>56</td>\n",
       "      <td>Музыка - CD фирменного производства</td>\n",
       "      <td>25</td>\n",
       "      <td>Москва ТРК \"Атриум\"</td>\n",
       "      <td>1099.00</td>\n",
       "      <td>1</td>\n",
       "    </tr>\n",
       "  </tbody>\n",
       "</table>\n",
       "</div>"
      ],
      "text/plain": [
       "         date  date_block_num  item_id  \\\n",
       "0  02.01.2013               0    22154   \n",
       "1  03.01.2013               0     2552   \n",
       "2  05.01.2013               0     2552   \n",
       "3  06.01.2013               0     2554   \n",
       "4  15.01.2013               0     2555   \n",
       "\n",
       "                                  item_name  item_category_id  \\\n",
       "0                         ЯВЛЕНИЕ 2012 (BD)                37   \n",
       "1  DEEP PURPLE  The House Of Blue Light  LP                58   \n",
       "2  DEEP PURPLE  The House Of Blue Light  LP                58   \n",
       "3  DEEP PURPLE  Who Do You Think We Are  LP                58   \n",
       "4   DEEP PURPLE 30 Very Best Of 2CD (Фирм.)                56   \n",
       "\n",
       "                    item_category_name  shop_id               shop_name  \\\n",
       "0                       Кино - Blu-Ray       59  Ярославль ТЦ \"Альтаир\"   \n",
       "1                       Музыка - Винил       25     Москва ТРК \"Атриум\"   \n",
       "2                       Музыка - Винил       25     Москва ТРК \"Атриум\"   \n",
       "3                       Музыка - Винил       25     Москва ТРК \"Атриум\"   \n",
       "4  Музыка - CD фирменного производства       25     Москва ТРК \"Атриум\"   \n",
       "\n",
       "   item_price  item_cnt_day  \n",
       "0      999.00             1  \n",
       "1      899.00             1  \n",
       "2      899.00            -1  \n",
       "3     1709.05             1  \n",
       "4     1099.00             1  "
      ]
     },
     "execution_count": 9,
     "metadata": {},
     "output_type": "execute_result"
    }
   ],
   "source": [
    "train['item_name'] = train['item_id'].map(items.set_index('item_id')['item_name'])\n",
    "train['item_category_id'] = train['item_id'].map(items.set_index('item_id')['item_category_id'])\n",
    "train['item_category_name'] = train['item_category_id'].map(item_cat.set_index('item_category_id')['item_category_name'])\n",
    "train['shop_name'] = train['shop_id'].map(shops.set_index('shop_id')['shop_name'])\n",
    "\n",
    "# reorder columns\n",
    "train = train[['date', 'date_block_num', 'item_id', 'item_name', 'item_category_id', 'item_category_name', 'shop_id', 'shop_name', 'item_price', 'item_cnt_day']]\n",
    "\n",
    "train.head()"
   ]
  },
  {
   "cell_type": "markdown",
   "metadata": {},
   "source": [
    "#### Check for Missing Values"
   ]
  },
  {
   "cell_type": "code",
   "execution_count": 10,
   "metadata": {},
   "outputs": [
    {
     "name": "stdout",
     "output_type": "stream",
     "text": [
      "Any null values in the train and the test set?\n",
      "No Null Values\n"
     ]
    }
   ],
   "source": [
    "print(\"Any null values in the train and the test set?\")\n",
    "if train.isnull().values.any() == False and test.isnull().values.any() == False:\n",
    "    print(\"No Null Values\")"
   ]
  },
  {
   "cell_type": "markdown",
   "metadata": {},
   "source": [
    "#### Data Validation"
   ]
  },
  {
   "cell_type": "markdown",
   "metadata": {},
   "source": [
    "For validity, it is safe to ensure the following conditions:\n",
    "* Columns **date_block_num**, **item_id**, **item_category_id**, **shop_id** contain no negative integers.\n",
    "* All **item_price** values are greater than or equal to 0. If less than 0, replace with 0.\n",
    "\n",
    "It is unnecessary to check **item_cnt_day** at the current phase, as **item_cnt_day** will be clipped to [0:20] during Feature Engineering."
   ]
  },
  {
   "cell_type": "code",
   "execution_count": 11,
   "metadata": {},
   "outputs": [
    {
     "name": "stdout",
     "output_type": "stream",
     "text": [
      "<class 'pandas.core.frame.DataFrame'>\n",
      "RangeIndex: 2935849 entries, 0 to 2935848\n",
      "Data columns (total 4 columns):\n",
      " #   Column            Dtype\n",
      "---  ------            -----\n",
      " 0   date_block_num    int8 \n",
      " 1   item_id           int16\n",
      " 2   item_category_id  int8 \n",
      " 3   shop_id           int8 \n",
      "dtypes: int16(1), int8(3)\n",
      "memory usage: 14.0 MB\n"
     ]
    }
   ],
   "source": [
    "train[['date_block_num', 'item_id', 'item_category_id', 'shop_id']].info()"
   ]
  },
  {
   "cell_type": "code",
   "execution_count": 12,
   "metadata": {},
   "outputs": [
    {
     "name": "stdout",
     "output_type": "stream",
     "text": [
      "Are all values in columns date_block_num, item_id, item_category_id, shop_id 0 or positive integers?\n",
      "Yes\n"
     ]
    }
   ],
   "source": [
    "print(\"Are all values in columns date_block_num, item_id, item_category_id, shop_id 0 or positive integers?\")\n",
    "if (train[train.date_block_num<0].values.any() == False and train[train.item_id<0].values.any() == False and \n",
    "    train[train.item_category_id<0].values.any() == False and train[train.shop_id<0].values.any() == False):\n",
    "    print(\"Yes\")\n",
    "else:\n",
    "    print(\"There exists invalid ID values.\")"
   ]
  },
  {
   "cell_type": "code",
   "execution_count": 13,
   "metadata": {},
   "outputs": [
    {
     "name": "stdout",
     "output_type": "stream",
     "text": [
      "Are all item price values greater than 0?\n",
      "There exists 1 invalid item price value(s).\n"
     ]
    },
    {
     "data": {
      "text/html": [
       "<div>\n",
       "<style scoped>\n",
       "    .dataframe tbody tr th:only-of-type {\n",
       "        vertical-align: middle;\n",
       "    }\n",
       "\n",
       "    .dataframe tbody tr th {\n",
       "        vertical-align: top;\n",
       "    }\n",
       "\n",
       "    .dataframe thead th {\n",
       "        text-align: right;\n",
       "    }\n",
       "</style>\n",
       "<table border=\"1\" class=\"dataframe\">\n",
       "  <thead>\n",
       "    <tr style=\"text-align: right;\">\n",
       "      <th></th>\n",
       "      <th>date</th>\n",
       "      <th>date_block_num</th>\n",
       "      <th>item_id</th>\n",
       "      <th>item_name</th>\n",
       "      <th>item_category_id</th>\n",
       "      <th>item_category_name</th>\n",
       "      <th>shop_id</th>\n",
       "      <th>shop_name</th>\n",
       "      <th>item_price</th>\n",
       "      <th>item_cnt_day</th>\n",
       "    </tr>\n",
       "  </thead>\n",
       "  <tbody>\n",
       "    <tr>\n",
       "      <th>484683</th>\n",
       "      <td>15.05.2013</td>\n",
       "      <td>4</td>\n",
       "      <td>2973</td>\n",
       "      <td>DmC Devil May Cry [PS3, русские субтитры]</td>\n",
       "      <td>19</td>\n",
       "      <td>Игры - PS3</td>\n",
       "      <td>32</td>\n",
       "      <td>Москва ТЦ \"Серебряный Дом\"</td>\n",
       "      <td>-1.00</td>\n",
       "      <td>1</td>\n",
       "    </tr>\n",
       "  </tbody>\n",
       "</table>\n",
       "</div>"
      ],
      "text/plain": [
       "              date  date_block_num  item_id  \\\n",
       "484683  15.05.2013               4     2973   \n",
       "\n",
       "                                        item_name  item_category_id  \\\n",
       "484683  DmC Devil May Cry [PS3, русские субтитры]                19   \n",
       "\n",
       "       item_category_name  shop_id                   shop_name  item_price  \\\n",
       "484683         Игры - PS3       32  Москва ТЦ \"Серебряный Дом\"       -1.00   \n",
       "\n",
       "        item_cnt_day  \n",
       "484683             1  "
      ]
     },
     "execution_count": 13,
     "metadata": {},
     "output_type": "execute_result"
    }
   ],
   "source": [
    "print(\"Are all item price values greater than 0?\")\n",
    "if train[train.item_price<0].values.any() == False:\n",
    "    print(\"Yes\")\n",
    "else:\n",
    "    print(\"There exists \" + str(len(train.loc[train.item_price<0])) + \" invalid item price value(s).\")\n",
    "    \n",
    "train.loc[train.item_price<0]"
   ]
  },
  {
   "cell_type": "code",
   "execution_count": 14,
   "metadata": {},
   "outputs": [
    {
     "name": "stdout",
     "output_type": "stream",
     "text": [
      "Are all item price values greater than 0?\n",
      "Yes\n"
     ]
    }
   ],
   "source": [
    "# replace the invalid item_price value with 0 and check again\n",
    "train['item_price'] = np.where(train['item_price'] < 0, 0, train['item_price'])\n",
    "\n",
    "print(\"Are all item price values greater than 0?\")\n",
    "if train[train.item_price<0].values.any() == False:\n",
    "    print(\"Yes\")\n",
    "else:\n",
    "    print(\"There exists \" + str(len(train.loc[train.item_price<0])) + \" invalid item price value(s).\")"
   ]
  },
  {
   "cell_type": "markdown",
   "metadata": {},
   "source": [
    "#### Outliers Removal"
   ]
  },
  {
   "cell_type": "code",
   "execution_count": 15,
   "metadata": {},
   "outputs": [
    {
     "data": {
      "image/png": "[encoded data removed]",
      "text/plain": [
       "<Figure size 864x504 with 1 Axes>"
      ]
     },
     "metadata": {},
     "output_type": "display_data"
    }
   ],
   "source": [
    "sns.set_style(style=\"white\")\n",
    "\n",
    "plt.figure(figsize=(12, 7))\n",
    "sns.scatterplot(x='item_price', y='item_cnt_day', data=train)\n",
    "\n",
    "plt.savefig('outliers.png')"
   ]
  },
  {
   "cell_type": "code",
   "execution_count": 16,
   "metadata": {},
   "outputs": [
    {
     "data": {
      "text/html": [
       "<div>\n",
       "<style scoped>\n",
       "    .dataframe tbody tr th:only-of-type {\n",
       "        vertical-align: middle;\n",
       "    }\n",
       "\n",
       "    .dataframe tbody tr th {\n",
       "        vertical-align: top;\n",
       "    }\n",
       "\n",
       "    .dataframe thead th {\n",
       "        text-align: right;\n",
       "    }\n",
       "</style>\n",
       "<table border=\"1\" class=\"dataframe\">\n",
       "  <thead>\n",
       "    <tr style=\"text-align: right;\">\n",
       "      <th></th>\n",
       "      <th>date</th>\n",
       "      <th>date_block_num</th>\n",
       "      <th>item_id</th>\n",
       "      <th>item_name</th>\n",
       "      <th>item_category_id</th>\n",
       "      <th>item_category_name</th>\n",
       "      <th>shop_id</th>\n",
       "      <th>shop_name</th>\n",
       "      <th>item_price</th>\n",
       "      <th>item_cnt_day</th>\n",
       "    </tr>\n",
       "  </thead>\n",
       "  <tbody>\n",
       "    <tr>\n",
       "      <th>1163158</th>\n",
       "      <td>13.12.2013</td>\n",
       "      <td>11</td>\n",
       "      <td>6066</td>\n",
       "      <td>Radmin 3  - 522 лиц.</td>\n",
       "      <td>75</td>\n",
       "      <td>Программы - Для дома и офиса</td>\n",
       "      <td>12</td>\n",
       "      <td>Интернет-магазин ЧС</td>\n",
       "      <td>307980.00</td>\n",
       "      <td>1</td>\n",
       "    </tr>\n",
       "  </tbody>\n",
       "</table>\n",
       "</div>"
      ],
      "text/plain": [
       "               date  date_block_num  item_id             item_name  \\\n",
       "1163158  13.12.2013              11     6066  Radmin 3  - 522 лиц.   \n",
       "\n",
       "         item_category_id            item_category_name  shop_id  \\\n",
       "1163158                75  Программы - Для дома и офиса       12   \n",
       "\n",
       "                   shop_name  item_price  item_cnt_day  \n",
       "1163158  Интернет-магазин ЧС   307980.00             1  "
      ]
     },
     "execution_count": 16,
     "metadata": {},
     "output_type": "execute_result"
    }
   ],
   "source": [
    "train.loc[train['item_price'] > 100000]"
   ]
  },
  {
   "cell_type": "markdown",
   "metadata": {},
   "source": [
    "There exists one outlier with an item price of 307980 that would be better to remove."
   ]
  },
  {
   "cell_type": "code",
   "execution_count": 17,
   "metadata": {},
   "outputs": [],
   "source": [
    "train = train[train.item_price < 100000]"
   ]
  },
  {
   "cell_type": "markdown",
   "metadata": {},
   "source": [
    "### 4 EDA/Data Exploration - add description"
   ]
  },
  {
   "cell_type": "code",
   "execution_count": 18,
   "metadata": {},
   "outputs": [
    {
     "name": "stdout",
     "output_type": "stream",
     "text": [
      "<class 'pandas.core.frame.DataFrame'>\n",
      "Int64Index: 2935848 entries, 0 to 2935848\n",
      "Data columns (total 10 columns):\n",
      " #   Column              Dtype  \n",
      "---  ------              -----  \n",
      " 0   date                object \n",
      " 1   date_block_num      int8   \n",
      " 2   item_id             int16  \n",
      " 3   item_name           object \n",
      " 4   item_category_id    int8   \n",
      " 5   item_category_name  object \n",
      " 6   shop_id             int8   \n",
      " 7   shop_name           object \n",
      " 8   item_price          float32\n",
      " 9   item_cnt_day        int16  \n",
      "dtypes: float32(1), int16(2), int8(3), object(4)\n",
      "memory usage: 98.0+ MB\n"
     ]
    }
   ],
   "source": [
    "train.info()"
   ]
  },
  {
   "cell_type": "code",
   "execution_count": 19,
   "metadata": {},
   "outputs": [
    {
     "name": "stdout",
     "output_type": "stream",
     "text": [
      "Time period covered: From 01.2013 to 10.2015\n",
      "Number of months covered: 34\n"
     ]
    }
   ],
   "source": [
    "print(\"Time period covered: \" + \"From \" + train.date.str[3:].unique()[0] + \" to \" + train.date.str[3:].unique()[33])\n",
    "print(\"Number of months covered: \" + str(len(train.date_block_num.unique())))"
   ]
  },
  {
   "cell_type": "code",
   "execution_count": 20,
   "metadata": {},
   "outputs": [
    {
     "data": {
      "text/html": [
       "<div>\n",
       "<style scoped>\n",
       "    .dataframe tbody tr th:only-of-type {\n",
       "        vertical-align: middle;\n",
       "    }\n",
       "\n",
       "    .dataframe tbody tr th {\n",
       "        vertical-align: top;\n",
       "    }\n",
       "\n",
       "    .dataframe thead th {\n",
       "        text-align: right;\n",
       "    }\n",
       "</style>\n",
       "<table border=\"1\" class=\"dataframe\">\n",
       "  <thead>\n",
       "    <tr style=\"text-align: right;\">\n",
       "      <th></th>\n",
       "      <th>item_price</th>\n",
       "      <th>item_cnt_day</th>\n",
       "    </tr>\n",
       "  </thead>\n",
       "  <tbody>\n",
       "    <tr>\n",
       "      <th>count</th>\n",
       "      <td>2935848.00</td>\n",
       "      <td>2935848.00</td>\n",
       "    </tr>\n",
       "    <tr>\n",
       "      <th>mean</th>\n",
       "      <td>890.75</td>\n",
       "      <td>1.24</td>\n",
       "    </tr>\n",
       "    <tr>\n",
       "      <th>std</th>\n",
       "      <td>1720.49</td>\n",
       "      <td>2.62</td>\n",
       "    </tr>\n",
       "    <tr>\n",
       "      <th>min</th>\n",
       "      <td>0.00</td>\n",
       "      <td>-22.00</td>\n",
       "    </tr>\n",
       "    <tr>\n",
       "      <th>25%</th>\n",
       "      <td>249.00</td>\n",
       "      <td>1.00</td>\n",
       "    </tr>\n",
       "    <tr>\n",
       "      <th>50%</th>\n",
       "      <td>399.00</td>\n",
       "      <td>1.00</td>\n",
       "    </tr>\n",
       "    <tr>\n",
       "      <th>75%</th>\n",
       "      <td>999.00</td>\n",
       "      <td>1.00</td>\n",
       "    </tr>\n",
       "    <tr>\n",
       "      <th>max</th>\n",
       "      <td>59200.00</td>\n",
       "      <td>2169.00</td>\n",
       "    </tr>\n",
       "  </tbody>\n",
       "</table>\n",
       "</div>"
      ],
      "text/plain": [
       "       item_price  item_cnt_day\n",
       "count  2935848.00    2935848.00\n",
       "mean       890.75          1.24\n",
       "std       1720.49          2.62\n",
       "min          0.00        -22.00\n",
       "25%        249.00          1.00\n",
       "50%        399.00          1.00\n",
       "75%        999.00          1.00\n",
       "max      59200.00       2169.00"
      ]
     },
     "execution_count": 20,
     "metadata": {},
     "output_type": "execute_result"
    }
   ],
   "source": [
    "train[['item_price','item_cnt_day']].describe()"
   ]
  },
  {
   "cell_type": "code",
   "execution_count": 21,
   "metadata": {},
   "outputs": [
    {
     "data": {
      "image/png": "[encoded data removed]",
      "text/plain": [
       "<Figure size 1440x1152 with 8 Axes>"
      ]
     },
     "metadata": {},
     "output_type": "display_data"
    }
   ],
   "source": [
    "sns.set_style(style=\"darkgrid\")\n",
    "\n",
    "f, ax = plt.subplots(4, 2, figsize=(20,16))\n",
    "\n",
    "sns.distplot(x=train.item_price, axlabel=\"item_price\", ax=ax[0,0]) # item_price distribution\n",
    "\n",
    "sns.distplot(x=train.item_cnt_day, axlabel=\"item_cnt_day\", ax=ax[0,1]) # item_cnt_day distribution\n",
    "\n",
    "train.groupby('date_block_num').item_cnt_day.sum().plot(ax=ax[1,0]) # total sales count per month\n",
    "ax[1,0].set_ylabel('Total Sales Count')\n",
    "\n",
    "train.groupby('date_block_num').item_price.mean().plot(ax=ax[1,1]) # average price per month\n",
    "ax[1,1].set_ylabel('Average Price')\n",
    "\n",
    "train.groupby('shop_id').item_cnt_day.sum().plot(kind='bar', ax=ax[2,0]) # total sales count per shop\n",
    "ax[2,0].set_ylabel('Total Sales Count')\n",
    "\n",
    "train.groupby('item_category_id').item_cnt_day.sum().plot(kind='bar', ax=ax[2,1]) # total sales count per item category\n",
    "ax[2,1].tick_params(axis='x', labelsize=8.24)\n",
    "ax[2,1].set_ylabel('Total Sales Count')\n",
    "\n",
    "train.groupby('shop_id').item_price.mean().plot(kind='bar', ax=ax[3,0]) # average price per shop\n",
    "ax[3,0].set_ylabel('Average Price')\n",
    "\n",
    "train.groupby('item_category_id').item_price.mean().plot(kind='bar', ax=ax[3,1]) # average price per item category\n",
    "ax[3,1].tick_params(axis='x', labelsize=8.24)\n",
    "ax[3,1].set_ylabel('Average Price')\n",
    "\n",
    "plt.savefig('exploration1.png')"
   ]
  },
  {
   "cell_type": "code",
   "execution_count": 22,
   "metadata": {},
   "outputs": [
    {
     "data": {
      "image/png": "[encoded data removed]",
      "text/plain": [
       "<Figure size 1440x252 with 2 Axes>"
      ]
     },
     "metadata": {},
     "output_type": "display_data"
    }
   ],
   "source": [
    "f, ax = plt.subplots(1, 2, figsize=(20,3.5))\n",
    "\n",
    "sns.boxplot(train.groupby(['item_id'])['item_cnt_day'].sum(), showfliers=False, color='#448ee4', ax=ax[0]) # distribution of total sales count for each item\n",
    "ax[0].set_title('Distribution of Total Sales Count For Each Item')\n",
    "ax[0].set_xlabel('Total Sales Count')\n",
    "\n",
    "sns.boxplot(train.groupby(['item_id'])['item_price'].mean(), showfliers=False, color='#448ee4', ax=ax[1]) # distrubution of average item prices for each item\n",
    "ax[1].set_title('Distribution of Average Item Prices For Each Item')\n",
    "ax[1].set_xlabel('Average Item Price')\n",
    "\n",
    "plt.savefig('exploration2.png')"
   ]
  },
  {
   "cell_type": "code",
   "execution_count": 23,
   "metadata": {},
   "outputs": [
    {
     "data": {
      "image/png": "[encoded data removed]",
      "text/plain": [
       "<Figure size 1440x288 with 3 Axes>"
      ]
     },
     "metadata": {},
     "output_type": "display_data"
    }
   ],
   "source": [
    "f, ax = plt.subplots(1, 3, figsize=(20,4))\n",
    "\n",
    "sns.barplot(y=train.groupby(['shop_id'])['item_cnt_day'].sum().sort_values(ascending=False)[:20].index, \n",
    "            x=train.groupby(['shop_id'])['item_cnt_day'].sum().sort_values(ascending=False)[:20].tolist(), \n",
    "            order=train.groupby(['shop_id'])['item_cnt_day'].sum().sort_values(ascending=False)[:20].index, orient='h', ax=ax[0])\n",
    "ax[0].set_title('Top 20 Shop Id\\'s with Most Sales Count')\n",
    "\n",
    "sns.barplot(y=train.groupby(['item_category_id'])['item_cnt_day'].sum().sort_values(ascending=False)[:20].index, \n",
    "            x=train.groupby(['item_category_id'])['item_cnt_day'].sum().sort_values(ascending=False)[:20].tolist(), \n",
    "            order=train.groupby(['item_category_id'])['item_cnt_day'].sum().sort_values(ascending=False)[:20].index, orient='h', ax=ax[1])\n",
    "ax[1].set_title('Top 20 Item Category Id\\'s with Most Sales Count')\n",
    "\n",
    "sns.barplot(y=train.groupby(['item_id'])['item_cnt_day'].sum().sort_values(ascending=False)[:20].index, \n",
    "            x=train.groupby(['item_id'])['item_cnt_day'].sum().sort_values(ascending=False)[:20].tolist(), \n",
    "            order=train.groupby(['item_id'])['item_cnt_day'].sum().sort_values(ascending=False)[:20].index, orient='h', ax=ax[2])\n",
    "ax[2].set_title('Top 20 Item Id\\'s with Most Sales Count')\n",
    "\n",
    "plt.savefig('exploration3.png')"
   ]
  },
  {
   "cell_type": "code",
   "execution_count": 24,
   "metadata": {},
   "outputs": [
    {
     "name": "stdout",
     "output_type": "stream",
     "text": [
      "10 Most Frequent Item Prices:\n",
      "299.00    291352\n",
      "399.00    242603\n",
      "149.00    218432\n",
      "199.00    184044\n",
      "349.00    101461\n",
      "599.00     95673\n",
      "999.00     82784\n",
      "799.00     77882\n",
      "249.00     77685\n",
      "699.00     76493\n",
      "Name: item_price, dtype: int64\n",
      "______________________________________________________________________________________________________________________________________________________\n",
      "\n",
      "10 Highest Item Prices: [59200.0, 50999.0, 49782.0, 42990.0, 42000.0, 41990.0, 40991.0, 40900.0, 37991.0, 36990.0]\n",
      "______________________________________________________________________________________________________________________________________________________\n",
      "\n",
      "10 Lowest Item Prices: [0.0, 0.07, 0.0875, 0.09, 0.1, 0.2, 0.5, 0.9087137, 0.99, 1.0]\n",
      "______________________________________________________________________________________________________________________________________________________\n",
      "\n",
      "10 Most Frequent Daily Sales Count:\n",
      " 1    2629371\n",
      " 2     194201\n",
      " 3      47350\n",
      " 4      19685\n",
      " 5      10474\n",
      "-1       7252\n",
      " 6       6338\n",
      " 7       4057\n",
      " 8       2903\n",
      " 9       2177\n",
      "Name: item_cnt_day, dtype: int64\n",
      "______________________________________________________________________________________________________________________________________________________\n",
      "\n",
      "10 Highest Daily Sales Count: [2169, 1000, 669, 637, 624, 539, 533, 512, 508, 504]\n",
      "______________________________________________________________________________________________________________________________________________________\n",
      "\n",
      "10 Lowest Daily Sales Count: [1, 2, 3, 4, 5, 6, 7, 8, 9, 10, 11]\n",
      "\n"
     ]
    }
   ],
   "source": [
    "print(\"10 Most Frequent Item Prices:\\n\" + str(train.item_price.value_counts().head(10)))\n",
    "print('_'*150 + '\\n')\n",
    "print(\"10 Highest Item Prices: \" + str(sorted(train.item_price.unique(), reverse=True)[:10]))\n",
    "print('_'*150 + '\\n')\n",
    "print(\"10 Lowest Item Prices: \" + str(sorted(train.item_price.unique())[:10]))\n",
    "print('_'*150 + '\\n')\n",
    "print(\"10 Most Frequent Daily Sales Count:\\n\" + str(train.item_cnt_day.value_counts().head(10)))\n",
    "print('_'*150 + '\\n')\n",
    "print(\"10 Highest Daily Sales Count: \" + str(sorted(train.item_cnt_day.unique(), reverse=True)[:10]))\n",
    "print('_'*150 + '\\n')\n",
    "print(\"10 Lowest Daily Sales Count: \" + str(sorted(train.item_cnt_day.unique())[9:20]) + '\\n')"
   ]
  },
  {
   "cell_type": "markdown",
   "metadata": {},
   "source": [
    "### 5 Feature Engineering"
   ]
  },
  {
   "cell_type": "markdown",
   "metadata": {},
   "source": [
    "#### Feature Selection"
   ]
  },
  {
   "cell_type": "markdown",
   "metadata": {},
   "source": [
    "Names of items, item categories, shops are not needed for the algorithms. Select only **date**, **date_block_num**, **item_id**, **item_category_id**, **shop_id**, **item_price**, **item_cnt_day** features for the training set.<br>"
   ]
  },
  {
   "cell_type": "code",
   "execution_count": 25,
   "metadata": {},
   "outputs": [],
   "source": [
    "# drop unnecessary columns and reorder\n",
    "train.drop(columns=['item_name', 'item_category_name', 'shop_name'], inplace=True)\n",
    "train = train[['date', 'date_block_num', 'item_id', 'item_category_id', 'shop_id', 'item_price', 'item_cnt_day']]"
   ]
  },
  {
   "cell_type": "markdown",
   "metadata": {},
   "source": [
    "Since the datasets are of products, the values are discrete and are not related to their neighbor values. So dropping unnecessary values won't affect the algorithm.<br>\n",
    "Drop all values in the train set that do not appear in the test set. Use only the values that appear in the test set."
   ]
  },
  {
   "cell_type": "code",
   "execution_count": 26,
   "metadata": {},
   "outputs": [],
   "source": [
    "train = train[train.shop_id.isin(test['shop_id'].unique())]\n",
    "train = train[train.item_id.isin(test['item_id'].unique())]"
   ]
  },
  {
   "cell_type": "markdown",
   "metadata": {},
   "source": [
    "#### Clip Target into [0:20] Range"
   ]
  },
  {
   "cell_type": "code",
   "execution_count": 27,
   "metadata": {},
   "outputs": [],
   "source": [
    "train.item_cnt_day = train.item_cnt_day.clip(0,20)"
   ]
  },
  {
   "cell_type": "markdown",
   "metadata": {},
   "source": [
    "#### Feature Extraction"
   ]
  },
  {
   "cell_type": "code",
   "execution_count": 28,
   "metadata": {},
   "outputs": [
    {
     "name": "stdout",
     "output_type": "stream",
     "text": [
      "<class 'pandas.core.frame.DataFrame'>\n",
      "Int64Index: 600159 entries, 0 to 600158\n",
      "Data columns (total 9 columns):\n",
      " #   Column            Non-Null Count   Dtype  \n",
      "---  ------            --------------   -----  \n",
      " 0   date_block_num    600159 non-null  int8   \n",
      " 1   shop_id           600159 non-null  int8   \n",
      " 2   item_category_id  600159 non-null  int8   \n",
      " 3   item_id           600159 non-null  int16  \n",
      " 4   item_price        600159 non-null  float32\n",
      " 5   mean_item_price   600159 non-null  float32\n",
      " 6   item_cnt          600159 non-null  int16  \n",
      " 7   mean_item_cnt     600159 non-null  float32\n",
      " 8   transactions      600159 non-null  int8   \n",
      "dtypes: float32(3), int16(2), int8(4)\n",
      "memory usage: 16.0 MB\n",
      "None\n"
     ]
    },
    {
     "data": {
      "text/html": [
       "<div>\n",
       "<style scoped>\n",
       "    .dataframe tbody tr th:only-of-type {\n",
       "        vertical-align: middle;\n",
       "    }\n",
       "\n",
       "    .dataframe tbody tr th {\n",
       "        vertical-align: top;\n",
       "    }\n",
       "\n",
       "    .dataframe thead th {\n",
       "        text-align: right;\n",
       "    }\n",
       "</style>\n",
       "<table border=\"1\" class=\"dataframe\">\n",
       "  <thead>\n",
       "    <tr style=\"text-align: right;\">\n",
       "      <th></th>\n",
       "      <th>date_block_num</th>\n",
       "      <th>shop_id</th>\n",
       "      <th>item_category_id</th>\n",
       "      <th>item_id</th>\n",
       "      <th>item_price</th>\n",
       "      <th>mean_item_price</th>\n",
       "      <th>item_cnt</th>\n",
       "      <th>mean_item_cnt</th>\n",
       "      <th>transactions</th>\n",
       "    </tr>\n",
       "  </thead>\n",
       "  <tbody>\n",
       "    <tr>\n",
       "      <th>0</th>\n",
       "      <td>0</td>\n",
       "      <td>2</td>\n",
       "      <td>2</td>\n",
       "      <td>5572</td>\n",
       "      <td>10730.00</td>\n",
       "      <td>1532.86</td>\n",
       "      <td>9</td>\n",
       "      <td>1.29</td>\n",
       "      <td>7</td>\n",
       "    </tr>\n",
       "    <tr>\n",
       "      <th>1</th>\n",
       "      <td>0</td>\n",
       "      <td>2</td>\n",
       "      <td>2</td>\n",
       "      <td>5643</td>\n",
       "      <td>4775.21</td>\n",
       "      <td>2387.60</td>\n",
       "      <td>1</td>\n",
       "      <td>0.50</td>\n",
       "      <td>2</td>\n",
       "    </tr>\n",
       "    <tr>\n",
       "      <th>2</th>\n",
       "      <td>0</td>\n",
       "      <td>2</td>\n",
       "      <td>5</td>\n",
       "      <td>5583</td>\n",
       "      <td>1188.30</td>\n",
       "      <td>594.15</td>\n",
       "      <td>2</td>\n",
       "      <td>1.00</td>\n",
       "      <td>2</td>\n",
       "    </tr>\n",
       "    <tr>\n",
       "      <th>3</th>\n",
       "      <td>0</td>\n",
       "      <td>2</td>\n",
       "      <td>6</td>\n",
       "      <td>7893</td>\n",
       "      <td>5970.00</td>\n",
       "      <td>1990.00</td>\n",
       "      <td>3</td>\n",
       "      <td>1.00</td>\n",
       "      <td>3</td>\n",
       "    </tr>\n",
       "    <tr>\n",
       "      <th>4</th>\n",
       "      <td>0</td>\n",
       "      <td>2</td>\n",
       "      <td>6</td>\n",
       "      <td>7894</td>\n",
       "      <td>1490.00</td>\n",
       "      <td>1490.00</td>\n",
       "      <td>1</td>\n",
       "      <td>1.00</td>\n",
       "      <td>1</td>\n",
       "    </tr>\n",
       "  </tbody>\n",
       "</table>\n",
       "</div>"
      ],
      "text/plain": [
       "   date_block_num  shop_id  item_category_id  item_id  item_price  \\\n",
       "0               0        2                 2     5572    10730.00   \n",
       "1               0        2                 2     5643     4775.21   \n",
       "2               0        2                 5     5583     1188.30   \n",
       "3               0        2                 6     7893     5970.00   \n",
       "4               0        2                 6     7894     1490.00   \n",
       "\n",
       "   mean_item_price  item_cnt  mean_item_cnt  transactions  \n",
       "0          1532.86         9           1.29             7  \n",
       "1          2387.60         1           0.50             2  \n",
       "2           594.15         2           1.00             2  \n",
       "3          1990.00         3           1.00             3  \n",
       "4          1490.00         1           1.00             1  "
      ]
     },
     "execution_count": 28,
     "metadata": {},
     "output_type": "execute_result"
    }
   ],
   "source": [
    "# group by month in this case column date_block_num and aggregate features\n",
    "train = train.sort_values('date').groupby(['date_block_num', 'shop_id', 'item_category_id', 'item_id'], as_index=False)\n",
    "train = train.agg({'item_price':['sum', 'mean'], 'item_cnt_day':['sum', 'mean','count']})\n",
    "train.columns = ['date_block_num', 'shop_id', 'item_category_id', 'item_id', 'item_price', 'mean_item_price', 'item_cnt', 'mean_item_cnt', 'transactions']\n",
    "\n",
    "# numeric column optimization\n",
    "train[['date_block_num','shop_id','item_category_id','item_id','item_cnt','transactions']] = train[['date_block_num','shop_id','item_category_id','item_id',\n",
    "                                                                                                    'item_cnt','transactions']].apply(pd.to_numeric,downcast='integer')\n",
    "train[['item_price','mean_item_price','mean_item_cnt']] = train[['item_price','mean_item_price','mean_item_cnt']].apply(pd.to_numeric,downcast='float')\n",
    "\n",
    "print(train.info())\n",
    "train.head() # for every shop-item pair in each month, statistics calculated for item prices and item counts per day"
   ]
  },
  {
   "cell_type": "markdown",
   "metadata": {},
   "source": [
    "#### Construction of Monthly Sales DataFrame"
   ]
  },
  {
   "cell_type": "code",
   "execution_count": 29,
   "metadata": {},
   "outputs": [
    {
     "name": "stdout",
     "output_type": "stream",
     "text": [
      "<class 'pandas.core.frame.DataFrame'>\n",
      "RangeIndex: 7497000 entries, 0 to 7496999\n",
      "Data columns (total 9 columns):\n",
      " #   Column            Dtype  \n",
      "---  ------            -----  \n",
      " 0   date_block_num    int8   \n",
      " 1   shop_id           int8   \n",
      " 2   item_category_id  int8   \n",
      " 3   item_id           int16  \n",
      " 4   item_price        float32\n",
      " 5   mean_item_price   float32\n",
      " 6   item_cnt          int8   \n",
      " 7   mean_item_cnt     float32\n",
      " 8   transactions      int8   \n",
      "dtypes: float32(3), int16(1), int8(5)\n",
      "memory usage: 135.8 MB\n",
      "None\n"
     ]
    },
    {
     "data": {
      "text/html": [
       "<div>\n",
       "<style scoped>\n",
       "    .dataframe tbody tr th:only-of-type {\n",
       "        vertical-align: middle;\n",
       "    }\n",
       "\n",
       "    .dataframe tbody tr th {\n",
       "        vertical-align: top;\n",
       "    }\n",
       "\n",
       "    .dataframe thead th {\n",
       "        text-align: right;\n",
       "    }\n",
       "</style>\n",
       "<table border=\"1\" class=\"dataframe\">\n",
       "  <thead>\n",
       "    <tr style=\"text-align: right;\">\n",
       "      <th></th>\n",
       "      <th>date_block_num</th>\n",
       "      <th>shop_id</th>\n",
       "      <th>item_category_id</th>\n",
       "      <th>item_id</th>\n",
       "      <th>item_price</th>\n",
       "      <th>mean_item_price</th>\n",
       "      <th>item_cnt</th>\n",
       "      <th>mean_item_cnt</th>\n",
       "      <th>transactions</th>\n",
       "    </tr>\n",
       "  </thead>\n",
       "  <tbody>\n",
       "    <tr>\n",
       "      <th>0</th>\n",
       "      <td>0</td>\n",
       "      <td>2</td>\n",
       "      <td>0</td>\n",
       "      <td>5441</td>\n",
       "      <td>0.00</td>\n",
       "      <td>0.00</td>\n",
       "      <td>0</td>\n",
       "      <td>0.00</td>\n",
       "      <td>0</td>\n",
       "    </tr>\n",
       "    <tr>\n",
       "      <th>1</th>\n",
       "      <td>0</td>\n",
       "      <td>2</td>\n",
       "      <td>2</td>\n",
       "      <td>5572</td>\n",
       "      <td>10730.00</td>\n",
       "      <td>1532.86</td>\n",
       "      <td>9</td>\n",
       "      <td>1.29</td>\n",
       "      <td>7</td>\n",
       "    </tr>\n",
       "    <tr>\n",
       "      <th>2</th>\n",
       "      <td>0</td>\n",
       "      <td>2</td>\n",
       "      <td>2</td>\n",
       "      <td>5621</td>\n",
       "      <td>0.00</td>\n",
       "      <td>0.00</td>\n",
       "      <td>0</td>\n",
       "      <td>0.00</td>\n",
       "      <td>0</td>\n",
       "    </tr>\n",
       "    <tr>\n",
       "      <th>3</th>\n",
       "      <td>0</td>\n",
       "      <td>2</td>\n",
       "      <td>2</td>\n",
       "      <td>5634</td>\n",
       "      <td>0.00</td>\n",
       "      <td>0.00</td>\n",
       "      <td>0</td>\n",
       "      <td>0.00</td>\n",
       "      <td>0</td>\n",
       "    </tr>\n",
       "    <tr>\n",
       "      <th>4</th>\n",
       "      <td>0</td>\n",
       "      <td>2</td>\n",
       "      <td>2</td>\n",
       "      <td>5637</td>\n",
       "      <td>0.00</td>\n",
       "      <td>0.00</td>\n",
       "      <td>0</td>\n",
       "      <td>0.00</td>\n",
       "      <td>0</td>\n",
       "    </tr>\n",
       "  </tbody>\n",
       "</table>\n",
       "</div>"
      ],
      "text/plain": [
       "   date_block_num  shop_id  item_category_id  item_id  item_price  \\\n",
       "0               0        2                 0     5441        0.00   \n",
       "1               0        2                 2     5572    10730.00   \n",
       "2               0        2                 2     5621        0.00   \n",
       "3               0        2                 2     5634        0.00   \n",
       "4               0        2                 2     5637        0.00   \n",
       "\n",
       "   mean_item_price  item_cnt  mean_item_cnt  transactions  \n",
       "0             0.00         0           0.00             0  \n",
       "1          1532.86         9           1.29             7  \n",
       "2             0.00         0           0.00             0  \n",
       "3             0.00         0           0.00             0  \n",
       "4             0.00         0           0.00             0  "
      ]
     },
     "execution_count": 29,
     "metadata": {},
     "output_type": "execute_result"
    }
   ],
   "source": [
    "# Build a complete monthly sales dataframe with all the possible combinations of ['date_block_num','shop_id','item_id'] from the test set,\n",
    "# plus date_block_num 34 which is the target month to be predicted.\n",
    "\n",
    "months = train['date_block_num'].unique().tolist()\n",
    "months.append(34)\n",
    "\n",
    "new = []\n",
    "for i in months: \n",
    "    for shop in test['shop_id'].unique():\n",
    "        for item in test['item_id'].unique():\n",
    "            new.append([i, shop, item])\n",
    "            \n",
    "new = pd.DataFrame(new, dtype='int16')\n",
    "\n",
    "old = train[['date_block_num', 'shop_id', 'item_id']].values.tolist()\n",
    "\n",
    "\n",
    "new = new.append(old, ignore_index=True)\n",
    "new.columns = ['date_block_num', 'shop_id', 'item_id']\n",
    "\n",
    "new = new.apply(pd.to_numeric, downcast='integer')\n",
    "new.drop_duplicates(keep=False, inplace=True)\n",
    "\n",
    "\n",
    "train = train.append(new)\n",
    "train['item_category_id'] = train['item_id'].map(items.set_index('item_id')['item_category_id'])\n",
    "train.fillna(0, inplace=True) # fill in missing values with 0\n",
    "\n",
    "train.item_category_id = train.item_category_id.astype('int8')\n",
    "train.item_cnt = train.item_cnt.astype('int8')\n",
    "train.transactions = train.transactions.astype('int8')\n",
    "\n",
    "train.sort_values(by=['date_block_num','shop_id','item_category_id','item_id'], ignore_index=True, inplace=True)\n",
    "\n",
    "print(train.info())\n",
    "train.head() # each row represents a unique combination of month, shop id, item id from the test set; missing values are filled in with 0"
   ]
  },
  {
   "cell_type": "markdown",
   "metadata": {},
   "source": [
    "#### Previous Value Benchmark"
   ]
  },
  {
   "cell_type": "markdown",
   "metadata": {},
   "source": [
    "Previous Value Benchmark is produced by generating lagged values of the previous month's total item counts, *item_cnt*. The new feature *item_cnt_lagged* represents total item counts for each item id from the previous month. For the target month November 2015 whose *date_block_num value* is 34, its item count is from that of October 2015, *date_block_num* of 33."
   ]
  },
  {
   "cell_type": "code",
   "execution_count": 30,
   "metadata": {},
   "outputs": [],
   "source": [
    "train['item_cnt_lagged'] = train['item_cnt'].shift(train.groupby(['date_block_num']).size()[0]).fillna(0).astype('int8')"
   ]
  },
  {
   "cell_type": "markdown",
   "metadata": {},
   "source": [
    "#### Log Transformation"
   ]
  },
  {
   "cell_type": "code",
   "execution_count": 31,
   "metadata": {},
   "outputs": [],
   "source": [
    "# a skewness with an absolute value > 0.5 is considered at least moderately skewed\n",
    "train_skewness = train[['item_price','mean_item_price','item_cnt','mean_item_cnt','transactions','item_cnt_lagged']].apply(lambda x: skew(x))\n",
    "train_skewness = train_skewness[abs(train_skewness) > 0.5]\n",
    "train_skewed_features = train_skewness.index\n",
    "train[train_skewed_features] = np.log1p(train[train_skewed_features])"
   ]
  },
  {
   "cell_type": "markdown",
   "metadata": {},
   "source": [
    "#### Now the new train sales dataframe has been created. Each row represents information for each item_id for each date_block_num value (month). New statistical features have been extracted and skewed features have been log transformed. The dataframe is sorted in the following order: date_block_num, shop_id, item_category_id, item_id."
   ]
  },
  {
   "cell_type": "code",
   "execution_count": 32,
   "metadata": {},
   "outputs": [
    {
     "data": {
      "text/html": [
       "<div>\n",
       "<style scoped>\n",
       "    .dataframe tbody tr th:only-of-type {\n",
       "        vertical-align: middle;\n",
       "    }\n",
       "\n",
       "    .dataframe tbody tr th {\n",
       "        vertical-align: top;\n",
       "    }\n",
       "\n",
       "    .dataframe thead th {\n",
       "        text-align: right;\n",
       "    }\n",
       "</style>\n",
       "<table border=\"1\" class=\"dataframe\">\n",
       "  <thead>\n",
       "    <tr style=\"text-align: right;\">\n",
       "      <th></th>\n",
       "      <th>date_block_num</th>\n",
       "      <th>shop_id</th>\n",
       "      <th>item_category_id</th>\n",
       "      <th>item_id</th>\n",
       "      <th>item_price</th>\n",
       "      <th>mean_item_price</th>\n",
       "      <th>item_cnt</th>\n",
       "      <th>mean_item_cnt</th>\n",
       "      <th>transactions</th>\n",
       "      <th>item_cnt_lagged</th>\n",
       "    </tr>\n",
       "  </thead>\n",
       "  <tbody>\n",
       "    <tr>\n",
       "      <th>0</th>\n",
       "      <td>0</td>\n",
       "      <td>2</td>\n",
       "      <td>0</td>\n",
       "      <td>5441</td>\n",
       "      <td>0.00</td>\n",
       "      <td>0.00</td>\n",
       "      <td>0.00</td>\n",
       "      <td>0.00</td>\n",
       "      <td>0.00</td>\n",
       "      <td>0.00</td>\n",
       "    </tr>\n",
       "    <tr>\n",
       "      <th>1</th>\n",
       "      <td>0</td>\n",
       "      <td>2</td>\n",
       "      <td>2</td>\n",
       "      <td>5572</td>\n",
       "      <td>9.28</td>\n",
       "      <td>7.34</td>\n",
       "      <td>2.30</td>\n",
       "      <td>0.83</td>\n",
       "      <td>2.08</td>\n",
       "      <td>0.00</td>\n",
       "    </tr>\n",
       "    <tr>\n",
       "      <th>2</th>\n",
       "      <td>0</td>\n",
       "      <td>2</td>\n",
       "      <td>2</td>\n",
       "      <td>5621</td>\n",
       "      <td>0.00</td>\n",
       "      <td>0.00</td>\n",
       "      <td>0.00</td>\n",
       "      <td>0.00</td>\n",
       "      <td>0.00</td>\n",
       "      <td>0.00</td>\n",
       "    </tr>\n",
       "    <tr>\n",
       "      <th>3</th>\n",
       "      <td>0</td>\n",
       "      <td>2</td>\n",
       "      <td>2</td>\n",
       "      <td>5634</td>\n",
       "      <td>0.00</td>\n",
       "      <td>0.00</td>\n",
       "      <td>0.00</td>\n",
       "      <td>0.00</td>\n",
       "      <td>0.00</td>\n",
       "      <td>0.00</td>\n",
       "    </tr>\n",
       "    <tr>\n",
       "      <th>4</th>\n",
       "      <td>0</td>\n",
       "      <td>2</td>\n",
       "      <td>2</td>\n",
       "      <td>5637</td>\n",
       "      <td>0.00</td>\n",
       "      <td>0.00</td>\n",
       "      <td>0.00</td>\n",
       "      <td>0.00</td>\n",
       "      <td>0.00</td>\n",
       "      <td>0.00</td>\n",
       "    </tr>\n",
       "    <tr>\n",
       "      <th>...</th>\n",
       "      <td>...</td>\n",
       "      <td>...</td>\n",
       "      <td>...</td>\n",
       "      <td>...</td>\n",
       "      <td>...</td>\n",
       "      <td>...</td>\n",
       "      <td>...</td>\n",
       "      <td>...</td>\n",
       "      <td>...</td>\n",
       "      <td>...</td>\n",
       "    </tr>\n",
       "    <tr>\n",
       "      <th>7496995</th>\n",
       "      <td>34</td>\n",
       "      <td>59</td>\n",
       "      <td>79</td>\n",
       "      <td>17717</td>\n",
       "      <td>0.00</td>\n",
       "      <td>0.00</td>\n",
       "      <td>0.00</td>\n",
       "      <td>0.00</td>\n",
       "      <td>0.00</td>\n",
       "      <td>2.64</td>\n",
       "    </tr>\n",
       "    <tr>\n",
       "      <th>7496996</th>\n",
       "      <td>34</td>\n",
       "      <td>59</td>\n",
       "      <td>83</td>\n",
       "      <td>22087</td>\n",
       "      <td>0.00</td>\n",
       "      <td>0.00</td>\n",
       "      <td>0.00</td>\n",
       "      <td>0.00</td>\n",
       "      <td>0.00</td>\n",
       "      <td>1.95</td>\n",
       "    </tr>\n",
       "    <tr>\n",
       "      <th>7496997</th>\n",
       "      <td>34</td>\n",
       "      <td>59</td>\n",
       "      <td>83</td>\n",
       "      <td>22088</td>\n",
       "      <td>0.00</td>\n",
       "      <td>0.00</td>\n",
       "      <td>0.00</td>\n",
       "      <td>0.00</td>\n",
       "      <td>0.00</td>\n",
       "      <td>1.10</td>\n",
       "    </tr>\n",
       "    <tr>\n",
       "      <th>7496998</th>\n",
       "      <td>34</td>\n",
       "      <td>59</td>\n",
       "      <td>83</td>\n",
       "      <td>22091</td>\n",
       "      <td>0.00</td>\n",
       "      <td>0.00</td>\n",
       "      <td>0.00</td>\n",
       "      <td>0.00</td>\n",
       "      <td>0.00</td>\n",
       "      <td>0.69</td>\n",
       "    </tr>\n",
       "    <tr>\n",
       "      <th>7496999</th>\n",
       "      <td>34</td>\n",
       "      <td>59</td>\n",
       "      <td>83</td>\n",
       "      <td>22092</td>\n",
       "      <td>0.00</td>\n",
       "      <td>0.00</td>\n",
       "      <td>0.00</td>\n",
       "      <td>0.00</td>\n",
       "      <td>0.00</td>\n",
       "      <td>0.00</td>\n",
       "    </tr>\n",
       "  </tbody>\n",
       "</table>\n",
       "<p>7497000 rows × 10 columns</p>\n",
       "</div>"
      ],
      "text/plain": [
       "         date_block_num  shop_id  item_category_id  item_id  item_price  \\\n",
       "0                     0        2                 0     5441        0.00   \n",
       "1                     0        2                 2     5572        9.28   \n",
       "2                     0        2                 2     5621        0.00   \n",
       "3                     0        2                 2     5634        0.00   \n",
       "4                     0        2                 2     5637        0.00   \n",
       "...                 ...      ...               ...      ...         ...   \n",
       "7496995              34       59                79    17717        0.00   \n",
       "7496996              34       59                83    22087        0.00   \n",
       "7496997              34       59                83    22088        0.00   \n",
       "7496998              34       59                83    22091        0.00   \n",
       "7496999              34       59                83    22092        0.00   \n",
       "\n",
       "         mean_item_price  item_cnt  mean_item_cnt  transactions  \\\n",
       "0                   0.00      0.00           0.00          0.00   \n",
       "1                   7.34      2.30           0.83          2.08   \n",
       "2                   0.00      0.00           0.00          0.00   \n",
       "3                   0.00      0.00           0.00          0.00   \n",
       "4                   0.00      0.00           0.00          0.00   \n",
       "...                  ...       ...            ...           ...   \n",
       "7496995             0.00      0.00           0.00          0.00   \n",
       "7496996             0.00      0.00           0.00          0.00   \n",
       "7496997             0.00      0.00           0.00          0.00   \n",
       "7496998             0.00      0.00           0.00          0.00   \n",
       "7496999             0.00      0.00           0.00          0.00   \n",
       "\n",
       "         item_cnt_lagged  \n",
       "0                   0.00  \n",
       "1                   0.00  \n",
       "2                   0.00  \n",
       "3                   0.00  \n",
       "4                   0.00  \n",
       "...                  ...  \n",
       "7496995             2.64  \n",
       "7496996             1.95  \n",
       "7496997             1.10  \n",
       "7496998             0.69  \n",
       "7496999             0.00  \n",
       "\n",
       "[7497000 rows x 10 columns]"
      ]
     },
     "execution_count": 32,
     "metadata": {},
     "output_type": "execute_result"
    }
   ],
   "source": [
    "train"
   ]
  },
  {
   "cell_type": "code",
   "execution_count": 33,
   "metadata": {},
   "outputs": [
    {
     "name": "stdout",
     "output_type": "stream",
     "text": [
      "<class 'pandas.core.frame.DataFrame'>\n",
      "RangeIndex: 7497000 entries, 0 to 7496999\n",
      "Data columns (total 10 columns):\n",
      " #   Column            Dtype  \n",
      "---  ------            -----  \n",
      " 0   date_block_num    int8   \n",
      " 1   shop_id           int8   \n",
      " 2   item_category_id  int8   \n",
      " 3   item_id           int16  \n",
      " 4   item_price        float32\n",
      " 5   mean_item_price   float32\n",
      " 6   item_cnt          float32\n",
      " 7   mean_item_cnt     float32\n",
      " 8   transactions      float32\n",
      " 9   item_cnt_lagged   float32\n",
      "dtypes: float32(6), int16(1), int8(3)\n",
      "memory usage: 207.3 MB\n"
     ]
    }
   ],
   "source": [
    "train.info()"
   ]
  },
  {
   "cell_type": "code",
   "execution_count": 34,
   "metadata": {},
   "outputs": [
    {
     "data": {
      "text/html": [
       "<div>\n",
       "<style scoped>\n",
       "    .dataframe tbody tr th:only-of-type {\n",
       "        vertical-align: middle;\n",
       "    }\n",
       "\n",
       "    .dataframe tbody tr th {\n",
       "        vertical-align: top;\n",
       "    }\n",
       "\n",
       "    .dataframe thead th {\n",
       "        text-align: right;\n",
       "    }\n",
       "</style>\n",
       "<table border=\"1\" class=\"dataframe\">\n",
       "  <thead>\n",
       "    <tr style=\"text-align: right;\">\n",
       "      <th></th>\n",
       "      <th>date_block_num</th>\n",
       "      <th>shop_id</th>\n",
       "      <th>item_category_id</th>\n",
       "      <th>item_id</th>\n",
       "      <th>item_price</th>\n",
       "      <th>mean_item_price</th>\n",
       "      <th>item_cnt</th>\n",
       "      <th>mean_item_cnt</th>\n",
       "      <th>transactions</th>\n",
       "      <th>item_cnt_lagged</th>\n",
       "    </tr>\n",
       "  </thead>\n",
       "  <tbody>\n",
       "    <tr>\n",
       "      <th>count</th>\n",
       "      <td>7497000.00</td>\n",
       "      <td>7497000.00</td>\n",
       "      <td>7497000.00</td>\n",
       "      <td>7497000.00</td>\n",
       "      <td>7497000.00</td>\n",
       "      <td>7497000.00</td>\n",
       "      <td>7496671.00</td>\n",
       "      <td>7497000.00</td>\n",
       "      <td>7497000.00</td>\n",
       "      <td>7496671.00</td>\n",
       "    </tr>\n",
       "    <tr>\n",
       "      <th>mean</th>\n",
       "      <td>17.00</td>\n",
       "      <td>31.64</td>\n",
       "      <td>46.31</td>\n",
       "      <td>11019.40</td>\n",
       "      <td>0.54</td>\n",
       "      <td>0.50</td>\n",
       "      <td>-inf</td>\n",
       "      <td>0.06</td>\n",
       "      <td>0.08</td>\n",
       "      <td>-inf</td>\n",
       "    </tr>\n",
       "    <tr>\n",
       "      <th>std</th>\n",
       "      <td>10.10</td>\n",
       "      <td>17.56</td>\n",
       "      <td>16.72</td>\n",
       "      <td>6252.63</td>\n",
       "      <td>1.86</td>\n",
       "      <td>1.73</td>\n",
       "      <td>nan</td>\n",
       "      <td>0.20</td>\n",
       "      <td>0.29</td>\n",
       "      <td>nan</td>\n",
       "    </tr>\n",
       "    <tr>\n",
       "      <th>min</th>\n",
       "      <td>0.00</td>\n",
       "      <td>2.00</td>\n",
       "      <td>0.00</td>\n",
       "      <td>30.00</td>\n",
       "      <td>0.00</td>\n",
       "      <td>0.00</td>\n",
       "      <td>-inf</td>\n",
       "      <td>0.00</td>\n",
       "      <td>0.00</td>\n",
       "      <td>-inf</td>\n",
       "    </tr>\n",
       "    <tr>\n",
       "      <th>25%</th>\n",
       "      <td>8.00</td>\n",
       "      <td>16.00</td>\n",
       "      <td>37.00</td>\n",
       "      <td>5381.50</td>\n",
       "      <td>0.00</td>\n",
       "      <td>0.00</td>\n",
       "      <td>0.00</td>\n",
       "      <td>0.00</td>\n",
       "      <td>0.00</td>\n",
       "      <td>0.00</td>\n",
       "    </tr>\n",
       "    <tr>\n",
       "      <th>50%</th>\n",
       "      <td>17.00</td>\n",
       "      <td>34.50</td>\n",
       "      <td>43.00</td>\n",
       "      <td>11203.00</td>\n",
       "      <td>0.00</td>\n",
       "      <td>0.00</td>\n",
       "      <td>0.00</td>\n",
       "      <td>0.00</td>\n",
       "      <td>0.00</td>\n",
       "      <td>0.00</td>\n",
       "    </tr>\n",
       "    <tr>\n",
       "      <th>75%</th>\n",
       "      <td>26.00</td>\n",
       "      <td>47.00</td>\n",
       "      <td>58.00</td>\n",
       "      <td>16071.50</td>\n",
       "      <td>0.00</td>\n",
       "      <td>0.00</td>\n",
       "      <td>0.00</td>\n",
       "      <td>0.00</td>\n",
       "      <td>0.00</td>\n",
       "      <td>0.00</td>\n",
       "    </tr>\n",
       "    <tr>\n",
       "      <th>max</th>\n",
       "      <td>34.00</td>\n",
       "      <td>59.00</td>\n",
       "      <td>83.00</td>\n",
       "      <td>22167.00</td>\n",
       "      <td>13.15</td>\n",
       "      <td>10.67</td>\n",
       "      <td>4.85</td>\n",
       "      <td>3.04</td>\n",
       "      <td>3.47</td>\n",
       "      <td>4.85</td>\n",
       "    </tr>\n",
       "  </tbody>\n",
       "</table>\n",
       "</div>"
      ],
      "text/plain": [
       "       date_block_num    shop_id  item_category_id    item_id  item_price  \\\n",
       "count      7497000.00 7497000.00        7497000.00 7497000.00  7497000.00   \n",
       "mean            17.00      31.64             46.31   11019.40        0.54   \n",
       "std             10.10      17.56             16.72    6252.63        1.86   \n",
       "min              0.00       2.00              0.00      30.00        0.00   \n",
       "25%              8.00      16.00             37.00    5381.50        0.00   \n",
       "50%             17.00      34.50             43.00   11203.00        0.00   \n",
       "75%             26.00      47.00             58.00   16071.50        0.00   \n",
       "max             34.00      59.00             83.00   22167.00       13.15   \n",
       "\n",
       "       mean_item_price   item_cnt  mean_item_cnt  transactions  \\\n",
       "count       7497000.00 7496671.00     7497000.00    7497000.00   \n",
       "mean              0.50       -inf           0.06          0.08   \n",
       "std               1.73        nan           0.20          0.29   \n",
       "min               0.00       -inf           0.00          0.00   \n",
       "25%               0.00       0.00           0.00          0.00   \n",
       "50%               0.00       0.00           0.00          0.00   \n",
       "75%               0.00       0.00           0.00          0.00   \n",
       "max              10.67       4.85           3.04          3.47   \n",
       "\n",
       "       item_cnt_lagged  \n",
       "count       7496671.00  \n",
       "mean              -inf  \n",
       "std                nan  \n",
       "min               -inf  \n",
       "25%               0.00  \n",
       "50%               0.00  \n",
       "75%               0.00  \n",
       "max               4.85  "
      ]
     },
     "execution_count": 34,
     "metadata": {},
     "output_type": "execute_result"
    }
   ],
   "source": [
    "train.describe()"
   ]
  }
 ],
 "metadata": {
  "kernelspec": {
   "display_name": "Python 3",
   "language": "python",
   "name": "python3"
  },
  "language_info": {
   "codemirror_mode": {
    "name": "ipython",
    "version": 3
   },
   "file_extension": ".py",
   "mimetype": "text/x-python",
   "name": "python",
   "nbconvert_exporter": "python",
   "pygments_lexer": "ipython3",
   "version": "3.7.2"
  }
 },
 "nbformat": 4,
 "nbformat_minor": 4
}
