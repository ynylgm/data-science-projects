{
 "cells": [
  {
   "cell_type": "markdown",
   "metadata": {
    "id": "Mz4DzIIHudXN"
   },
   "source": [
    "# World Bank Science and Technology Data Analysis"
   ]
  },
  {
   "cell_type": "markdown",
   "metadata": {},
   "source": [
    "### Index\n",
    "<ol>1 <strong>Introduction</strong><br>\n",
    "    2 <b>Importing the Data</b><br>\n",
    "    3 <b>Cleaning the Data</b><br>\n",
    "    <ol><i>Missing Data</i></ol>\n",
    "    4 <b>Exploratory Data Analysis</b><br>\n",
    "    <ol><i>Descriptive Statistics</i></ol>\n",
    "    5 <b>Outliers</b><br>\n",
    "    6 <b>Exploring Relationships</b><br>\n",
    "    <ol><i>Correlations</i></ol>\n",
    "    7 <b>T-tests</b><br>\n",
    "    </ol>"
   ]
  },
  {
   "cell_type": "markdown",
   "metadata": {},
   "source": [
    "### 1 Introduction"
   ]
  },
  {
   "cell_type": "markdown",
   "metadata": {},
   "source": [
    "#### Project Description\n",
    "\n",
    "This project involves performing of the followings skills:\n",
    "* Cleaning data including removing missing data and unnecessary columns\n",
    "* Exploring data using descriptive statistics\n",
    "* Creating visualizations and analysis of the data\n",
    "* Performing statistical tests including t-tests and correlation\n",
    "\n",
    "This project focuses on performing exploratory data analysis and statistical tests. Prior to performing exploratory data analysis, data is cleaned by removing missing data and unnecessary columns to make the data easier and simpler to analyze. Then, exploratory data analysis is performed to understand the data and plot boxplots to visualize the data. Boxplots allow to investigate any outliers in the dataset. Statistical information such as minumum, maximum, interquartile range in the middle and outliers are visible on boxplots.  Next, statistical tests are performed using t-tests and correlation. Relationships between different datasets are examined through correlation and t-tests.\n",
    "\n",
    "#### Data Description\n",
    "\n",
    "Datasets this project will handle are Science & Technology in 2009 and in 2018 fetched from the World Bank website. Datasets contain numeric information pertaining to science and technology for each country in the specified years."
   ]
  },
  {
   "cell_type": "markdown",
   "metadata": {
    "id": "vsqCB5aHukLf"
   },
   "source": [
    "### 2 Importing the Data"
   ]
  },
  {
   "cell_type": "code",
   "execution_count": 1,
   "metadata": {
    "id": "pYTGJxgfum13"
   },
   "outputs": [],
   "source": [
    "import pandas as pd"
   ]
  },
  {
   "cell_type": "code",
   "execution_count": 2,
   "metadata": {
    "colab": {
     "base_uri": "https://localhost:8080/",
     "height": 272
    },
    "id": "UWXOyA-gvr4m",
    "outputId": "92e3e554-b49f-4fd2-b597-9dff0beb7b6a"
   },
   "outputs": [
    {
     "data": {
      "text/html": [
       "<div>\n",
       "<style scoped>\n",
       "    .dataframe tbody tr th:only-of-type {\n",
       "        vertical-align: middle;\n",
       "    }\n",
       "\n",
       "    .dataframe tbody tr th {\n",
       "        vertical-align: top;\n",
       "    }\n",
       "\n",
       "    .dataframe thead th {\n",
       "        text-align: right;\n",
       "    }\n",
       "</style>\n",
       "<table border=\"1\" class=\"dataframe\">\n",
       "  <thead>\n",
       "    <tr style=\"text-align: right;\">\n",
       "      <th></th>\n",
       "      <th>Country Name</th>\n",
       "      <th>High-technology exports (% of manufactured exports)</th>\n",
       "      <th>High-technology exports (current US$)</th>\n",
       "      <th>Trademark applications, total</th>\n",
       "      <th>Trademark applications, direct resident</th>\n",
       "      <th>Trademark applications, direct nonresident</th>\n",
       "      <th>Patent applications, residents</th>\n",
       "      <th>Patent applications, nonresidents</th>\n",
       "      <th>Scientific and technical journal articles</th>\n",
       "      <th>Research and development expenditure (% of GDP)</th>\n",
       "    </tr>\n",
       "  </thead>\n",
       "  <tbody>\n",
       "    <tr>\n",
       "      <th>0</th>\n",
       "      <td>Afghanistan</td>\n",
       "      <td>NaN</td>\n",
       "      <td>NaN</td>\n",
       "      <td>NaN</td>\n",
       "      <td>NaN</td>\n",
       "      <td>NaN</td>\n",
       "      <td>NaN</td>\n",
       "      <td>NaN</td>\n",
       "      <td>111.72</td>\n",
       "      <td>NaN</td>\n",
       "    </tr>\n",
       "    <tr>\n",
       "      <th>1</th>\n",
       "      <td>Albania</td>\n",
       "      <td>0.049514</td>\n",
       "      <td>591717.0</td>\n",
       "      <td>3713.0</td>\n",
       "      <td>917.0</td>\n",
       "      <td>2796.0</td>\n",
       "      <td>15.0</td>\n",
       "      <td>3.0</td>\n",
       "      <td>180.36</td>\n",
       "      <td>NaN</td>\n",
       "    </tr>\n",
       "    <tr>\n",
       "      <th>2</th>\n",
       "      <td>Algeria</td>\n",
       "      <td>NaN</td>\n",
       "      <td>NaN</td>\n",
       "      <td>9490.0</td>\n",
       "      <td>5469.0</td>\n",
       "      <td>4021.0</td>\n",
       "      <td>152.0</td>\n",
       "      <td>521.0</td>\n",
       "      <td>5231.44</td>\n",
       "      <td>NaN</td>\n",
       "    </tr>\n",
       "    <tr>\n",
       "      <th>3</th>\n",
       "      <td>American Samoa</td>\n",
       "      <td>NaN</td>\n",
       "      <td>NaN</td>\n",
       "      <td>NaN</td>\n",
       "      <td>NaN</td>\n",
       "      <td>NaN</td>\n",
       "      <td>NaN</td>\n",
       "      <td>NaN</td>\n",
       "      <td>NaN</td>\n",
       "      <td>NaN</td>\n",
       "    </tr>\n",
       "    <tr>\n",
       "      <th>4</th>\n",
       "      <td>Andorra</td>\n",
       "      <td>28.460560</td>\n",
       "      <td>33913480.0</td>\n",
       "      <td>1180.0</td>\n",
       "      <td>256.0</td>\n",
       "      <td>924.0</td>\n",
       "      <td>1.0</td>\n",
       "      <td>10.0</td>\n",
       "      <td>3.60</td>\n",
       "      <td>NaN</td>\n",
       "    </tr>\n",
       "  </tbody>\n",
       "</table>\n",
       "</div>"
      ],
      "text/plain": [
       "     Country Name  High-technology exports (% of manufactured exports)  \\\n",
       "0     Afghanistan                                                NaN     \n",
       "1         Albania                                           0.049514     \n",
       "2         Algeria                                                NaN     \n",
       "3  American Samoa                                                NaN     \n",
       "4         Andorra                                          28.460560     \n",
       "\n",
       "   High-technology exports (current US$)  Trademark applications, total  \\\n",
       "0                                    NaN                            NaN   \n",
       "1                               591717.0                         3713.0   \n",
       "2                                    NaN                         9490.0   \n",
       "3                                    NaN                            NaN   \n",
       "4                             33913480.0                         1180.0   \n",
       "\n",
       "   Trademark applications, direct resident  \\\n",
       "0                                      NaN   \n",
       "1                                    917.0   \n",
       "2                                   5469.0   \n",
       "3                                      NaN   \n",
       "4                                    256.0   \n",
       "\n",
       "   Trademark applications, direct nonresident  Patent applications, residents  \\\n",
       "0                                         NaN                             NaN   \n",
       "1                                      2796.0                            15.0   \n",
       "2                                      4021.0                           152.0   \n",
       "3                                         NaN                             NaN   \n",
       "4                                       924.0                             1.0   \n",
       "\n",
       "   Patent applications, nonresidents  \\\n",
       "0                                NaN   \n",
       "1                                3.0   \n",
       "2                              521.0   \n",
       "3                                NaN   \n",
       "4                               10.0   \n",
       "\n",
       "   Scientific and technical journal articles  \\\n",
       "0                                     111.72   \n",
       "1                                     180.36   \n",
       "2                                    5231.44   \n",
       "3                                        NaN   \n",
       "4                                       3.60   \n",
       "\n",
       "   Research and development expenditure (% of GDP)  \n",
       "0                                              NaN  \n",
       "1                                              NaN  \n",
       "2                                              NaN  \n",
       "3                                              NaN  \n",
       "4                                              NaN  "
      ]
     },
     "execution_count": 2,
     "metadata": {},
     "output_type": "execute_result"
    }
   ],
   "source": [
    "st_data_2018 = pd.read_csv(\"../world-bank-science-tech/science_tech_2018.csv\")\n",
    "st_data_2018.head()"
   ]
  },
  {
   "cell_type": "code",
   "execution_count": 3,
   "metadata": {
    "colab": {
     "base_uri": "https://localhost:8080/"
    },
    "id": "A1LCPi0MwQLv",
    "outputId": "ae96c02e-fe46-4a67-e200-29c5fbea35f1"
   },
   "outputs": [
    {
     "data": {
      "text/plain": [
       "(219, 10)"
      ]
     },
     "execution_count": 3,
     "metadata": {},
     "output_type": "execute_result"
    }
   ],
   "source": [
    "st_data_2018.shape"
   ]
  },
  {
   "cell_type": "code",
   "execution_count": 4,
   "metadata": {
    "colab": {
     "base_uri": "https://localhost:8080/"
    },
    "id": "qD77mjSdwy7y",
    "outputId": "a3ce0aa8-b092-4ff9-b2c9-7b23c9a64bbe"
   },
   "outputs": [
    {
     "data": {
      "text/plain": [
       "2190"
      ]
     },
     "execution_count": 4,
     "metadata": {},
     "output_type": "execute_result"
    }
   ],
   "source": [
    "st_data_2018.size"
   ]
  },
  {
   "cell_type": "code",
   "execution_count": 5,
   "metadata": {
    "colab": {
     "base_uri": "https://localhost:8080/"
    },
    "id": "l2KVPUDlw0hP",
    "outputId": "bfa8d054-e459-4aae-9096-849184df48a2"
   },
   "outputs": [
    {
     "data": {
      "text/plain": [
       "Index(['Country Name', 'High-technology exports (% of manufactured exports)',\n",
       "       'High-technology exports (current US$)',\n",
       "       'Trademark applications, total',\n",
       "       'Trademark applications, direct resident',\n",
       "       'Trademark applications, direct nonresident',\n",
       "       'Patent applications, residents', 'Patent applications, nonresidents',\n",
       "       'Scientific and technical journal articles',\n",
       "       'Research and development expenditure (% of GDP)'],\n",
       "      dtype='object')"
      ]
     },
     "execution_count": 5,
     "metadata": {},
     "output_type": "execute_result"
    }
   ],
   "source": [
    "st_data_2018.columns"
   ]
  },
  {
   "cell_type": "code",
   "execution_count": 6,
   "metadata": {
    "colab": {
     "base_uri": "https://localhost:8080/",
     "height": 272
    },
    "id": "PQlMdzddw46N",
    "outputId": "dde14630-09fc-4f87-983f-e846f3bdda8e"
   },
   "outputs": [
    {
     "data": {
      "text/html": [
       "<div>\n",
       "<style scoped>\n",
       "    .dataframe tbody tr th:only-of-type {\n",
       "        vertical-align: middle;\n",
       "    }\n",
       "\n",
       "    .dataframe tbody tr th {\n",
       "        vertical-align: top;\n",
       "    }\n",
       "\n",
       "    .dataframe thead th {\n",
       "        text-align: right;\n",
       "    }\n",
       "</style>\n",
       "<table border=\"1\" class=\"dataframe\">\n",
       "  <thead>\n",
       "    <tr style=\"text-align: right;\">\n",
       "      <th></th>\n",
       "      <th>Country Name</th>\n",
       "      <th>High-technology exports (% of manufactured exports)</th>\n",
       "      <th>High-technology exports (current US$)</th>\n",
       "      <th>Trademark applications, total</th>\n",
       "      <th>Trademark applications, direct resident</th>\n",
       "      <th>Trademark applications, direct nonresident</th>\n",
       "      <th>Patent applications, residents</th>\n",
       "      <th>Patent applications, nonresidents</th>\n",
       "      <th>Scientific and technical journal articles</th>\n",
       "      <th>Research and development expenditure (% of GDP)</th>\n",
       "    </tr>\n",
       "  </thead>\n",
       "  <tbody>\n",
       "    <tr>\n",
       "      <th>0</th>\n",
       "      <td>Afghanistan</td>\n",
       "      <td>NaN</td>\n",
       "      <td>NaN</td>\n",
       "      <td>NaN</td>\n",
       "      <td>NaN</td>\n",
       "      <td>NaN</td>\n",
       "      <td>NaN</td>\n",
       "      <td>NaN</td>\n",
       "      <td>26.30</td>\n",
       "      <td>NaN</td>\n",
       "    </tr>\n",
       "    <tr>\n",
       "      <th>1</th>\n",
       "      <td>Albania</td>\n",
       "      <td>1.328024</td>\n",
       "      <td>10128935.0</td>\n",
       "      <td>3456.0</td>\n",
       "      <td>213.0</td>\n",
       "      <td>3243.0</td>\n",
       "      <td>NaN</td>\n",
       "      <td>361.0</td>\n",
       "      <td>70.35</td>\n",
       "      <td>NaN</td>\n",
       "    </tr>\n",
       "    <tr>\n",
       "      <th>2</th>\n",
       "      <td>Algeria</td>\n",
       "      <td>0.653887</td>\n",
       "      <td>4616076.0</td>\n",
       "      <td>5345.0</td>\n",
       "      <td>NaN</td>\n",
       "      <td>NaN</td>\n",
       "      <td>NaN</td>\n",
       "      <td>NaN</td>\n",
       "      <td>2135.32</td>\n",
       "      <td>NaN</td>\n",
       "    </tr>\n",
       "    <tr>\n",
       "      <th>3</th>\n",
       "      <td>American Samoa</td>\n",
       "      <td>NaN</td>\n",
       "      <td>NaN</td>\n",
       "      <td>NaN</td>\n",
       "      <td>NaN</td>\n",
       "      <td>NaN</td>\n",
       "      <td>NaN</td>\n",
       "      <td>NaN</td>\n",
       "      <td>NaN</td>\n",
       "      <td>NaN</td>\n",
       "    </tr>\n",
       "    <tr>\n",
       "      <th>4</th>\n",
       "      <td>Andorra</td>\n",
       "      <td>12.192161</td>\n",
       "      <td>10402350.0</td>\n",
       "      <td>785.0</td>\n",
       "      <td>243.0</td>\n",
       "      <td>542.0</td>\n",
       "      <td>NaN</td>\n",
       "      <td>NaN</td>\n",
       "      <td>2.55</td>\n",
       "      <td>NaN</td>\n",
       "    </tr>\n",
       "  </tbody>\n",
       "</table>\n",
       "</div>"
      ],
      "text/plain": [
       "     Country Name  High-technology exports (% of manufactured exports)  \\\n",
       "0     Afghanistan                                                NaN     \n",
       "1         Albania                                           1.328024     \n",
       "2         Algeria                                           0.653887     \n",
       "3  American Samoa                                                NaN     \n",
       "4         Andorra                                          12.192161     \n",
       "\n",
       "   High-technology exports (current US$)  Trademark applications, total  \\\n",
       "0                                    NaN                            NaN   \n",
       "1                             10128935.0                         3456.0   \n",
       "2                              4616076.0                         5345.0   \n",
       "3                                    NaN                            NaN   \n",
       "4                             10402350.0                          785.0   \n",
       "\n",
       "   Trademark applications, direct resident  \\\n",
       "0                                      NaN   \n",
       "1                                    213.0   \n",
       "2                                      NaN   \n",
       "3                                      NaN   \n",
       "4                                    243.0   \n",
       "\n",
       "   Trademark applications, direct nonresident  Patent applications, residents  \\\n",
       "0                                         NaN                             NaN   \n",
       "1                                      3243.0                             NaN   \n",
       "2                                         NaN                             NaN   \n",
       "3                                         NaN                             NaN   \n",
       "4                                       542.0                             NaN   \n",
       "\n",
       "   Patent applications, nonresidents  \\\n",
       "0                                NaN   \n",
       "1                              361.0   \n",
       "2                                NaN   \n",
       "3                                NaN   \n",
       "4                                NaN   \n",
       "\n",
       "   Scientific and technical journal articles  \\\n",
       "0                                      26.30   \n",
       "1                                      70.35   \n",
       "2                                    2135.32   \n",
       "3                                        NaN   \n",
       "4                                       2.55   \n",
       "\n",
       "   Research and development expenditure (% of GDP)  \n",
       "0                                              NaN  \n",
       "1                                              NaN  \n",
       "2                                              NaN  \n",
       "3                                              NaN  \n",
       "4                                              NaN  "
      ]
     },
     "execution_count": 6,
     "metadata": {},
     "output_type": "execute_result"
    }
   ],
   "source": [
    "st_data_2009 = pd.read_csv(\"../world-bank-science-tech/science_tech_2009.csv\")\n",
    "st_data_2009.head()"
   ]
  },
  {
   "cell_type": "code",
   "execution_count": 7,
   "metadata": {
    "colab": {
     "base_uri": "https://localhost:8080/"
    },
    "id": "23cMMUxOxLBd",
    "outputId": "826cd38e-3c9f-4d74-e177-c539d11b8371"
   },
   "outputs": [
    {
     "data": {
      "text/plain": [
       "(219, 10)"
      ]
     },
     "execution_count": 7,
     "metadata": {},
     "output_type": "execute_result"
    }
   ],
   "source": [
    "st_data_2009.shape"
   ]
  },
  {
   "cell_type": "markdown",
   "metadata": {
    "id": "YOq_5xOwzHLG"
   },
   "source": [
    "### 3 Cleaning the Data"
   ]
  },
  {
   "cell_type": "markdown",
   "metadata": {
    "id": "jSbnoa4lzK1H"
   },
   "source": [
    "#### Missing Data"
   ]
  },
  {
   "cell_type": "markdown",
   "metadata": {},
   "source": [
    "In this case, all of the countries that have any missing data in them are excluded from analysis."
   ]
  },
  {
   "cell_type": "code",
   "execution_count": 8,
   "metadata": {
    "colab": {
     "base_uri": "https://localhost:8080/"
    },
    "id": "u-lZqEADxNty",
    "outputId": "af8b7cd6-63c5-49af-9bb5-e44d91a7112c"
   },
   "outputs": [
    {
     "data": {
      "text/plain": [
       "Country Name                                             0\n",
       "High-technology exports (% of manufactured exports)     87\n",
       "High-technology exports (current US$)                   88\n",
       "Trademark applications, total                           86\n",
       "Trademark applications, direct resident                 91\n",
       "Trademark applications, direct nonresident              90\n",
       "Patent applications, residents                         101\n",
       "Patent applications, nonresidents                      100\n",
       "Scientific and technical journal articles               20\n",
       "Research and development expenditure (% of GDP)        146\n",
       "dtype: int64"
      ]
     },
     "execution_count": 8,
     "metadata": {},
     "output_type": "execute_result"
    }
   ],
   "source": [
    "st_data_2018.isna().sum()"
   ]
  },
  {
   "cell_type": "code",
   "execution_count": 9,
   "metadata": {
    "colab": {
     "base_uri": "https://localhost:8080/"
    },
    "id": "LLLNIq77zSkq",
    "outputId": "70f6142f-0ffb-4004-ebf1-1ad3c95e86f2"
   },
   "outputs": [
    {
     "data": {
      "text/plain": [
       "(51, 10)"
      ]
     },
     "execution_count": 9,
     "metadata": {},
     "output_type": "execute_result"
    }
   ],
   "source": [
    "st_data_2018_clean = st_data_2018.dropna()\n",
    "st_data_2018_clean.shape"
   ]
  },
  {
   "cell_type": "code",
   "execution_count": 10,
   "metadata": {
    "colab": {
     "base_uri": "https://localhost:8080/"
    },
    "id": "Xf6Nl7Su0ebN",
    "outputId": "07433f91-2dab-46fa-c8a5-bd447cda5f31"
   },
   "outputs": [
    {
     "data": {
      "text/plain": [
       "Country Name                                             0\n",
       "High-technology exports (% of manufactured exports)     88\n",
       "High-technology exports (current US$)                   88\n",
       "Trademark applications, total                          108\n",
       "Trademark applications, direct resident                118\n",
       "Trademark applications, direct nonresident             118\n",
       "Patent applications, residents                         126\n",
       "Patent applications, nonresidents                      118\n",
       "Scientific and technical journal articles               20\n",
       "Research and development expenditure (% of GDP)        122\n",
       "dtype: int64"
      ]
     },
     "execution_count": 10,
     "metadata": {},
     "output_type": "execute_result"
    }
   ],
   "source": [
    "st_data_2009.isna().sum()"
   ]
  },
  {
   "cell_type": "code",
   "execution_count": 11,
   "metadata": {
    "colab": {
     "base_uri": "https://localhost:8080/"
    },
    "id": "CPnfp3sl0HyN",
    "outputId": "30da1cbc-4fa4-473a-8b4e-7633a224a980"
   },
   "outputs": [
    {
     "data": {
      "text/plain": [
       "(56, 10)"
      ]
     },
     "execution_count": 11,
     "metadata": {},
     "output_type": "execute_result"
    }
   ],
   "source": [
    "st_data_2009_clean = st_data_2009.dropna()\n",
    "st_data_2009_clean.shape"
   ]
  },
  {
   "cell_type": "markdown",
   "metadata": {},
   "source": [
    "More rows are kept than the previous dataset. This means that more of the same countries had missing data in the 2009 dataset than they did in the 2018 dataset."
   ]
  },
  {
   "cell_type": "markdown",
   "metadata": {
    "id": "cPdx0fb91Ufv"
   },
   "source": [
    "### 4 Exploratory Data Analysis"
   ]
  },
  {
   "cell_type": "markdown",
   "metadata": {
    "id": "TgssDIBT11pa"
   },
   "source": [
    "#### Descriptive Statistics"
   ]
  },
  {
   "cell_type": "markdown",
   "metadata": {},
   "source": [
    "These are the exploratory measures that shows how data data is distributed on anything interesting that comes across. "
   ]
  },
  {
   "cell_type": "code",
   "execution_count": 12,
   "metadata": {
    "colab": {
     "base_uri": "https://localhost:8080/",
     "height": 242
    },
    "id": "3aYYVIG50WYf",
    "outputId": "2e115899-c985-48e6-ccd7-66482ef66d0e"
   },
   "outputs": [
    {
     "data": {
      "text/html": [
       "<style  type=\"text/css\" >\n",
       "</style><table id=\"T_8a8b5b42_98a9_11eb_b4cd_3464a9ce8e4d\" ><thead>    <tr>        <th class=\"blank level0\" ></th>        <th class=\"col_heading level0 col0\" >High-technology exports (% of manufactured exports)</th>        <th class=\"col_heading level0 col1\" >High-technology exports (current US$)</th>        <th class=\"col_heading level0 col2\" >Trademark applications, total</th>        <th class=\"col_heading level0 col3\" >Trademark applications, direct resident</th>        <th class=\"col_heading level0 col4\" >Trademark applications, direct nonresident</th>        <th class=\"col_heading level0 col5\" >Patent applications, residents</th>        <th class=\"col_heading level0 col6\" >Patent applications, nonresidents</th>        <th class=\"col_heading level0 col7\" >Scientific and technical journal articles</th>        <th class=\"col_heading level0 col8\" >Research and development expenditure (% of GDP)</th>    </tr></thead><tbody>\n",
       "                <tr>\n",
       "                        <th id=\"T_8a8b5b42_98a9_11eb_b4cd_3464a9ce8e4dlevel0_row0\" class=\"row_heading level0 row0\" >count</th>\n",
       "                        <td id=\"T_8a8b5b42_98a9_11eb_b4cd_3464a9ce8e4drow0_col0\" class=\"data row0 col0\" >51</td>\n",
       "                        <td id=\"T_8a8b5b42_98a9_11eb_b4cd_3464a9ce8e4drow0_col1\" class=\"data row0 col1\" >51</td>\n",
       "                        <td id=\"T_8a8b5b42_98a9_11eb_b4cd_3464a9ce8e4drow0_col2\" class=\"data row0 col2\" >51</td>\n",
       "                        <td id=\"T_8a8b5b42_98a9_11eb_b4cd_3464a9ce8e4drow0_col3\" class=\"data row0 col3\" >51</td>\n",
       "                        <td id=\"T_8a8b5b42_98a9_11eb_b4cd_3464a9ce8e4drow0_col4\" class=\"data row0 col4\" >51</td>\n",
       "                        <td id=\"T_8a8b5b42_98a9_11eb_b4cd_3464a9ce8e4drow0_col5\" class=\"data row0 col5\" >51</td>\n",
       "                        <td id=\"T_8a8b5b42_98a9_11eb_b4cd_3464a9ce8e4drow0_col6\" class=\"data row0 col6\" >51</td>\n",
       "                        <td id=\"T_8a8b5b42_98a9_11eb_b4cd_3464a9ce8e4drow0_col7\" class=\"data row0 col7\" >51</td>\n",
       "                        <td id=\"T_8a8b5b42_98a9_11eb_b4cd_3464a9ce8e4drow0_col8\" class=\"data row0 col8\" >51</td>\n",
       "            </tr>\n",
       "            <tr>\n",
       "                        <th id=\"T_8a8b5b42_98a9_11eb_b4cd_3464a9ce8e4dlevel0_row1\" class=\"row_heading level0 row1\" >mean</th>\n",
       "                        <td id=\"T_8a8b5b42_98a9_11eb_b4cd_3464a9ce8e4drow1_col0\" class=\"data row1 col0\" >12</td>\n",
       "                        <td id=\"T_8a8b5b42_98a9_11eb_b4cd_3464a9ce8e4drow1_col1\" class=\"data row1 col1\" >25,697,867,097</td>\n",
       "                        <td id=\"T_8a8b5b42_98a9_11eb_b4cd_3464a9ce8e4drow1_col2\" class=\"data row1 col2\" >44,515</td>\n",
       "                        <td id=\"T_8a8b5b42_98a9_11eb_b4cd_3464a9ce8e4drow1_col3\" class=\"data row1 col3\" >33,921</td>\n",
       "                        <td id=\"T_8a8b5b42_98a9_11eb_b4cd_3464a9ce8e4drow1_col4\" class=\"data row1 col4\" >10,594</td>\n",
       "                        <td id=\"T_8a8b5b42_98a9_11eb_b4cd_3464a9ce8e4drow1_col5\" class=\"data row1 col5\" >16,828</td>\n",
       "                        <td id=\"T_8a8b5b42_98a9_11eb_b4cd_3464a9ce8e4drow1_col6\" class=\"data row1 col6\" >11,187</td>\n",
       "                        <td id=\"T_8a8b5b42_98a9_11eb_b4cd_3464a9ce8e4drow1_col7\" class=\"data row1 col7\" >30,499</td>\n",
       "                        <td id=\"T_8a8b5b42_98a9_11eb_b4cd_3464a9ce8e4drow1_col8\" class=\"data row1 col8\" >1</td>\n",
       "            </tr>\n",
       "            <tr>\n",
       "                        <th id=\"T_8a8b5b42_98a9_11eb_b4cd_3464a9ce8e4dlevel0_row2\" class=\"row_heading level0 row2\" >std</th>\n",
       "                        <td id=\"T_8a8b5b42_98a9_11eb_b4cd_3464a9ce8e4drow2_col0\" class=\"data row2 col0\" >8</td>\n",
       "                        <td id=\"T_8a8b5b42_98a9_11eb_b4cd_3464a9ce8e4drow2_col1\" class=\"data row2 col1\" >48,690,230,336</td>\n",
       "                        <td id=\"T_8a8b5b42_98a9_11eb_b4cd_3464a9ce8e4drow2_col2\" class=\"data row2 col2\" >85,394</td>\n",
       "                        <td id=\"T_8a8b5b42_98a9_11eb_b4cd_3464a9ce8e4drow2_col3\" class=\"data row2 col3\" >69,219</td>\n",
       "                        <td id=\"T_8a8b5b42_98a9_11eb_b4cd_3464a9ce8e4drow2_col4\" class=\"data row2 col4\" >18,797</td>\n",
       "                        <td id=\"T_8a8b5b42_98a9_11eb_b4cd_3464a9ce8e4drow2_col5\" class=\"data row2 col5\" >56,775</td>\n",
       "                        <td id=\"T_8a8b5b42_98a9_11eb_b4cd_3464a9ce8e4drow2_col6\" class=\"data row2 col6\" >44,725</td>\n",
       "                        <td id=\"T_8a8b5b42_98a9_11eb_b4cd_3464a9ce8e4drow2_col7\" class=\"data row2 col7\" >65,091</td>\n",
       "                        <td id=\"T_8a8b5b42_98a9_11eb_b4cd_3464a9ce8e4drow2_col8\" class=\"data row2 col8\" >1</td>\n",
       "            </tr>\n",
       "            <tr>\n",
       "                        <th id=\"T_8a8b5b42_98a9_11eb_b4cd_3464a9ce8e4dlevel0_row3\" class=\"row_heading level0 row3\" >min</th>\n",
       "                        <td id=\"T_8a8b5b42_98a9_11eb_b4cd_3464a9ce8e4drow3_col0\" class=\"data row3 col0\" >0</td>\n",
       "                        <td id=\"T_8a8b5b42_98a9_11eb_b4cd_3464a9ce8e4drow3_col1\" class=\"data row3 col1\" >115,051</td>\n",
       "                        <td id=\"T_8a8b5b42_98a9_11eb_b4cd_3464a9ce8e4drow3_col2\" class=\"data row3 col2\" >1,974</td>\n",
       "                        <td id=\"T_8a8b5b42_98a9_11eb_b4cd_3464a9ce8e4drow3_col3\" class=\"data row3 col3\" >141</td>\n",
       "                        <td id=\"T_8a8b5b42_98a9_11eb_b4cd_3464a9ce8e4drow3_col4\" class=\"data row3 col4\" >1,008</td>\n",
       "                        <td id=\"T_8a8b5b42_98a9_11eb_b4cd_3464a9ce8e4drow3_col5\" class=\"data row3 col5\" >1</td>\n",
       "                        <td id=\"T_8a8b5b42_98a9_11eb_b4cd_3464a9ce8e4drow3_col6\" class=\"data row3 col6\" >4</td>\n",
       "                        <td id=\"T_8a8b5b42_98a9_11eb_b4cd_3464a9ce8e4drow3_col7\" class=\"data row3 col7\" >127</td>\n",
       "                        <td id=\"T_8a8b5b42_98a9_11eb_b4cd_3464a9ce8e4drow3_col8\" class=\"data row3 col8\" >0</td>\n",
       "            </tr>\n",
       "            <tr>\n",
       "                        <th id=\"T_8a8b5b42_98a9_11eb_b4cd_3464a9ce8e4dlevel0_row4\" class=\"row_heading level0 row4\" >25%</th>\n",
       "                        <td id=\"T_8a8b5b42_98a9_11eb_b4cd_3464a9ce8e4drow4_col0\" class=\"data row4 col0\" >5</td>\n",
       "                        <td id=\"T_8a8b5b42_98a9_11eb_b4cd_3464a9ce8e4drow4_col1\" class=\"data row4 col1\" >433,839,196</td>\n",
       "                        <td id=\"T_8a8b5b42_98a9_11eb_b4cd_3464a9ce8e4drow4_col2\" class=\"data row4 col2\" >4,203</td>\n",
       "                        <td id=\"T_8a8b5b42_98a9_11eb_b4cd_3464a9ce8e4drow4_col3\" class=\"data row4 col3\" >1,858</td>\n",
       "                        <td id=\"T_8a8b5b42_98a9_11eb_b4cd_3464a9ce8e4drow4_col4\" class=\"data row4 col4\" >1,937</td>\n",
       "                        <td id=\"T_8a8b5b42_98a9_11eb_b4cd_3464a9ce8e4drow4_col5\" class=\"data row4 col5\" >96</td>\n",
       "                        <td id=\"T_8a8b5b42_98a9_11eb_b4cd_3464a9ce8e4drow4_col6\" class=\"data row4 col6\" >26</td>\n",
       "                        <td id=\"T_8a8b5b42_98a9_11eb_b4cd_3464a9ce8e4drow4_col7\" class=\"data row4 col7\" >1,416</td>\n",
       "                        <td id=\"T_8a8b5b42_98a9_11eb_b4cd_3464a9ce8e4drow4_col8\" class=\"data row4 col8\" >0</td>\n",
       "            </tr>\n",
       "            <tr>\n",
       "                        <th id=\"T_8a8b5b42_98a9_11eb_b4cd_3464a9ce8e4dlevel0_row5\" class=\"row_heading level0 row5\" >50%</th>\n",
       "                        <td id=\"T_8a8b5b42_98a9_11eb_b4cd_3464a9ce8e4drow5_col0\" class=\"data row5 col0\" >10</td>\n",
       "                        <td id=\"T_8a8b5b42_98a9_11eb_b4cd_3464a9ce8e4drow5_col1\" class=\"data row5 col1\" >4,294,542,879</td>\n",
       "                        <td id=\"T_8a8b5b42_98a9_11eb_b4cd_3464a9ce8e4drow5_col2\" class=\"data row5 col2\" >10,025</td>\n",
       "                        <td id=\"T_8a8b5b42_98a9_11eb_b4cd_3464a9ce8e4drow5_col3\" class=\"data row5 col3\" >4,711</td>\n",
       "                        <td id=\"T_8a8b5b42_98a9_11eb_b4cd_3464a9ce8e4drow5_col4\" class=\"data row5 col4\" >3,417</td>\n",
       "                        <td id=\"T_8a8b5b42_98a9_11eb_b4cd_3464a9ce8e4drow5_col5\" class=\"data row5 col5\" >678</td>\n",
       "                        <td id=\"T_8a8b5b42_98a9_11eb_b4cd_3464a9ce8e4drow5_col6\" class=\"data row5 col6\" >168</td>\n",
       "                        <td id=\"T_8a8b5b42_98a9_11eb_b4cd_3464a9ce8e4drow5_col7\" class=\"data row5 col7\" >10,345</td>\n",
       "                        <td id=\"T_8a8b5b42_98a9_11eb_b4cd_3464a9ce8e4drow5_col8\" class=\"data row5 col8\" >1</td>\n",
       "            </tr>\n",
       "            <tr>\n",
       "                        <th id=\"T_8a8b5b42_98a9_11eb_b4cd_3464a9ce8e4dlevel0_row6\" class=\"row_heading level0 row6\" >75%</th>\n",
       "                        <td id=\"T_8a8b5b42_98a9_11eb_b4cd_3464a9ce8e4drow6_col0\" class=\"data row6 col0\" >17</td>\n",
       "                        <td id=\"T_8a8b5b42_98a9_11eb_b4cd_3464a9ce8e4drow6_col1\" class=\"data row6 col1\" >21,254,931,313</td>\n",
       "                        <td id=\"T_8a8b5b42_98a9_11eb_b4cd_3464a9ce8e4drow6_col2\" class=\"data row6 col2\" >40,292</td>\n",
       "                        <td id=\"T_8a8b5b42_98a9_11eb_b4cd_3464a9ce8e4drow6_col3\" class=\"data row6 col3\" >27,325</td>\n",
       "                        <td id=\"T_8a8b5b42_98a9_11eb_b4cd_3464a9ce8e4drow6_col4\" class=\"data row6 col4\" >9,829</td>\n",
       "                        <td id=\"T_8a8b5b42_98a9_11eb_b4cd_3464a9ce8e4drow6_col5\" class=\"data row6 col5\" >1,938</td>\n",
       "                        <td id=\"T_8a8b5b42_98a9_11eb_b4cd_3464a9ce8e4drow6_col6\" class=\"data row6 col6\" >1,834</td>\n",
       "                        <td id=\"T_8a8b5b42_98a9_11eb_b4cd_3464a9ce8e4drow6_col7\" class=\"data row6 col7\" >23,684</td>\n",
       "                        <td id=\"T_8a8b5b42_98a9_11eb_b4cd_3464a9ce8e4drow6_col8\" class=\"data row6 col8\" >2</td>\n",
       "            </tr>\n",
       "            <tr>\n",
       "                        <th id=\"T_8a8b5b42_98a9_11eb_b4cd_3464a9ce8e4dlevel0_row7\" class=\"row_heading level0 row7\" >max</th>\n",
       "                        <td id=\"T_8a8b5b42_98a9_11eb_b4cd_3464a9ce8e4drow7_col0\" class=\"data row7 col0\" >36</td>\n",
       "                        <td id=\"T_8a8b5b42_98a9_11eb_b4cd_3464a9ce8e4drow7_col1\" class=\"data row7 col1\" >210,082,307,180</td>\n",
       "                        <td id=\"T_8a8b5b42_98a9_11eb_b4cd_3464a9ce8e4drow7_col2\" class=\"data row7 col2\" >464,786</td>\n",
       "                        <td id=\"T_8a8b5b42_98a9_11eb_b4cd_3464a9ce8e4drow7_col3\" class=\"data row7 col3\" >342,150</td>\n",
       "                        <td id=\"T_8a8b5b42_98a9_11eb_b4cd_3464a9ce8e4drow7_col4\" class=\"data row7 col4\" >122,636</td>\n",
       "                        <td id=\"T_8a8b5b42_98a9_11eb_b4cd_3464a9ce8e4drow7_col5\" class=\"data row7 col5\" >285,095</td>\n",
       "                        <td id=\"T_8a8b5b42_98a9_11eb_b4cd_3464a9ce8e4drow7_col6\" class=\"data row7 col6\" >312,046</td>\n",
       "                        <td id=\"T_8a8b5b42_98a9_11eb_b4cd_3464a9ce8e4drow7_col7\" class=\"data row7 col7\" >422,808</td>\n",
       "                        <td id=\"T_8a8b5b42_98a9_11eb_b4cd_3464a9ce8e4drow7_col8\" class=\"data row7 col8\" >5</td>\n",
       "            </tr>\n",
       "    </tbody></table>"
      ],
      "text/plain": [
       "<pandas.io.formats.style.Styler at 0x45c7650>"
      ]
     },
     "execution_count": 12,
     "metadata": {},
     "output_type": "execute_result"
    }
   ],
   "source": [
    "pd.set_option('display.float_format', lambda x: '%.3f' %x)\n",
    "st_data_2018_clean.describe().style.format(\"{:,.0f}\")"
   ]
  },
  {
   "cell_type": "code",
   "execution_count": 13,
   "metadata": {
    "id": "RewHJwOu2HQ3"
   },
   "outputs": [],
   "source": [
    "import matplotlib.pyplot as plt\n",
    "import seaborn as sns\n",
    "%matplotlib inline"
   ]
  },
  {
   "cell_type": "code",
   "execution_count": 14,
   "metadata": {
    "colab": {
     "base_uri": "https://localhost:8080/",
     "height": 296
    },
    "id": "XooYROnM3TsB",
    "outputId": "7f5cde08-6d63-4d20-9d54-c878538c48af"
   },
   "outputs": [
    {
     "data": {
      "image/png": "[encoded data removed]",
      "text/plain": [
       "<Figure size 432x288 with 1 Axes>"
      ]
     },
     "metadata": {
      "needs_background": "light"
     },
     "output_type": "display_data"
    }
   ],
   "source": [
    "sns.boxplot(x=st_data_2018_clean['High-technology exports (% of manufactured exports)'])\n",
    "plt.savefig('eda_boxplot18.png')"
   ]
  },
  {
   "cell_type": "code",
   "execution_count": 15,
   "metadata": {
    "colab": {
     "base_uri": "https://localhost:8080/",
     "height": 242
    },
    "id": "8g4R3Dp73qMZ",
    "outputId": "a50e53c9-61f2-4e55-9e86-41f4008f460f"
   },
   "outputs": [
    {
     "data": {
      "text/html": [
       "<style  type=\"text/css\" >\n",
       "</style><table id=\"T_8b28b264_98a9_11eb_be70_3464a9ce8e4d\" ><thead>    <tr>        <th class=\"blank level0\" ></th>        <th class=\"col_heading level0 col0\" >High-technology exports (% of manufactured exports)</th>        <th class=\"col_heading level0 col1\" >High-technology exports (current US$)</th>        <th class=\"col_heading level0 col2\" >Trademark applications, total</th>        <th class=\"col_heading level0 col3\" >Trademark applications, direct resident</th>        <th class=\"col_heading level0 col4\" >Trademark applications, direct nonresident</th>        <th class=\"col_heading level0 col5\" >Patent applications, residents</th>        <th class=\"col_heading level0 col6\" >Patent applications, nonresidents</th>        <th class=\"col_heading level0 col7\" >Scientific and technical journal articles</th>        <th class=\"col_heading level0 col8\" >Research and development expenditure (% of GDP)</th>    </tr></thead><tbody>\n",
       "                <tr>\n",
       "                        <th id=\"T_8b28b264_98a9_11eb_be70_3464a9ce8e4dlevel0_row0\" class=\"row_heading level0 row0\" >count</th>\n",
       "                        <td id=\"T_8b28b264_98a9_11eb_be70_3464a9ce8e4drow0_col0\" class=\"data row0 col0\" >56</td>\n",
       "                        <td id=\"T_8b28b264_98a9_11eb_be70_3464a9ce8e4drow0_col1\" class=\"data row0 col1\" >56</td>\n",
       "                        <td id=\"T_8b28b264_98a9_11eb_be70_3464a9ce8e4drow0_col2\" class=\"data row0 col2\" >56</td>\n",
       "                        <td id=\"T_8b28b264_98a9_11eb_be70_3464a9ce8e4drow0_col3\" class=\"data row0 col3\" >56</td>\n",
       "                        <td id=\"T_8b28b264_98a9_11eb_be70_3464a9ce8e4drow0_col4\" class=\"data row0 col4\" >56</td>\n",
       "                        <td id=\"T_8b28b264_98a9_11eb_be70_3464a9ce8e4drow0_col5\" class=\"data row0 col5\" >56</td>\n",
       "                        <td id=\"T_8b28b264_98a9_11eb_be70_3464a9ce8e4drow0_col6\" class=\"data row0 col6\" >56</td>\n",
       "                        <td id=\"T_8b28b264_98a9_11eb_be70_3464a9ce8e4drow0_col7\" class=\"data row0 col7\" >56</td>\n",
       "                        <td id=\"T_8b28b264_98a9_11eb_be70_3464a9ce8e4drow0_col8\" class=\"data row0 col8\" >56</td>\n",
       "            </tr>\n",
       "            <tr>\n",
       "                        <th id=\"T_8b28b264_98a9_11eb_be70_3464a9ce8e4dlevel0_row1\" class=\"row_heading level0 row1\" >mean</th>\n",
       "                        <td id=\"T_8b28b264_98a9_11eb_be70_3464a9ce8e4drow1_col0\" class=\"data row1 col0\" >15</td>\n",
       "                        <td id=\"T_8b28b264_98a9_11eb_be70_3464a9ce8e4drow1_col1\" class=\"data row1 col1\" >26,983,628,831</td>\n",
       "                        <td id=\"T_8b28b264_98a9_11eb_be70_3464a9ce8e4drow1_col2\" class=\"data row1 col2\" >49,843</td>\n",
       "                        <td id=\"T_8b28b264_98a9_11eb_be70_3464a9ce8e4drow1_col3\" class=\"data row1 col3\" >40,669</td>\n",
       "                        <td id=\"T_8b28b264_98a9_11eb_be70_3464a9ce8e4drow1_col4\" class=\"data row1 col4\" >9,173</td>\n",
       "                        <td id=\"T_8b28b264_98a9_11eb_be70_3464a9ce8e4drow1_col5\" class=\"data row1 col5\" >18,743</td>\n",
       "                        <td id=\"T_8b28b264_98a9_11eb_be70_3464a9ce8e4drow1_col6\" class=\"data row1 col6\" >10,847</td>\n",
       "                        <td id=\"T_8b28b264_98a9_11eb_be70_3464a9ce8e4drow1_col7\" class=\"data row1 col7\" >30,421</td>\n",
       "                        <td id=\"T_8b28b264_98a9_11eb_be70_3464a9ce8e4drow1_col8\" class=\"data row1 col8\" >1</td>\n",
       "            </tr>\n",
       "            <tr>\n",
       "                        <th id=\"T_8b28b264_98a9_11eb_be70_3464a9ce8e4dlevel0_row2\" class=\"row_heading level0 row2\" >std</th>\n",
       "                        <td id=\"T_8b28b264_98a9_11eb_be70_3464a9ce8e4drow2_col0\" class=\"data row2 col0\" >12</td>\n",
       "                        <td id=\"T_8b28b264_98a9_11eb_be70_3464a9ce8e4drow2_col1\" class=\"data row2 col1\" >58,687,616,358</td>\n",
       "                        <td id=\"T_8b28b264_98a9_11eb_be70_3464a9ce8e4drow2_col2\" class=\"data row2 col2\" >114,676</td>\n",
       "                        <td id=\"T_8b28b264_98a9_11eb_be70_3464a9ce8e4drow2_col3\" class=\"data row2 col3\" >105,257</td>\n",
       "                        <td id=\"T_8b28b264_98a9_11eb_be70_3464a9ce8e4drow2_col4\" class=\"data row2 col4\" >10,702</td>\n",
       "                        <td id=\"T_8b28b264_98a9_11eb_be70_3464a9ce8e4drow2_col5\" class=\"data row2 col5\" >58,855</td>\n",
       "                        <td id=\"T_8b28b264_98a9_11eb_be70_3464a9ce8e4drow2_col6\" class=\"data row2 col6\" >33,561</td>\n",
       "                        <td id=\"T_8b28b264_98a9_11eb_be70_3464a9ce8e4drow2_col7\" class=\"data row2 col7\" >67,078</td>\n",
       "                        <td id=\"T_8b28b264_98a9_11eb_be70_3464a9ce8e4drow2_col8\" class=\"data row2 col8\" >1</td>\n",
       "            </tr>\n",
       "            <tr>\n",
       "                        <th id=\"T_8b28b264_98a9_11eb_be70_3464a9ce8e4dlevel0_row3\" class=\"row_heading level0 row3\" >min</th>\n",
       "                        <td id=\"T_8b28b264_98a9_11eb_be70_3464a9ce8e4drow3_col0\" class=\"data row3 col0\" >1</td>\n",
       "                        <td id=\"T_8b28b264_98a9_11eb_be70_3464a9ce8e4drow3_col1\" class=\"data row3 col1\" >4,537,422</td>\n",
       "                        <td id=\"T_8b28b264_98a9_11eb_be70_3464a9ce8e4drow3_col2\" class=\"data row3 col2\" >911</td>\n",
       "                        <td id=\"T_8b28b264_98a9_11eb_be70_3464a9ce8e4drow3_col3\" class=\"data row3 col3\" >446</td>\n",
       "                        <td id=\"T_8b28b264_98a9_11eb_be70_3464a9ce8e4drow3_col4\" class=\"data row3 col4\" >465</td>\n",
       "                        <td id=\"T_8b28b264_98a9_11eb_be70_3464a9ce8e4drow3_col5\" class=\"data row3 col5\" >1</td>\n",
       "                        <td id=\"T_8b28b264_98a9_11eb_be70_3464a9ce8e4drow3_col6\" class=\"data row3 col6\" >3</td>\n",
       "                        <td id=\"T_8b28b264_98a9_11eb_be70_3464a9ce8e4drow3_col7\" class=\"data row3 col7\" >54</td>\n",
       "                        <td id=\"T_8b28b264_98a9_11eb_be70_3464a9ce8e4drow3_col8\" class=\"data row3 col8\" >0</td>\n",
       "            </tr>\n",
       "            <tr>\n",
       "                        <th id=\"T_8b28b264_98a9_11eb_be70_3464a9ce8e4dlevel0_row4\" class=\"row_heading level0 row4\" >25%</th>\n",
       "                        <td id=\"T_8b28b264_98a9_11eb_be70_3464a9ce8e4drow4_col0\" class=\"data row4 col0\" >6</td>\n",
       "                        <td id=\"T_8b28b264_98a9_11eb_be70_3464a9ce8e4drow4_col1\" class=\"data row4 col1\" >514,534,600</td>\n",
       "                        <td id=\"T_8b28b264_98a9_11eb_be70_3464a9ce8e4drow4_col2\" class=\"data row4 col2\" >6,095</td>\n",
       "                        <td id=\"T_8b28b264_98a9_11eb_be70_3464a9ce8e4drow4_col3\" class=\"data row4 col3\" >2,598</td>\n",
       "                        <td id=\"T_8b28b264_98a9_11eb_be70_3464a9ce8e4drow4_col4\" class=\"data row4 col4\" >2,936</td>\n",
       "                        <td id=\"T_8b28b264_98a9_11eb_be70_3464a9ce8e4drow4_col5\" class=\"data row4 col5\" >242</td>\n",
       "                        <td id=\"T_8b28b264_98a9_11eb_be70_3464a9ce8e4drow4_col6\" class=\"data row4 col6\" >45</td>\n",
       "                        <td id=\"T_8b28b264_98a9_11eb_be70_3464a9ce8e4drow4_col7\" class=\"data row4 col7\" >2,020</td>\n",
       "                        <td id=\"T_8b28b264_98a9_11eb_be70_3464a9ce8e4drow4_col8\" class=\"data row4 col8\" >0</td>\n",
       "            </tr>\n",
       "            <tr>\n",
       "                        <th id=\"T_8b28b264_98a9_11eb_be70_3464a9ce8e4dlevel0_row5\" class=\"row_heading level0 row5\" >50%</th>\n",
       "                        <td id=\"T_8b28b264_98a9_11eb_be70_3464a9ce8e4drow5_col0\" class=\"data row5 col0\" >10</td>\n",
       "                        <td id=\"T_8b28b264_98a9_11eb_be70_3464a9ce8e4drow5_col1\" class=\"data row5 col1\" >4,063,042,924</td>\n",
       "                        <td id=\"T_8b28b264_98a9_11eb_be70_3464a9ce8e4drow5_col2\" class=\"data row5 col2\" >14,560</td>\n",
       "                        <td id=\"T_8b28b264_98a9_11eb_be70_3464a9ce8e4drow5_col3\" class=\"data row5 col3\" >8,744</td>\n",
       "                        <td id=\"T_8b28b264_98a9_11eb_be70_3464a9ce8e4drow5_col4\" class=\"data row5 col4\" >5,674</td>\n",
       "                        <td id=\"T_8b28b264_98a9_11eb_be70_3464a9ce8e4drow5_col5\" class=\"data row5 col5\" >924</td>\n",
       "                        <td id=\"T_8b28b264_98a9_11eb_be70_3464a9ce8e4drow5_col6\" class=\"data row5 col6\" >392</td>\n",
       "                        <td id=\"T_8b28b264_98a9_11eb_be70_3464a9ce8e4drow5_col7\" class=\"data row5 col7\" >8,399</td>\n",
       "                        <td id=\"T_8b28b264_98a9_11eb_be70_3464a9ce8e4drow5_col8\" class=\"data row5 col8\" >1</td>\n",
       "            </tr>\n",
       "            <tr>\n",
       "                        <th id=\"T_8b28b264_98a9_11eb_be70_3464a9ce8e4dlevel0_row6\" class=\"row_heading level0 row6\" >75%</th>\n",
       "                        <td id=\"T_8b28b264_98a9_11eb_be70_3464a9ce8e4drow6_col0\" class=\"data row6 col0\" >21</td>\n",
       "                        <td id=\"T_8b28b264_98a9_11eb_be70_3464a9ce8e4drow6_col1\" class=\"data row6 col1\" >20,547,291,738</td>\n",
       "                        <td id=\"T_8b28b264_98a9_11eb_be70_3464a9ce8e4drow6_col2\" class=\"data row6 col2\" >42,294</td>\n",
       "                        <td id=\"T_8b28b264_98a9_11eb_be70_3464a9ce8e4drow6_col3\" class=\"data row6 col3\" >29,086</td>\n",
       "                        <td id=\"T_8b28b264_98a9_11eb_be70_3464a9ce8e4drow6_col4\" class=\"data row6 col4\" >10,500</td>\n",
       "                        <td id=\"T_8b28b264_98a9_11eb_be70_3464a9ce8e4drow6_col5\" class=\"data row6 col5\" >3,073</td>\n",
       "                        <td id=\"T_8b28b264_98a9_11eb_be70_3464a9ce8e4drow6_col6\" class=\"data row6 col6\" >5,518</td>\n",
       "                        <td id=\"T_8b28b264_98a9_11eb_be70_3464a9ce8e4drow6_col7\" class=\"data row6 col7\" >26,997</td>\n",
       "                        <td id=\"T_8b28b264_98a9_11eb_be70_3464a9ce8e4drow6_col8\" class=\"data row6 col8\" >2</td>\n",
       "            </tr>\n",
       "            <tr>\n",
       "                        <th id=\"T_8b28b264_98a9_11eb_be70_3464a9ce8e4dlevel0_row7\" class=\"row_heading level0 row7\" >max</th>\n",
       "                        <td id=\"T_8b28b264_98a9_11eb_be70_3464a9ce8e4drow7_col0\" class=\"data row7 col0\" >51</td>\n",
       "                        <td id=\"T_8b28b264_98a9_11eb_be70_3464a9ce8e4drow7_col1\" class=\"data row7 col1\" >359,273,932,009</td>\n",
       "                        <td id=\"T_8b28b264_98a9_11eb_be70_3464a9ce8e4drow7_col2\" class=\"data row7 col2\" >806,906</td>\n",
       "                        <td id=\"T_8b28b264_98a9_11eb_be70_3464a9ce8e4drow7_col3\" class=\"data row7 col3\" >741,785</td>\n",
       "                        <td id=\"T_8b28b264_98a9_11eb_be70_3464a9ce8e4drow7_col4\" class=\"data row7 col4\" >65,121</td>\n",
       "                        <td id=\"T_8b28b264_98a9_11eb_be70_3464a9ce8e4drow7_col5\" class=\"data row7 col5\" >295,315</td>\n",
       "                        <td id=\"T_8b28b264_98a9_11eb_be70_3464a9ce8e4drow7_col6\" class=\"data row7 col6\" >231,194</td>\n",
       "                        <td id=\"T_8b28b264_98a9_11eb_be70_3464a9ce8e4drow7_col7\" class=\"data row7 col7\" >399,350</td>\n",
       "                        <td id=\"T_8b28b264_98a9_11eb_be70_3464a9ce8e4drow7_col8\" class=\"data row7 col8\" >4</td>\n",
       "            </tr>\n",
       "    </tbody></table>"
      ],
      "text/plain": [
       "<pandas.io.formats.style.Styler at 0x10b02910>"
      ]
     },
     "execution_count": 15,
     "metadata": {},
     "output_type": "execute_result"
    }
   ],
   "source": [
    "st_data_2009_clean.describe().style.format(\"{:,.0f}\")"
   ]
  },
  {
   "cell_type": "code",
   "execution_count": 16,
   "metadata": {
    "colab": {
     "base_uri": "https://localhost:8080/",
     "height": 296
    },
    "id": "Liyd18Pj35is",
    "outputId": "e3fbb05a-de30-46ca-e199-1abd8fb45809"
   },
   "outputs": [
    {
     "data": {
      "image/png": "[encoded data removed]",
      "text/plain": [
       "<Figure size 432x288 with 1 Axes>"
      ]
     },
     "metadata": {
      "needs_background": "light"
     },
     "output_type": "display_data"
    }
   ],
   "source": [
    "sns.boxplot(x=st_data_2009_clean['High-technology exports (% of manufactured exports)'])\n",
    "plt.savefig('eda_boxplot09.png')"
   ]
  },
  {
   "cell_type": "markdown",
   "metadata": {
    "id": "nLq6HYry4ipO"
   },
   "source": [
    "### 5 Outliers"
   ]
  },
  {
   "cell_type": "code",
   "execution_count": 17,
   "metadata": {
    "colab": {
     "base_uri": "https://localhost:8080/",
     "height": 1000
    },
    "id": "pZ_sQuwr3_ZR",
    "outputId": "de66b6ba-54f0-4e47-e437-7bab7bc73dec"
   },
   "outputs": [
    {
     "data": {
      "image/png": "[encoded data removed]",
      "text/plain": [
       "<Figure size 720x360 with 1 Axes>"
      ]
     },
     "metadata": {
      "needs_background": "light"
     },
     "output_type": "display_data"
    },
    {
     "data": {
      "image/png": "[encoded data removed]",
      "text/plain": [
       "<Figure size 720x360 with 1 Axes>"
      ]
     },
     "metadata": {
      "needs_background": "light"
     },
     "output_type": "display_data"
    },
    {
     "data": {
      "image/png": "[encoded data removed]",
      "text/plain": [
       "<Figure size 720x360 with 1 Axes>"
      ]
     },
     "metadata": {
      "needs_background": "light"
     },
     "output_type": "display_data"
    },
    {
     "data": {
      "image/png": "[encoded data removed]",
      "text/plain": [
       "<Figure size 720x360 with 1 Axes>"
      ]
     },
     "metadata": {
      "needs_background": "light"
     },
     "output_type": "display_data"
    },
    {
     "data": {
      "image/png": "[encoded data removed]",
      "text/plain": [
       "<Figure size 720x360 with 1 Axes>"
      ]
     },
     "metadata": {
      "needs_background": "light"
     },
     "output_type": "display_data"
    },
    {
     "data": {
      "image/png": "[encoded data removed]",
      "text/plain": [
       "<Figure size 720x360 with 1 Axes>"
      ]
     },
     "metadata": {
      "needs_background": "light"
     },
     "output_type": "display_data"
    },
    {
     "data": {
      "image/png": "[encoded data removed]",
      "text/plain": [
       "<Figure size 720x360 with 1 Axes>"
      ]
     },
     "metadata": {
      "needs_background": "light"
     },
     "output_type": "display_data"
    },
    {
     "data": {
      "image/png": "[encoded data removed]",
      "text/plain": [
       "<Figure size 720x360 with 1 Axes>"
      ]
     },
     "metadata": {
      "needs_background": "light"
     },
     "output_type": "display_data"
    },
    {
     "data": {
      "image/png": "[encoded data removed]",
      "text/plain": [
       "<Figure size 720x360 with 1 Axes>"
      ]
     },
     "metadata": {
      "needs_background": "light"
     },
     "output_type": "display_data"
    }
   ],
   "source": [
    "columns = st_data_2018_clean.columns\n",
    "\n",
    "for i in range(1,len(columns)):\n",
    "  fig = plt.figure(figsize=(10,5))\n",
    "  sns.boxplot(x=st_data_2018_clean[columns[i]])\n",
    "  plt.savefig('outliers18_' + str(i) + '.png')"
   ]
  },
  {
   "cell_type": "code",
   "execution_count": 18,
   "metadata": {
    "id": "eCt1bG6Z48ab"
   },
   "outputs": [],
   "source": [
    "articles_max = st_data_2018_clean['Scientific and technical journal articles'].max()"
   ]
  },
  {
   "cell_type": "code",
   "execution_count": 19,
   "metadata": {
    "colab": {
     "base_uri": "https://localhost:8080/",
     "height": 165
    },
    "id": "Zy8sBYf46R3E",
    "outputId": "e62f932c-41e2-4a9e-ac81-789915fac2d5"
   },
   "outputs": [
    {
     "data": {
      "text/html": [
       "<div>\n",
       "<style scoped>\n",
       "    .dataframe tbody tr th:only-of-type {\n",
       "        vertical-align: middle;\n",
       "    }\n",
       "\n",
       "    .dataframe tbody tr th {\n",
       "        vertical-align: top;\n",
       "    }\n",
       "\n",
       "    .dataframe thead th {\n",
       "        text-align: right;\n",
       "    }\n",
       "</style>\n",
       "<table border=\"1\" class=\"dataframe\">\n",
       "  <thead>\n",
       "    <tr style=\"text-align: right;\">\n",
       "      <th></th>\n",
       "      <th>Country Name</th>\n",
       "      <th>High-technology exports (% of manufactured exports)</th>\n",
       "      <th>High-technology exports (current US$)</th>\n",
       "      <th>Trademark applications, total</th>\n",
       "      <th>Trademark applications, direct resident</th>\n",
       "      <th>Trademark applications, direct nonresident</th>\n",
       "      <th>Patent applications, residents</th>\n",
       "      <th>Patent applications, nonresidents</th>\n",
       "      <th>Scientific and technical journal articles</th>\n",
       "      <th>Research and development expenditure (% of GDP)</th>\n",
       "    </tr>\n",
       "  </thead>\n",
       "  <tbody>\n",
       "    <tr>\n",
       "      <th>207</th>\n",
       "      <td>United States</td>\n",
       "      <td>18.896</td>\n",
       "      <td>156365524736.000</td>\n",
       "      <td>464786.000</td>\n",
       "      <td>342150.000</td>\n",
       "      <td>122636.000</td>\n",
       "      <td>285095.000</td>\n",
       "      <td>312046.000</td>\n",
       "      <td>422807.710</td>\n",
       "      <td>2.838</td>\n",
       "    </tr>\n",
       "  </tbody>\n",
       "</table>\n",
       "</div>"
      ],
      "text/plain": [
       "      Country Name  High-technology exports (% of manufactured exports)  \\\n",
       "207  United States                                             18.896     \n",
       "\n",
       "     High-technology exports (current US$)  Trademark applications, total  \\\n",
       "207                       156365524736.000                     464786.000   \n",
       "\n",
       "     Trademark applications, direct resident  \\\n",
       "207                               342150.000   \n",
       "\n",
       "     Trademark applications, direct nonresident  \\\n",
       "207                                  122636.000   \n",
       "\n",
       "     Patent applications, residents  Patent applications, nonresidents  \\\n",
       "207                      285095.000                         312046.000   \n",
       "\n",
       "     Scientific and technical journal articles  \\\n",
       "207                                 422807.710   \n",
       "\n",
       "     Research and development expenditure (% of GDP)  \n",
       "207                                            2.838  "
      ]
     },
     "execution_count": 19,
     "metadata": {},
     "output_type": "execute_result"
    }
   ],
   "source": [
    "st_data_2018_clean[st_data_2018_clean['Scientific and technical journal articles']==articles_max]"
   ]
  },
  {
   "cell_type": "code",
   "execution_count": 20,
   "metadata": {
    "colab": {
     "base_uri": "https://localhost:8080/",
     "height": 464
    },
    "id": "JmPXD1Ux6wE8",
    "outputId": "6efc2cf6-ae14-45f6-8bbc-939086194b42"
   },
   "outputs": [
    {
     "data": {
      "text/html": [
       "<div>\n",
       "<style scoped>\n",
       "    .dataframe tbody tr th:only-of-type {\n",
       "        vertical-align: middle;\n",
       "    }\n",
       "\n",
       "    .dataframe tbody tr th {\n",
       "        vertical-align: top;\n",
       "    }\n",
       "\n",
       "    .dataframe thead th {\n",
       "        text-align: right;\n",
       "    }\n",
       "</style>\n",
       "<table border=\"1\" class=\"dataframe\">\n",
       "  <thead>\n",
       "    <tr style=\"text-align: right;\">\n",
       "      <th></th>\n",
       "      <th>Country Name</th>\n",
       "      <th>High-technology exports (% of manufactured exports)</th>\n",
       "      <th>High-technology exports (current US$)</th>\n",
       "      <th>Trademark applications, total</th>\n",
       "      <th>Trademark applications, direct resident</th>\n",
       "      <th>Trademark applications, direct nonresident</th>\n",
       "      <th>Patent applications, residents</th>\n",
       "      <th>Patent applications, nonresidents</th>\n",
       "      <th>Scientific and technical journal articles</th>\n",
       "      <th>Research and development expenditure (% of GDP)</th>\n",
       "    </tr>\n",
       "  </thead>\n",
       "  <tbody>\n",
       "    <tr>\n",
       "      <th>68</th>\n",
       "      <td>France</td>\n",
       "      <td>25.920</td>\n",
       "      <td>117814412441.000</td>\n",
       "      <td>98279.000</td>\n",
       "      <td>90581.000</td>\n",
       "      <td>7698.000</td>\n",
       "      <td>14303.000</td>\n",
       "      <td>1919.000</td>\n",
       "      <td>66352.180</td>\n",
       "      <td>2.200</td>\n",
       "    </tr>\n",
       "    <tr>\n",
       "      <th>73</th>\n",
       "      <td>Germany</td>\n",
       "      <td>15.778</td>\n",
       "      <td>210082307180.000</td>\n",
       "      <td>75236.000</td>\n",
       "      <td>65686.000</td>\n",
       "      <td>9550.000</td>\n",
       "      <td>46617.000</td>\n",
       "      <td>21281.000</td>\n",
       "      <td>104396.120</td>\n",
       "      <td>3.094</td>\n",
       "    </tr>\n",
       "    <tr>\n",
       "      <th>89</th>\n",
       "      <td>India</td>\n",
       "      <td>9.008</td>\n",
       "      <td>20273090235.000</td>\n",
       "      <td>323970.000</td>\n",
       "      <td>297750.000</td>\n",
       "      <td>26220.000</td>\n",
       "      <td>16289.000</td>\n",
       "      <td>33766.000</td>\n",
       "      <td>135787.790</td>\n",
       "      <td>0.650</td>\n",
       "    </tr>\n",
       "    <tr>\n",
       "      <th>96</th>\n",
       "      <td>Italy</td>\n",
       "      <td>7.505</td>\n",
       "      <td>32581025234.000</td>\n",
       "      <td>42580.000</td>\n",
       "      <td>37320.000</td>\n",
       "      <td>5260.000</td>\n",
       "      <td>8921.000</td>\n",
       "      <td>900.000</td>\n",
       "      <td>71240.280</td>\n",
       "      <td>1.399</td>\n",
       "    </tr>\n",
       "    <tr>\n",
       "      <th>98</th>\n",
       "      <td>Japan</td>\n",
       "      <td>17.268</td>\n",
       "      <td>111020443595.000</td>\n",
       "      <td>183657.000</td>\n",
       "      <td>145269.000</td>\n",
       "      <td>38388.000</td>\n",
       "      <td>253630.000</td>\n",
       "      <td>59937.000</td>\n",
       "      <td>98792.500</td>\n",
       "      <td>3.265</td>\n",
       "    </tr>\n",
       "    <tr>\n",
       "      <th>104</th>\n",
       "      <td>Korea, Rep.</td>\n",
       "      <td>36.347</td>\n",
       "      <td>192789656676.000</td>\n",
       "      <td>199476.000</td>\n",
       "      <td>170541.000</td>\n",
       "      <td>28935.000</td>\n",
       "      <td>162561.000</td>\n",
       "      <td>47431.000</td>\n",
       "      <td>66376.170</td>\n",
       "      <td>4.810</td>\n",
       "    </tr>\n",
       "    <tr>\n",
       "      <th>161</th>\n",
       "      <td>Russian Federation</td>\n",
       "      <td>10.963</td>\n",
       "      <td>10183007833.000</td>\n",
       "      <td>75081.000</td>\n",
       "      <td>49132.000</td>\n",
       "      <td>25949.000</td>\n",
       "      <td>24926.000</td>\n",
       "      <td>13031.000</td>\n",
       "      <td>81579.360</td>\n",
       "      <td>0.990</td>\n",
       "    </tr>\n",
       "    <tr>\n",
       "      <th>206</th>\n",
       "      <td>United Kingdom</td>\n",
       "      <td>22.643</td>\n",
       "      <td>76926541023.000</td>\n",
       "      <td>94915.000</td>\n",
       "      <td>66833.000</td>\n",
       "      <td>28082.000</td>\n",
       "      <td>12865.000</td>\n",
       "      <td>8076.000</td>\n",
       "      <td>97680.900</td>\n",
       "      <td>1.724</td>\n",
       "    </tr>\n",
       "    <tr>\n",
       "      <th>207</th>\n",
       "      <td>United States</td>\n",
       "      <td>18.896</td>\n",
       "      <td>156365524736.000</td>\n",
       "      <td>464786.000</td>\n",
       "      <td>342150.000</td>\n",
       "      <td>122636.000</td>\n",
       "      <td>285095.000</td>\n",
       "      <td>312046.000</td>\n",
       "      <td>422807.710</td>\n",
       "      <td>2.838</td>\n",
       "    </tr>\n",
       "  </tbody>\n",
       "</table>\n",
       "</div>"
      ],
      "text/plain": [
       "           Country Name  High-technology exports (% of manufactured exports)  \\\n",
       "68               France                                             25.920     \n",
       "73              Germany                                             15.778     \n",
       "89                India                                              9.008     \n",
       "96                Italy                                              7.505     \n",
       "98                Japan                                             17.268     \n",
       "104         Korea, Rep.                                             36.347     \n",
       "161  Russian Federation                                             10.963     \n",
       "206      United Kingdom                                             22.643     \n",
       "207       United States                                             18.896     \n",
       "\n",
       "     High-technology exports (current US$)  Trademark applications, total  \\\n",
       "68                        117814412441.000                      98279.000   \n",
       "73                        210082307180.000                      75236.000   \n",
       "89                         20273090235.000                     323970.000   \n",
       "96                         32581025234.000                      42580.000   \n",
       "98                        111020443595.000                     183657.000   \n",
       "104                       192789656676.000                     199476.000   \n",
       "161                        10183007833.000                      75081.000   \n",
       "206                        76926541023.000                      94915.000   \n",
       "207                       156365524736.000                     464786.000   \n",
       "\n",
       "     Trademark applications, direct resident  \\\n",
       "68                                 90581.000   \n",
       "73                                 65686.000   \n",
       "89                                297750.000   \n",
       "96                                 37320.000   \n",
       "98                                145269.000   \n",
       "104                               170541.000   \n",
       "161                                49132.000   \n",
       "206                                66833.000   \n",
       "207                               342150.000   \n",
       "\n",
       "     Trademark applications, direct nonresident  \\\n",
       "68                                     7698.000   \n",
       "73                                     9550.000   \n",
       "89                                    26220.000   \n",
       "96                                     5260.000   \n",
       "98                                    38388.000   \n",
       "104                                   28935.000   \n",
       "161                                   25949.000   \n",
       "206                                   28082.000   \n",
       "207                                  122636.000   \n",
       "\n",
       "     Patent applications, residents  Patent applications, nonresidents  \\\n",
       "68                        14303.000                           1919.000   \n",
       "73                        46617.000                          21281.000   \n",
       "89                        16289.000                          33766.000   \n",
       "96                         8921.000                            900.000   \n",
       "98                       253630.000                          59937.000   \n",
       "104                      162561.000                          47431.000   \n",
       "161                       24926.000                          13031.000   \n",
       "206                       12865.000                           8076.000   \n",
       "207                      285095.000                         312046.000   \n",
       "\n",
       "     Scientific and technical journal articles  \\\n",
       "68                                   66352.180   \n",
       "73                                  104396.120   \n",
       "89                                  135787.790   \n",
       "96                                   71240.280   \n",
       "98                                   98792.500   \n",
       "104                                  66376.170   \n",
       "161                                  81579.360   \n",
       "206                                  97680.900   \n",
       "207                                 422807.710   \n",
       "\n",
       "     Research and development expenditure (% of GDP)  \n",
       "68                                             2.200  \n",
       "73                                             3.094  \n",
       "89                                             0.650  \n",
       "96                                             1.399  \n",
       "98                                             3.265  \n",
       "104                                            4.810  \n",
       "161                                            0.990  \n",
       "206                                            1.724  \n",
       "207                                            2.838  "
      ]
     },
     "execution_count": 20,
     "metadata": {},
     "output_type": "execute_result"
    }
   ],
   "source": [
    "st_data_2018_clean[st_data_2018_clean['Scientific and technical journal articles'] > 60000]"
   ]
  },
  {
   "cell_type": "code",
   "execution_count": 21,
   "metadata": {
    "colab": {
     "base_uri": "https://localhost:8080/",
     "height": 1000
    },
    "id": "RCKjSID67Ffu",
    "outputId": "33929c16-4efe-4414-f8b2-c3d79c754018"
   },
   "outputs": [
    {
     "data": {
      "image/png": "[encoded data removed]",
      "text/plain": [
       "<Figure size 720x360 with 1 Axes>"
      ]
     },
     "metadata": {
      "needs_background": "light"
     },
     "output_type": "display_data"
    },
    {
     "data": {
      "image/png": "[encoded data removed]",
      "text/plain": [
       "<Figure size 720x360 with 1 Axes>"
      ]
     },
     "metadata": {
      "needs_background": "light"
     },
     "output_type": "display_data"
    },
    {
     "data": {
      "image/png": "[encoded data removed]",
      "text/plain": [
       "<Figure size 720x360 with 1 Axes>"
      ]
     },
     "metadata": {
      "needs_background": "light"
     },
     "output_type": "display_data"
    },
    {
     "data": {
      "image/png": "[encoded data removed]",
      "text/plain": [
       "<Figure size 720x360 with 1 Axes>"
      ]
     },
     "metadata": {
      "needs_background": "light"
     },
     "output_type": "display_data"
    },
    {
     "data": {
      "image/png": "[encoded data removed]",
      "text/plain": [
       "<Figure size 720x360 with 1 Axes>"
      ]
     },
     "metadata": {
      "needs_background": "light"
     },
     "output_type": "display_data"
    },
    {
     "data": {
      "image/png": "[encoded data removed]",
      "text/plain": [
       "<Figure size 720x360 with 1 Axes>"
      ]
     },
     "metadata": {
      "needs_background": "light"
     },
     "output_type": "display_data"
    },
    {
     "data": {
      "image/png": "[encoded data removed]",
      "text/plain": [
       "<Figure size 720x360 with 1 Axes>"
      ]
     },
     "metadata": {
      "needs_background": "light"
     },
     "output_type": "display_data"
    },
    {
     "data": {
      "image/png": "[encoded data removed]",
      "text/plain": [
       "<Figure size 720x360 with 1 Axes>"
      ]
     },
     "metadata": {
      "needs_background": "light"
     },
     "output_type": "display_data"
    },
    {
     "data": {
      "image/png": "[encoded data removed]",
      "text/plain": [
       "<Figure size 720x360 with 1 Axes>"
      ]
     },
     "metadata": {
      "needs_background": "light"
     },
     "output_type": "display_data"
    }
   ],
   "source": [
    "columns = st_data_2009_clean.columns\n",
    "\n",
    "for i in range(1,len(columns)):\n",
    "  fig = plt.figure(figsize=(10,5))\n",
    "  sns.boxplot(x=st_data_2009_clean[columns[i]])\n",
    "  plt.savefig('outliers09_' + str(i) + '.png')"
   ]
  },
  {
   "cell_type": "code",
   "execution_count": 22,
   "metadata": {
    "colab": {
     "base_uri": "https://localhost:8080/",
     "height": 385
    },
    "id": "v3a0V2nz7hZ8",
    "outputId": "08c04389-2776-435e-aba0-9623d502e2a1"
   },
   "outputs": [
    {
     "data": {
      "text/html": [
       "<div>\n",
       "<style scoped>\n",
       "    .dataframe tbody tr th:only-of-type {\n",
       "        vertical-align: middle;\n",
       "    }\n",
       "\n",
       "    .dataframe tbody tr th {\n",
       "        vertical-align: top;\n",
       "    }\n",
       "\n",
       "    .dataframe thead th {\n",
       "        text-align: right;\n",
       "    }\n",
       "</style>\n",
       "<table border=\"1\" class=\"dataframe\">\n",
       "  <thead>\n",
       "    <tr style=\"text-align: right;\">\n",
       "      <th></th>\n",
       "      <th>Country Name</th>\n",
       "      <th>High-technology exports (% of manufactured exports)</th>\n",
       "      <th>High-technology exports (current US$)</th>\n",
       "      <th>Trademark applications, total</th>\n",
       "      <th>Trademark applications, direct resident</th>\n",
       "      <th>Trademark applications, direct nonresident</th>\n",
       "      <th>Patent applications, residents</th>\n",
       "      <th>Patent applications, nonresidents</th>\n",
       "      <th>Scientific and technical journal articles</th>\n",
       "      <th>Research and development expenditure (% of GDP)</th>\n",
       "    </tr>\n",
       "  </thead>\n",
       "  <tbody>\n",
       "    <tr>\n",
       "      <th>41</th>\n",
       "      <td>China</td>\n",
       "      <td>31.952</td>\n",
       "      <td>359273932009.000</td>\n",
       "      <td>806906.000</td>\n",
       "      <td>741785.000</td>\n",
       "      <td>65121.000</td>\n",
       "      <td>229096.000</td>\n",
       "      <td>85508.000</td>\n",
       "      <td>286371.910</td>\n",
       "      <td>1.665</td>\n",
       "    </tr>\n",
       "    <tr>\n",
       "      <th>68</th>\n",
       "      <td>France</td>\n",
       "      <td>24.380</td>\n",
       "      <td>88872522741.000</td>\n",
       "      <td>83901.000</td>\n",
       "      <td>76540.000</td>\n",
       "      <td>7361.000</td>\n",
       "      <td>14100.000</td>\n",
       "      <td>1593.000</td>\n",
       "      <td>68273.770</td>\n",
       "      <td>2.212</td>\n",
       "    </tr>\n",
       "    <tr>\n",
       "      <th>73</th>\n",
       "      <td>Germany</td>\n",
       "      <td>16.882</td>\n",
       "      <td>159207939862.000</td>\n",
       "      <td>74370.000</td>\n",
       "      <td>65723.000</td>\n",
       "      <td>8647.000</td>\n",
       "      <td>47859.000</td>\n",
       "      <td>11724.000</td>\n",
       "      <td>95453.200</td>\n",
       "      <td>2.726</td>\n",
       "    </tr>\n",
       "    <tr>\n",
       "      <th>98</th>\n",
       "      <td>Japan</td>\n",
       "      <td>20.586</td>\n",
       "      <td>104428943952.000</td>\n",
       "      <td>109614.000</td>\n",
       "      <td>90473.000</td>\n",
       "      <td>19141.000</td>\n",
       "      <td>295315.000</td>\n",
       "      <td>53281.000</td>\n",
       "      <td>109131.250</td>\n",
       "      <td>3.231</td>\n",
       "    </tr>\n",
       "    <tr>\n",
       "      <th>178</th>\n",
       "      <td>South Asia</td>\n",
       "      <td>8.310</td>\n",
       "      <td>11674908636.000</td>\n",
       "      <td>171910.000</td>\n",
       "      <td>157299.000</td>\n",
       "      <td>14611.000</td>\n",
       "      <td>7519.000</td>\n",
       "      <td>27500.000</td>\n",
       "      <td>61863.100</td>\n",
       "      <td>0.786</td>\n",
       "    </tr>\n",
       "    <tr>\n",
       "      <th>206</th>\n",
       "      <td>United Kingdom</td>\n",
       "      <td>20.804</td>\n",
       "      <td>49442450948.000</td>\n",
       "      <td>33846.000</td>\n",
       "      <td>25182.000</td>\n",
       "      <td>8664.000</td>\n",
       "      <td>15985.000</td>\n",
       "      <td>6480.000</td>\n",
       "      <td>93803.370</td>\n",
       "      <td>1.683</td>\n",
       "    </tr>\n",
       "    <tr>\n",
       "      <th>207</th>\n",
       "      <td>United States</td>\n",
       "      <td>25.010</td>\n",
       "      <td>154108484413.000</td>\n",
       "      <td>265943.000</td>\n",
       "      <td>225045.000</td>\n",
       "      <td>40898.000</td>\n",
       "      <td>224912.000</td>\n",
       "      <td>231194.000</td>\n",
       "      <td>399350.310</td>\n",
       "      <td>2.813</td>\n",
       "    </tr>\n",
       "  </tbody>\n",
       "</table>\n",
       "</div>"
      ],
      "text/plain": [
       "       Country Name  High-technology exports (% of manufactured exports)  \\\n",
       "41            China                                             31.952     \n",
       "68           France                                             24.380     \n",
       "73          Germany                                             16.882     \n",
       "98            Japan                                             20.586     \n",
       "178      South Asia                                              8.310     \n",
       "206  United Kingdom                                             20.804     \n",
       "207   United States                                             25.010     \n",
       "\n",
       "     High-technology exports (current US$)  Trademark applications, total  \\\n",
       "41                        359273932009.000                     806906.000   \n",
       "68                         88872522741.000                      83901.000   \n",
       "73                        159207939862.000                      74370.000   \n",
       "98                        104428943952.000                     109614.000   \n",
       "178                        11674908636.000                     171910.000   \n",
       "206                        49442450948.000                      33846.000   \n",
       "207                       154108484413.000                     265943.000   \n",
       "\n",
       "     Trademark applications, direct resident  \\\n",
       "41                                741785.000   \n",
       "68                                 76540.000   \n",
       "73                                 65723.000   \n",
       "98                                 90473.000   \n",
       "178                               157299.000   \n",
       "206                                25182.000   \n",
       "207                               225045.000   \n",
       "\n",
       "     Trademark applications, direct nonresident  \\\n",
       "41                                    65121.000   \n",
       "68                                     7361.000   \n",
       "73                                     8647.000   \n",
       "98                                    19141.000   \n",
       "178                                   14611.000   \n",
       "206                                    8664.000   \n",
       "207                                   40898.000   \n",
       "\n",
       "     Patent applications, residents  Patent applications, nonresidents  \\\n",
       "41                       229096.000                          85508.000   \n",
       "68                        14100.000                           1593.000   \n",
       "73                        47859.000                          11724.000   \n",
       "98                       295315.000                          53281.000   \n",
       "178                        7519.000                          27500.000   \n",
       "206                       15985.000                           6480.000   \n",
       "207                      224912.000                         231194.000   \n",
       "\n",
       "     Scientific and technical journal articles  \\\n",
       "41                                  286371.910   \n",
       "68                                   68273.770   \n",
       "73                                   95453.200   \n",
       "98                                  109131.250   \n",
       "178                                  61863.100   \n",
       "206                                  93803.370   \n",
       "207                                 399350.310   \n",
       "\n",
       "     Research and development expenditure (% of GDP)  \n",
       "41                                             1.665  \n",
       "68                                             2.212  \n",
       "73                                             2.726  \n",
       "98                                             3.231  \n",
       "178                                            0.786  \n",
       "206                                            1.683  \n",
       "207                                            2.813  "
      ]
     },
     "execution_count": 22,
     "metadata": {},
     "output_type": "execute_result"
    }
   ],
   "source": [
    "st_data_2009_clean[st_data_2009_clean['Scientific and technical journal articles'] > 60000]"
   ]
  },
  {
   "cell_type": "markdown",
   "metadata": {
    "id": "m_zgecyR79Yv"
   },
   "source": [
    "### 6 Exploring Relationships"
   ]
  },
  {
   "cell_type": "markdown",
   "metadata": {
    "id": "trvaHI2h8TJE"
   },
   "source": [
    "#### Correlations"
   ]
  },
  {
   "cell_type": "code",
   "execution_count": 23,
   "metadata": {
    "colab": {
     "base_uri": "https://localhost:8080/",
     "height": 501
    },
    "id": "mM81Llsm7yJS",
    "outputId": "953487fe-5b8b-48c7-8fae-f17d0ad65067"
   },
   "outputs": [
    {
     "data": {
      "text/html": [
       "<style  type=\"text/css\" >\n",
       "#T_8d9c8b1e_98a9_11eb_87a1_3464a9ce8e4drow0_col0,#T_8d9c8b1e_98a9_11eb_87a1_3464a9ce8e4drow1_col1,#T_8d9c8b1e_98a9_11eb_87a1_3464a9ce8e4drow2_col2,#T_8d9c8b1e_98a9_11eb_87a1_3464a9ce8e4drow3_col3,#T_8d9c8b1e_98a9_11eb_87a1_3464a9ce8e4drow4_col4,#T_8d9c8b1e_98a9_11eb_87a1_3464a9ce8e4drow5_col5,#T_8d9c8b1e_98a9_11eb_87a1_3464a9ce8e4drow6_col6,#T_8d9c8b1e_98a9_11eb_87a1_3464a9ce8e4drow7_col7,#T_8d9c8b1e_98a9_11eb_87a1_3464a9ce8e4drow8_col8{\n",
       "            background-color:  #fde725;\n",
       "            color:  #000000;\n",
       "        }#T_8d9c8b1e_98a9_11eb_87a1_3464a9ce8e4drow0_col1{\n",
       "            background-color:  #482374;\n",
       "            color:  #f1f1f1;\n",
       "        }#T_8d9c8b1e_98a9_11eb_87a1_3464a9ce8e4drow0_col2{\n",
       "            background-color:  #48186a;\n",
       "            color:  #f1f1f1;\n",
       "        }#T_8d9c8b1e_98a9_11eb_87a1_3464a9ce8e4drow0_col3,#T_8d9c8b1e_98a9_11eb_87a1_3464a9ce8e4drow8_col1,#T_8d9c8b1e_98a9_11eb_87a1_3464a9ce8e4drow8_col6{\n",
       "            background-color:  #481769;\n",
       "            color:  #f1f1f1;\n",
       "        }#T_8d9c8b1e_98a9_11eb_87a1_3464a9ce8e4drow0_col4,#T_8d9c8b1e_98a9_11eb_87a1_3464a9ce8e4drow8_col7{\n",
       "            background-color:  #481b6d;\n",
       "            color:  #f1f1f1;\n",
       "        }#T_8d9c8b1e_98a9_11eb_87a1_3464a9ce8e4drow0_col5,#T_8d9c8b1e_98a9_11eb_87a1_3464a9ce8e4drow0_col6,#T_8d9c8b1e_98a9_11eb_87a1_3464a9ce8e4drow0_col7,#T_8d9c8b1e_98a9_11eb_87a1_3464a9ce8e4drow4_col8,#T_8d9c8b1e_98a9_11eb_87a1_3464a9ce8e4drow6_col0,#T_8d9c8b1e_98a9_11eb_87a1_3464a9ce8e4drow6_col1,#T_8d9c8b1e_98a9_11eb_87a1_3464a9ce8e4drow8_col2,#T_8d9c8b1e_98a9_11eb_87a1_3464a9ce8e4drow8_col3,#T_8d9c8b1e_98a9_11eb_87a1_3464a9ce8e4drow8_col4{\n",
       "            background-color:  #440154;\n",
       "            color:  #f1f1f1;\n",
       "        }#T_8d9c8b1e_98a9_11eb_87a1_3464a9ce8e4drow0_col8{\n",
       "            background-color:  #218e8d;\n",
       "            color:  #000000;\n",
       "        }#T_8d9c8b1e_98a9_11eb_87a1_3464a9ce8e4drow1_col0{\n",
       "            background-color:  #25858e;\n",
       "            color:  #000000;\n",
       "        }#T_8d9c8b1e_98a9_11eb_87a1_3464a9ce8e4drow1_col2,#T_8d9c8b1e_98a9_11eb_87a1_3464a9ce8e4drow1_col3,#T_8d9c8b1e_98a9_11eb_87a1_3464a9ce8e4drow1_col7{\n",
       "            background-color:  #20928c;\n",
       "            color:  #000000;\n",
       "        }#T_8d9c8b1e_98a9_11eb_87a1_3464a9ce8e4drow1_col4{\n",
       "            background-color:  #277e8e;\n",
       "            color:  #000000;\n",
       "        }#T_8d9c8b1e_98a9_11eb_87a1_3464a9ce8e4drow1_col5{\n",
       "            background-color:  #1f988b;\n",
       "            color:  #000000;\n",
       "        }#T_8d9c8b1e_98a9_11eb_87a1_3464a9ce8e4drow1_col6{\n",
       "            background-color:  #2a788e;\n",
       "            color:  #000000;\n",
       "        }#T_8d9c8b1e_98a9_11eb_87a1_3464a9ce8e4drow1_col8{\n",
       "            background-color:  #277f8e;\n",
       "            color:  #000000;\n",
       "        }#T_8d9c8b1e_98a9_11eb_87a1_3464a9ce8e4drow2_col0{\n",
       "            background-color:  #482979;\n",
       "            color:  #f1f1f1;\n",
       "        }#T_8d9c8b1e_98a9_11eb_87a1_3464a9ce8e4drow2_col1{\n",
       "            background-color:  #3e4a89;\n",
       "            color:  #f1f1f1;\n",
       "        }#T_8d9c8b1e_98a9_11eb_87a1_3464a9ce8e4drow2_col3,#T_8d9c8b1e_98a9_11eb_87a1_3464a9ce8e4drow3_col2{\n",
       "            background-color:  #f8e621;\n",
       "            color:  #000000;\n",
       "        }#T_8d9c8b1e_98a9_11eb_87a1_3464a9ce8e4drow2_col4{\n",
       "            background-color:  #9dd93b;\n",
       "            color:  #000000;\n",
       "        }#T_8d9c8b1e_98a9_11eb_87a1_3464a9ce8e4drow2_col5{\n",
       "            background-color:  #32b67a;\n",
       "            color:  #000000;\n",
       "        }#T_8d9c8b1e_98a9_11eb_87a1_3464a9ce8e4drow2_col6{\n",
       "            background-color:  #73d056;\n",
       "            color:  #000000;\n",
       "        }#T_8d9c8b1e_98a9_11eb_87a1_3464a9ce8e4drow2_col7{\n",
       "            background-color:  #a5db36;\n",
       "            color:  #000000;\n",
       "        }#T_8d9c8b1e_98a9_11eb_87a1_3464a9ce8e4drow2_col8{\n",
       "            background-color:  #471063;\n",
       "            color:  #f1f1f1;\n",
       "        }#T_8d9c8b1e_98a9_11eb_87a1_3464a9ce8e4drow3_col0{\n",
       "            background-color:  #482878;\n",
       "            color:  #f1f1f1;\n",
       "        }#T_8d9c8b1e_98a9_11eb_87a1_3464a9ce8e4drow3_col1{\n",
       "            background-color:  #3e4989;\n",
       "            color:  #f1f1f1;\n",
       "        }#T_8d9c8b1e_98a9_11eb_87a1_3464a9ce8e4drow3_col4,#T_8d9c8b1e_98a9_11eb_87a1_3464a9ce8e4drow5_col6{\n",
       "            background-color:  #69cd5b;\n",
       "            color:  #000000;\n",
       "        }#T_8d9c8b1e_98a9_11eb_87a1_3464a9ce8e4drow3_col5{\n",
       "            background-color:  #22a884;\n",
       "            color:  #000000;\n",
       "        }#T_8d9c8b1e_98a9_11eb_87a1_3464a9ce8e4drow3_col6{\n",
       "            background-color:  #48c16e;\n",
       "            color:  #000000;\n",
       "        }#T_8d9c8b1e_98a9_11eb_87a1_3464a9ce8e4drow3_col7,#T_8d9c8b1e_98a9_11eb_87a1_3464a9ce8e4drow7_col3{\n",
       "            background-color:  #81d34d;\n",
       "            color:  #000000;\n",
       "        }#T_8d9c8b1e_98a9_11eb_87a1_3464a9ce8e4drow3_col8{\n",
       "            background-color:  #470e61;\n",
       "            color:  #f1f1f1;\n",
       "        }#T_8d9c8b1e_98a9_11eb_87a1_3464a9ce8e4drow4_col0{\n",
       "            background-color:  #481f70;\n",
       "            color:  #f1f1f1;\n",
       "        }#T_8d9c8b1e_98a9_11eb_87a1_3464a9ce8e4drow4_col1{\n",
       "            background-color:  #481668;\n",
       "            color:  #f1f1f1;\n",
       "        }#T_8d9c8b1e_98a9_11eb_87a1_3464a9ce8e4drow4_col2{\n",
       "            background-color:  #9bd93c;\n",
       "            color:  #000000;\n",
       "        }#T_8d9c8b1e_98a9_11eb_87a1_3464a9ce8e4drow4_col3{\n",
       "            background-color:  #63cb5f;\n",
       "            color:  #000000;\n",
       "        }#T_8d9c8b1e_98a9_11eb_87a1_3464a9ce8e4drow4_col5,#T_8d9c8b1e_98a9_11eb_87a1_3464a9ce8e4drow5_col2,#T_8d9c8b1e_98a9_11eb_87a1_3464a9ce8e4drow5_col7,#T_8d9c8b1e_98a9_11eb_87a1_3464a9ce8e4drow6_col3{\n",
       "            background-color:  #40bd72;\n",
       "            color:  #000000;\n",
       "        }#T_8d9c8b1e_98a9_11eb_87a1_3464a9ce8e4drow4_col6,#T_8d9c8b1e_98a9_11eb_87a1_3464a9ce8e4drow6_col4{\n",
       "            background-color:  #cae11f;\n",
       "            color:  #000000;\n",
       "        }#T_8d9c8b1e_98a9_11eb_87a1_3464a9ce8e4drow4_col7{\n",
       "            background-color:  #b0dd2f;\n",
       "            color:  #000000;\n",
       "        }#T_8d9c8b1e_98a9_11eb_87a1_3464a9ce8e4drow5_col0{\n",
       "            background-color:  #453581;\n",
       "            color:  #f1f1f1;\n",
       "        }#T_8d9c8b1e_98a9_11eb_87a1_3464a9ce8e4drow5_col1{\n",
       "            background-color:  #306a8e;\n",
       "            color:  #f1f1f1;\n",
       "        }#T_8d9c8b1e_98a9_11eb_87a1_3464a9ce8e4drow5_col3{\n",
       "            background-color:  #2db27d;\n",
       "            color:  #000000;\n",
       "        }#T_8d9c8b1e_98a9_11eb_87a1_3464a9ce8e4drow5_col4{\n",
       "            background-color:  #56c667;\n",
       "            color:  #000000;\n",
       "        }#T_8d9c8b1e_98a9_11eb_87a1_3464a9ce8e4drow5_col8{\n",
       "            background-color:  #38588c;\n",
       "            color:  #f1f1f1;\n",
       "        }#T_8d9c8b1e_98a9_11eb_87a1_3464a9ce8e4drow6_col2{\n",
       "            background-color:  #6ccd5a;\n",
       "            color:  #000000;\n",
       "        }#T_8d9c8b1e_98a9_11eb_87a1_3464a9ce8e4drow6_col5{\n",
       "            background-color:  #52c569;\n",
       "            color:  #000000;\n",
       "        }#T_8d9c8b1e_98a9_11eb_87a1_3464a9ce8e4drow6_col7{\n",
       "            background-color:  #bddf26;\n",
       "            color:  #000000;\n",
       "        }#T_8d9c8b1e_98a9_11eb_87a1_3464a9ce8e4drow6_col8{\n",
       "            background-color:  #471164;\n",
       "            color:  #f1f1f1;\n",
       "        }#T_8d9c8b1e_98a9_11eb_87a1_3464a9ce8e4drow7_col0{\n",
       "            background-color:  #471365;\n",
       "            color:  #f1f1f1;\n",
       "        }#T_8d9c8b1e_98a9_11eb_87a1_3464a9ce8e4drow7_col1{\n",
       "            background-color:  #3f4889;\n",
       "            color:  #f1f1f1;\n",
       "        }#T_8d9c8b1e_98a9_11eb_87a1_3464a9ce8e4drow7_col2{\n",
       "            background-color:  #a2da37;\n",
       "            color:  #000000;\n",
       "        }#T_8d9c8b1e_98a9_11eb_87a1_3464a9ce8e4drow7_col4{\n",
       "            background-color:  #b2dd2d;\n",
       "            color:  #000000;\n",
       "        }#T_8d9c8b1e_98a9_11eb_87a1_3464a9ce8e4drow7_col5{\n",
       "            background-color:  #31b57b;\n",
       "            color:  #000000;\n",
       "        }#T_8d9c8b1e_98a9_11eb_87a1_3464a9ce8e4drow7_col6{\n",
       "            background-color:  #c0df25;\n",
       "            color:  #000000;\n",
       "        }#T_8d9c8b1e_98a9_11eb_87a1_3464a9ce8e4drow7_col8{\n",
       "            background-color:  #482677;\n",
       "            color:  #f1f1f1;\n",
       "        }#T_8d9c8b1e_98a9_11eb_87a1_3464a9ce8e4drow8_col0{\n",
       "            background-color:  #21908d;\n",
       "            color:  #000000;\n",
       "        }#T_8d9c8b1e_98a9_11eb_87a1_3464a9ce8e4drow8_col5{\n",
       "            background-color:  #463480;\n",
       "            color:  #f1f1f1;\n",
       "        }</style><table id=\"T_8d9c8b1e_98a9_11eb_87a1_3464a9ce8e4d\" ><thead>    <tr>        <th class=\"blank level0\" ></th>        <th class=\"col_heading level0 col0\" >High-technology exports (% of manufactured exports)</th>        <th class=\"col_heading level0 col1\" >High-technology exports (current US$)</th>        <th class=\"col_heading level0 col2\" >Trademark applications, total</th>        <th class=\"col_heading level0 col3\" >Trademark applications, direct resident</th>        <th class=\"col_heading level0 col4\" >Trademark applications, direct nonresident</th>        <th class=\"col_heading level0 col5\" >Patent applications, residents</th>        <th class=\"col_heading level0 col6\" >Patent applications, nonresidents</th>        <th class=\"col_heading level0 col7\" >Scientific and technical journal articles</th>        <th class=\"col_heading level0 col8\" >Research and development expenditure (% of GDP)</th>    </tr></thead><tbody>\n",
       "                <tr>\n",
       "                        <th id=\"T_8d9c8b1e_98a9_11eb_87a1_3464a9ce8e4dlevel0_row0\" class=\"row_heading level0 row0\" >High-technology exports (% of manufactured exports)</th>\n",
       "                        <td id=\"T_8d9c8b1e_98a9_11eb_87a1_3464a9ce8e4drow0_col0\" class=\"data row0 col0\" >1.000000</td>\n",
       "                        <td id=\"T_8d9c8b1e_98a9_11eb_87a1_3464a9ce8e4drow0_col1\" class=\"data row0 col1\" >0.580170</td>\n",
       "                        <td id=\"T_8d9c8b1e_98a9_11eb_87a1_3464a9ce8e4drow0_col2\" class=\"data row0 col2\" >0.317002</td>\n",
       "                        <td id=\"T_8d9c8b1e_98a9_11eb_87a1_3464a9ce8e4drow0_col3\" class=\"data row0 col3\" >0.311593</td>\n",
       "                        <td id=\"T_8d9c8b1e_98a9_11eb_87a1_3464a9ce8e4drow0_col4\" class=\"data row0 col4\" >0.292695</td>\n",
       "                        <td id=\"T_8d9c8b1e_98a9_11eb_87a1_3464a9ce8e4drow0_col5\" class=\"data row0 col5\" >0.346438</td>\n",
       "                        <td id=\"T_8d9c8b1e_98a9_11eb_87a1_3464a9ce8e4drow0_col6\" class=\"data row0 col6\" >0.226806</td>\n",
       "                        <td id=\"T_8d9c8b1e_98a9_11eb_87a1_3464a9ce8e4drow0_col7\" class=\"data row0 col7\" >0.265684</td>\n",
       "                        <td id=\"T_8d9c8b1e_98a9_11eb_87a1_3464a9ce8e4drow0_col8\" class=\"data row0 col8\" >0.612370</td>\n",
       "            </tr>\n",
       "            <tr>\n",
       "                        <th id=\"T_8d9c8b1e_98a9_11eb_87a1_3464a9ce8e4dlevel0_row1\" class=\"row_heading level0 row1\" >High-technology exports (current US$)</th>\n",
       "                        <td id=\"T_8d9c8b1e_98a9_11eb_87a1_3464a9ce8e4drow1_col0\" class=\"data row1 col0\" >0.580170</td>\n",
       "                        <td id=\"T_8d9c8b1e_98a9_11eb_87a1_3464a9ce8e4drow1_col1\" class=\"data row1 col1\" >1.000000</td>\n",
       "                        <td id=\"T_8d9c8b1e_98a9_11eb_87a1_3464a9ce8e4drow1_col2\" class=\"data row1 col2\" >0.641144</td>\n",
       "                        <td id=\"T_8d9c8b1e_98a9_11eb_87a1_3464a9ce8e4drow1_col3\" class=\"data row1 col3\" >0.638493</td>\n",
       "                        <td id=\"T_8d9c8b1e_98a9_11eb_87a1_3464a9ce8e4drow1_col4\" class=\"data row1 col4\" >0.561467</td>\n",
       "                        <td id=\"T_8d9c8b1e_98a9_11eb_87a1_3464a9ce8e4drow1_col5\" class=\"data row1 col5\" >0.694110</td>\n",
       "                        <td id=\"T_8d9c8b1e_98a9_11eb_87a1_3464a9ce8e4drow1_col6\" class=\"data row1 col6\" >0.536050</td>\n",
       "                        <td id=\"T_8d9c8b1e_98a9_11eb_87a1_3464a9ce8e4drow1_col7\" class=\"data row1 col7\" >0.635776</td>\n",
       "                        <td id=\"T_8d9c8b1e_98a9_11eb_87a1_3464a9ce8e4drow1_col8\" class=\"data row1 col8\" >0.564181</td>\n",
       "            </tr>\n",
       "            <tr>\n",
       "                        <th id=\"T_8d9c8b1e_98a9_11eb_87a1_3464a9ce8e4dlevel0_row2\" class=\"row_heading level0 row2\" >Trademark applications, total</th>\n",
       "                        <td id=\"T_8d9c8b1e_98a9_11eb_87a1_3464a9ce8e4drow2_col0\" class=\"data row2 col0\" >0.317002</td>\n",
       "                        <td id=\"T_8d9c8b1e_98a9_11eb_87a1_3464a9ce8e4drow2_col1\" class=\"data row2 col1\" >0.641144</td>\n",
       "                        <td id=\"T_8d9c8b1e_98a9_11eb_87a1_3464a9ce8e4drow2_col2\" class=\"data row2 col2\" >1.000000</td>\n",
       "                        <td id=\"T_8d9c8b1e_98a9_11eb_87a1_3464a9ce8e4drow2_col3\" class=\"data row2 col3\" >0.992243</td>\n",
       "                        <td id=\"T_8d9c8b1e_98a9_11eb_87a1_3464a9ce8e4drow2_col4\" class=\"data row2 col4\" >0.889062</td>\n",
       "                        <td id=\"T_8d9c8b1e_98a9_11eb_87a1_3464a9ce8e4drow2_col5\" class=\"data row2 col5\" >0.775550</td>\n",
       "                        <td id=\"T_8d9c8b1e_98a9_11eb_87a1_3464a9ce8e4drow2_col6\" class=\"data row2 col6\" >0.836150</td>\n",
       "                        <td id=\"T_8d9c8b1e_98a9_11eb_87a1_3464a9ce8e4drow2_col7\" class=\"data row2 col7\" >0.899688</td>\n",
       "                        <td id=\"T_8d9c8b1e_98a9_11eb_87a1_3464a9ce8e4drow2_col8\" class=\"data row2 col8\" >0.269173</td>\n",
       "            </tr>\n",
       "            <tr>\n",
       "                        <th id=\"T_8d9c8b1e_98a9_11eb_87a1_3464a9ce8e4dlevel0_row3\" class=\"row_heading level0 row3\" >Trademark applications, direct resident</th>\n",
       "                        <td id=\"T_8d9c8b1e_98a9_11eb_87a1_3464a9ce8e4drow3_col0\" class=\"data row3 col0\" >0.311593</td>\n",
       "                        <td id=\"T_8d9c8b1e_98a9_11eb_87a1_3464a9ce8e4drow3_col1\" class=\"data row3 col1\" >0.638493</td>\n",
       "                        <td id=\"T_8d9c8b1e_98a9_11eb_87a1_3464a9ce8e4drow3_col2\" class=\"data row3 col2\" >0.992243</td>\n",
       "                        <td id=\"T_8d9c8b1e_98a9_11eb_87a1_3464a9ce8e4drow3_col3\" class=\"data row3 col3\" >1.000000</td>\n",
       "                        <td id=\"T_8d9c8b1e_98a9_11eb_87a1_3464a9ce8e4drow3_col4\" class=\"data row3 col4\" >0.825255</td>\n",
       "                        <td id=\"T_8d9c8b1e_98a9_11eb_87a1_3464a9ce8e4drow3_col5\" class=\"data row3 col5\" >0.739478</td>\n",
       "                        <td id=\"T_8d9c8b1e_98a9_11eb_87a1_3464a9ce8e4drow3_col6\" class=\"data row3 col6\" >0.776488</td>\n",
       "                        <td id=\"T_8d9c8b1e_98a9_11eb_87a1_3464a9ce8e4drow3_col7\" class=\"data row3 col7\" >0.861888</td>\n",
       "                        <td id=\"T_8d9c8b1e_98a9_11eb_87a1_3464a9ce8e4drow3_col8\" class=\"data row3 col8\" >0.267180</td>\n",
       "            </tr>\n",
       "            <tr>\n",
       "                        <th id=\"T_8d9c8b1e_98a9_11eb_87a1_3464a9ce8e4dlevel0_row4\" class=\"row_heading level0 row4\" >Trademark applications, direct nonresident</th>\n",
       "                        <td id=\"T_8d9c8b1e_98a9_11eb_87a1_3464a9ce8e4drow4_col0\" class=\"data row4 col0\" >0.292695</td>\n",
       "                        <td id=\"T_8d9c8b1e_98a9_11eb_87a1_3464a9ce8e4drow4_col1\" class=\"data row4 col1\" >0.561467</td>\n",
       "                        <td id=\"T_8d9c8b1e_98a9_11eb_87a1_3464a9ce8e4drow4_col2\" class=\"data row4 col2\" >0.889062</td>\n",
       "                        <td id=\"T_8d9c8b1e_98a9_11eb_87a1_3464a9ce8e4drow4_col3\" class=\"data row4 col3\" >0.825255</td>\n",
       "                        <td id=\"T_8d9c8b1e_98a9_11eb_87a1_3464a9ce8e4drow4_col4\" class=\"data row4 col4\" >1.000000</td>\n",
       "                        <td id=\"T_8d9c8b1e_98a9_11eb_87a1_3464a9ce8e4drow4_col5\" class=\"data row4 col5\" >0.800193</td>\n",
       "                        <td id=\"T_8d9c8b1e_98a9_11eb_87a1_3464a9ce8e4drow4_col6\" class=\"data row4 col6\" >0.939207</td>\n",
       "                        <td id=\"T_8d9c8b1e_98a9_11eb_87a1_3464a9ce8e4drow4_col7\" class=\"data row4 col7\" >0.913375</td>\n",
       "                        <td id=\"T_8d9c8b1e_98a9_11eb_87a1_3464a9ce8e4drow4_col8\" class=\"data row4 col8\" >0.238961</td>\n",
       "            </tr>\n",
       "            <tr>\n",
       "                        <th id=\"T_8d9c8b1e_98a9_11eb_87a1_3464a9ce8e4dlevel0_row5\" class=\"row_heading level0 row5\" >Patent applications, residents</th>\n",
       "                        <td id=\"T_8d9c8b1e_98a9_11eb_87a1_3464a9ce8e4drow5_col0\" class=\"data row5 col0\" >0.346438</td>\n",
       "                        <td id=\"T_8d9c8b1e_98a9_11eb_87a1_3464a9ce8e4drow5_col1\" class=\"data row5 col1\" >0.694110</td>\n",
       "                        <td id=\"T_8d9c8b1e_98a9_11eb_87a1_3464a9ce8e4drow5_col2\" class=\"data row5 col2\" >0.775550</td>\n",
       "                        <td id=\"T_8d9c8b1e_98a9_11eb_87a1_3464a9ce8e4drow5_col3\" class=\"data row5 col3\" >0.739478</td>\n",
       "                        <td id=\"T_8d9c8b1e_98a9_11eb_87a1_3464a9ce8e4drow5_col4\" class=\"data row5 col4\" >0.800193</td>\n",
       "                        <td id=\"T_8d9c8b1e_98a9_11eb_87a1_3464a9ce8e4drow5_col5\" class=\"data row5 col5\" >1.000000</td>\n",
       "                        <td id=\"T_8d9c8b1e_98a9_11eb_87a1_3464a9ce8e4drow5_col6\" class=\"data row5 col6\" >0.822861</td>\n",
       "                        <td id=\"T_8d9c8b1e_98a9_11eb_87a1_3464a9ce8e4drow5_col7\" class=\"data row5 col7\" >0.773602</td>\n",
       "                        <td id=\"T_8d9c8b1e_98a9_11eb_87a1_3464a9ce8e4drow5_col8\" class=\"data row5 col8\" >0.445426</td>\n",
       "            </tr>\n",
       "            <tr>\n",
       "                        <th id=\"T_8d9c8b1e_98a9_11eb_87a1_3464a9ce8e4dlevel0_row6\" class=\"row_heading level0 row6\" >Patent applications, nonresidents</th>\n",
       "                        <td id=\"T_8d9c8b1e_98a9_11eb_87a1_3464a9ce8e4drow6_col0\" class=\"data row6 col0\" >0.226806</td>\n",
       "                        <td id=\"T_8d9c8b1e_98a9_11eb_87a1_3464a9ce8e4drow6_col1\" class=\"data row6 col1\" >0.536050</td>\n",
       "                        <td id=\"T_8d9c8b1e_98a9_11eb_87a1_3464a9ce8e4drow6_col2\" class=\"data row6 col2\" >0.836150</td>\n",
       "                        <td id=\"T_8d9c8b1e_98a9_11eb_87a1_3464a9ce8e4drow6_col3\" class=\"data row6 col3\" >0.776488</td>\n",
       "                        <td id=\"T_8d9c8b1e_98a9_11eb_87a1_3464a9ce8e4drow6_col4\" class=\"data row6 col4\" >0.939207</td>\n",
       "                        <td id=\"T_8d9c8b1e_98a9_11eb_87a1_3464a9ce8e4drow6_col5\" class=\"data row6 col5\" >0.822861</td>\n",
       "                        <td id=\"T_8d9c8b1e_98a9_11eb_87a1_3464a9ce8e4drow6_col6\" class=\"data row6 col6\" >1.000000</td>\n",
       "                        <td id=\"T_8d9c8b1e_98a9_11eb_87a1_3464a9ce8e4drow6_col7\" class=\"data row6 col7\" >0.927461</td>\n",
       "                        <td id=\"T_8d9c8b1e_98a9_11eb_87a1_3464a9ce8e4drow6_col8\" class=\"data row6 col8\" >0.272978</td>\n",
       "            </tr>\n",
       "            <tr>\n",
       "                        <th id=\"T_8d9c8b1e_98a9_11eb_87a1_3464a9ce8e4dlevel0_row7\" class=\"row_heading level0 row7\" >Scientific and technical journal articles</th>\n",
       "                        <td id=\"T_8d9c8b1e_98a9_11eb_87a1_3464a9ce8e4drow7_col0\" class=\"data row7 col0\" >0.265684</td>\n",
       "                        <td id=\"T_8d9c8b1e_98a9_11eb_87a1_3464a9ce8e4drow7_col1\" class=\"data row7 col1\" >0.635776</td>\n",
       "                        <td id=\"T_8d9c8b1e_98a9_11eb_87a1_3464a9ce8e4drow7_col2\" class=\"data row7 col2\" >0.899688</td>\n",
       "                        <td id=\"T_8d9c8b1e_98a9_11eb_87a1_3464a9ce8e4drow7_col3\" class=\"data row7 col3\" >0.861888</td>\n",
       "                        <td id=\"T_8d9c8b1e_98a9_11eb_87a1_3464a9ce8e4drow7_col4\" class=\"data row7 col4\" >0.913375</td>\n",
       "                        <td id=\"T_8d9c8b1e_98a9_11eb_87a1_3464a9ce8e4drow7_col5\" class=\"data row7 col5\" >0.773602</td>\n",
       "                        <td id=\"T_8d9c8b1e_98a9_11eb_87a1_3464a9ce8e4drow7_col6\" class=\"data row7 col6\" >0.927461</td>\n",
       "                        <td id=\"T_8d9c8b1e_98a9_11eb_87a1_3464a9ce8e4drow7_col7\" class=\"data row7 col7\" >1.000000</td>\n",
       "                        <td id=\"T_8d9c8b1e_98a9_11eb_87a1_3464a9ce8e4drow7_col8\" class=\"data row7 col8\" >0.319454</td>\n",
       "            </tr>\n",
       "            <tr>\n",
       "                        <th id=\"T_8d9c8b1e_98a9_11eb_87a1_3464a9ce8e4dlevel0_row8\" class=\"row_heading level0 row8\" >Research and development expenditure (% of GDP)</th>\n",
       "                        <td id=\"T_8d9c8b1e_98a9_11eb_87a1_3464a9ce8e4drow8_col0\" class=\"data row8 col0\" >0.612370</td>\n",
       "                        <td id=\"T_8d9c8b1e_98a9_11eb_87a1_3464a9ce8e4drow8_col1\" class=\"data row8 col1\" >0.564181</td>\n",
       "                        <td id=\"T_8d9c8b1e_98a9_11eb_87a1_3464a9ce8e4drow8_col2\" class=\"data row8 col2\" >0.269173</td>\n",
       "                        <td id=\"T_8d9c8b1e_98a9_11eb_87a1_3464a9ce8e4drow8_col3\" class=\"data row8 col3\" >0.267180</td>\n",
       "                        <td id=\"T_8d9c8b1e_98a9_11eb_87a1_3464a9ce8e4drow8_col4\" class=\"data row8 col4\" >0.238961</td>\n",
       "                        <td id=\"T_8d9c8b1e_98a9_11eb_87a1_3464a9ce8e4drow8_col5\" class=\"data row8 col5\" >0.445426</td>\n",
       "                        <td id=\"T_8d9c8b1e_98a9_11eb_87a1_3464a9ce8e4drow8_col6\" class=\"data row8 col6\" >0.272978</td>\n",
       "                        <td id=\"T_8d9c8b1e_98a9_11eb_87a1_3464a9ce8e4drow8_col7\" class=\"data row8 col7\" >0.319454</td>\n",
       "                        <td id=\"T_8d9c8b1e_98a9_11eb_87a1_3464a9ce8e4drow8_col8\" class=\"data row8 col8\" >1.000000</td>\n",
       "            </tr>\n",
       "    </tbody></table>"
      ],
      "text/plain": [
       "<pandas.io.formats.style.Styler at 0x124073b0>"
      ]
     },
     "execution_count": 23,
     "metadata": {},
     "output_type": "execute_result"
    }
   ],
   "source": [
    "st_data_2018_clean.corr(method='pearson').style.background_gradient(cmap='viridis')"
   ]
  },
  {
   "cell_type": "code",
   "execution_count": 24,
   "metadata": {
    "colab": {
     "base_uri": "https://localhost:8080/",
     "height": 501
    },
    "id": "Gx21yUXa9QFf",
    "outputId": "db6ecc13-8b02-4943-ae49-e98c3f746591"
   },
   "outputs": [
    {
     "data": {
      "text/html": [
       "<style  type=\"text/css\" >\n",
       "#T_8da51564_98a9_11eb_b9b3_3464a9ce8e4drow0_col0,#T_8da51564_98a9_11eb_b9b3_3464a9ce8e4drow1_col1,#T_8da51564_98a9_11eb_b9b3_3464a9ce8e4drow2_col2,#T_8da51564_98a9_11eb_b9b3_3464a9ce8e4drow3_col3,#T_8da51564_98a9_11eb_b9b3_3464a9ce8e4drow4_col4,#T_8da51564_98a9_11eb_b9b3_3464a9ce8e4drow5_col5,#T_8da51564_98a9_11eb_b9b3_3464a9ce8e4drow6_col6,#T_8da51564_98a9_11eb_b9b3_3464a9ce8e4drow7_col7,#T_8da51564_98a9_11eb_b9b3_3464a9ce8e4drow8_col8{\n",
       "            background-color:  #fde725;\n",
       "            color:  #000000;\n",
       "        }#T_8da51564_98a9_11eb_b9b3_3464a9ce8e4drow0_col1,#T_8da51564_98a9_11eb_b9b3_3464a9ce8e4drow8_col1{\n",
       "            background-color:  #1f9e89;\n",
       "            color:  #000000;\n",
       "        }#T_8da51564_98a9_11eb_b9b3_3464a9ce8e4drow0_col2{\n",
       "            background-color:  #481668;\n",
       "            color:  #f1f1f1;\n",
       "        }#T_8da51564_98a9_11eb_b9b3_3464a9ce8e4drow0_col3{\n",
       "            background-color:  #471063;\n",
       "            color:  #f1f1f1;\n",
       "        }#T_8da51564_98a9_11eb_b9b3_3464a9ce8e4drow0_col4{\n",
       "            background-color:  #463480;\n",
       "            color:  #f1f1f1;\n",
       "        }#T_8da51564_98a9_11eb_b9b3_3464a9ce8e4drow0_col5,#T_8da51564_98a9_11eb_b9b3_3464a9ce8e4drow0_col6,#T_8da51564_98a9_11eb_b9b3_3464a9ce8e4drow0_col7,#T_8da51564_98a9_11eb_b9b3_3464a9ce8e4drow4_col0,#T_8da51564_98a9_11eb_b9b3_3464a9ce8e4drow4_col1,#T_8da51564_98a9_11eb_b9b3_3464a9ce8e4drow4_col8,#T_8da51564_98a9_11eb_b9b3_3464a9ce8e4drow8_col2,#T_8da51564_98a9_11eb_b9b3_3464a9ce8e4drow8_col3,#T_8da51564_98a9_11eb_b9b3_3464a9ce8e4drow8_col4{\n",
       "            background-color:  #440154;\n",
       "            color:  #f1f1f1;\n",
       "        }#T_8da51564_98a9_11eb_b9b3_3464a9ce8e4drow0_col8,#T_8da51564_98a9_11eb_b9b3_3464a9ce8e4drow7_col6{\n",
       "            background-color:  #25ac82;\n",
       "            color:  #000000;\n",
       "        }#T_8da51564_98a9_11eb_b9b3_3464a9ce8e4drow1_col0,#T_8da51564_98a9_11eb_b9b3_3464a9ce8e4drow2_col5{\n",
       "            background-color:  #31b57b;\n",
       "            color:  #000000;\n",
       "        }#T_8da51564_98a9_11eb_b9b3_3464a9ce8e4drow1_col2{\n",
       "            background-color:  #218e8d;\n",
       "            color:  #000000;\n",
       "        }#T_8da51564_98a9_11eb_b9b3_3464a9ce8e4drow1_col3,#T_8da51564_98a9_11eb_b9b3_3464a9ce8e4drow5_col1{\n",
       "            background-color:  #20a486;\n",
       "            color:  #000000;\n",
       "        }#T_8da51564_98a9_11eb_b9b3_3464a9ce8e4drow1_col4{\n",
       "            background-color:  #31678e;\n",
       "            color:  #f1f1f1;\n",
       "        }#T_8da51564_98a9_11eb_b9b3_3464a9ce8e4drow1_col5,#T_8da51564_98a9_11eb_b9b3_3464a9ce8e4drow2_col7,#T_8da51564_98a9_11eb_b9b3_3464a9ce8e4drow5_col4{\n",
       "            background-color:  #1fa187;\n",
       "            color:  #000000;\n",
       "        }#T_8da51564_98a9_11eb_b9b3_3464a9ce8e4drow1_col6{\n",
       "            background-color:  #2d718e;\n",
       "            color:  #f1f1f1;\n",
       "        }#T_8da51564_98a9_11eb_b9b3_3464a9ce8e4drow1_col7,#T_8da51564_98a9_11eb_b9b3_3464a9ce8e4drow3_col6{\n",
       "            background-color:  #63cb5f;\n",
       "            color:  #000000;\n",
       "        }#T_8da51564_98a9_11eb_b9b3_3464a9ce8e4drow1_col8,#T_8da51564_98a9_11eb_b9b3_3464a9ce8e4drow3_col5{\n",
       "            background-color:  #44bf70;\n",
       "            color:  #000000;\n",
       "        }#T_8da51564_98a9_11eb_b9b3_3464a9ce8e4drow2_col0{\n",
       "            background-color:  #482374;\n",
       "            color:  #f1f1f1;\n",
       "        }#T_8da51564_98a9_11eb_b9b3_3464a9ce8e4drow2_col1{\n",
       "            background-color:  #2c728e;\n",
       "            color:  #f1f1f1;\n",
       "        }#T_8da51564_98a9_11eb_b9b3_3464a9ce8e4drow2_col3{\n",
       "            background-color:  #d5e21a;\n",
       "            color:  #000000;\n",
       "        }#T_8da51564_98a9_11eb_b9b3_3464a9ce8e4drow2_col4{\n",
       "            background-color:  #a8db34;\n",
       "            color:  #000000;\n",
       "        }#T_8da51564_98a9_11eb_b9b3_3464a9ce8e4drow2_col6,#T_8da51564_98a9_11eb_b9b3_3464a9ce8e4drow7_col3{\n",
       "            background-color:  #7cd250;\n",
       "            color:  #000000;\n",
       "        }#T_8da51564_98a9_11eb_b9b3_3464a9ce8e4drow2_col8{\n",
       "            background-color:  #423f85;\n",
       "            color:  #f1f1f1;\n",
       "        }#T_8da51564_98a9_11eb_b9b3_3464a9ce8e4drow3_col0{\n",
       "            background-color:  #424186;\n",
       "            color:  #f1f1f1;\n",
       "        }#T_8da51564_98a9_11eb_b9b3_3464a9ce8e4drow3_col1{\n",
       "            background-color:  #1e9d89;\n",
       "            color:  #000000;\n",
       "        }#T_8da51564_98a9_11eb_b9b3_3464a9ce8e4drow3_col2{\n",
       "            background-color:  #dae319;\n",
       "            color:  #000000;\n",
       "        }#T_8da51564_98a9_11eb_b9b3_3464a9ce8e4drow3_col4{\n",
       "            background-color:  #4cc26c;\n",
       "            color:  #000000;\n",
       "        }#T_8da51564_98a9_11eb_b9b3_3464a9ce8e4drow3_col7,#T_8da51564_98a9_11eb_b9b3_3464a9ce8e4drow5_col2{\n",
       "            background-color:  #50c46a;\n",
       "            color:  #000000;\n",
       "        }#T_8da51564_98a9_11eb_b9b3_3464a9ce8e4drow3_col8{\n",
       "            background-color:  #375b8d;\n",
       "            color:  #f1f1f1;\n",
       "        }#T_8da51564_98a9_11eb_b9b3_3464a9ce8e4drow4_col2{\n",
       "            background-color:  #95d840;\n",
       "            color:  #000000;\n",
       "        }#T_8da51564_98a9_11eb_b9b3_3464a9ce8e4drow4_col3,#T_8da51564_98a9_11eb_b9b3_3464a9ce8e4drow7_col8{\n",
       "            background-color:  #23a983;\n",
       "            color:  #000000;\n",
       "        }#T_8da51564_98a9_11eb_b9b3_3464a9ce8e4drow4_col5{\n",
       "            background-color:  #306a8e;\n",
       "            color:  #f1f1f1;\n",
       "        }#T_8da51564_98a9_11eb_b9b3_3464a9ce8e4drow4_col6{\n",
       "            background-color:  #5ec962;\n",
       "            color:  #000000;\n",
       "        }#T_8da51564_98a9_11eb_b9b3_3464a9ce8e4drow4_col7{\n",
       "            background-color:  #481c6e;\n",
       "            color:  #f1f1f1;\n",
       "        }#T_8da51564_98a9_11eb_b9b3_3464a9ce8e4drow5_col0{\n",
       "            background-color:  #3d4d8a;\n",
       "            color:  #f1f1f1;\n",
       "        }#T_8da51564_98a9_11eb_b9b3_3464a9ce8e4drow5_col3,#T_8da51564_98a9_11eb_b9b3_3464a9ce8e4drow7_col2{\n",
       "            background-color:  #52c569;\n",
       "            color:  #000000;\n",
       "        }#T_8da51564_98a9_11eb_b9b3_3464a9ce8e4drow5_col6{\n",
       "            background-color:  #2db27d;\n",
       "            color:  #000000;\n",
       "        }#T_8da51564_98a9_11eb_b9b3_3464a9ce8e4drow5_col7{\n",
       "            background-color:  #70cf57;\n",
       "            color:  #000000;\n",
       "        }#T_8da51564_98a9_11eb_b9b3_3464a9ce8e4drow5_col8{\n",
       "            background-color:  #21918c;\n",
       "            color:  #000000;\n",
       "        }#T_8da51564_98a9_11eb_b9b3_3464a9ce8e4drow6_col0{\n",
       "            background-color:  #472a7a;\n",
       "            color:  #f1f1f1;\n",
       "        }#T_8da51564_98a9_11eb_b9b3_3464a9ce8e4drow6_col1{\n",
       "            background-color:  #365d8d;\n",
       "            color:  #f1f1f1;\n",
       "        }#T_8da51564_98a9_11eb_b9b3_3464a9ce8e4drow6_col2{\n",
       "            background-color:  #86d549;\n",
       "            color:  #000000;\n",
       "        }#T_8da51564_98a9_11eb_b9b3_3464a9ce8e4drow6_col3{\n",
       "            background-color:  #5cc863;\n",
       "            color:  #000000;\n",
       "        }#T_8da51564_98a9_11eb_b9b3_3464a9ce8e4drow6_col4,#T_8da51564_98a9_11eb_b9b3_3464a9ce8e4drow7_col1{\n",
       "            background-color:  #84d44b;\n",
       "            color:  #000000;\n",
       "        }#T_8da51564_98a9_11eb_b9b3_3464a9ce8e4drow6_col5{\n",
       "            background-color:  #21a585;\n",
       "            color:  #000000;\n",
       "        }#T_8da51564_98a9_11eb_b9b3_3464a9ce8e4drow6_col7{\n",
       "            background-color:  #26828e;\n",
       "            color:  #000000;\n",
       "        }#T_8da51564_98a9_11eb_b9b3_3464a9ce8e4drow6_col8{\n",
       "            background-color:  #3a538b;\n",
       "            color:  #f1f1f1;\n",
       "        }#T_8da51564_98a9_11eb_b9b3_3464a9ce8e4drow7_col0{\n",
       "            background-color:  #2b758e;\n",
       "            color:  #f1f1f1;\n",
       "        }#T_8da51564_98a9_11eb_b9b3_3464a9ce8e4drow7_col4{\n",
       "            background-color:  #1f958b;\n",
       "            color:  #000000;\n",
       "        }#T_8da51564_98a9_11eb_b9b3_3464a9ce8e4drow7_col5{\n",
       "            background-color:  #8bd646;\n",
       "            color:  #000000;\n",
       "        }#T_8da51564_98a9_11eb_b9b3_3464a9ce8e4drow8_col0{\n",
       "            background-color:  #1e9c89;\n",
       "            color:  #000000;\n",
       "        }#T_8da51564_98a9_11eb_b9b3_3464a9ce8e4drow8_col5,#T_8da51564_98a9_11eb_b9b3_3464a9ce8e4drow8_col7{\n",
       "            background-color:  #3d4e8a;\n",
       "            color:  #f1f1f1;\n",
       "        }#T_8da51564_98a9_11eb_b9b3_3464a9ce8e4drow8_col6{\n",
       "            background-color:  #450457;\n",
       "            color:  #f1f1f1;\n",
       "        }</style><table id=\"T_8da51564_98a9_11eb_b9b3_3464a9ce8e4d\" ><thead>    <tr>        <th class=\"blank level0\" ></th>        <th class=\"col_heading level0 col0\" >High-technology exports (% of manufactured exports)</th>        <th class=\"col_heading level0 col1\" >High-technology exports (current US$)</th>        <th class=\"col_heading level0 col2\" >Trademark applications, total</th>        <th class=\"col_heading level0 col3\" >Trademark applications, direct resident</th>        <th class=\"col_heading level0 col4\" >Trademark applications, direct nonresident</th>        <th class=\"col_heading level0 col5\" >Patent applications, residents</th>        <th class=\"col_heading level0 col6\" >Patent applications, nonresidents</th>        <th class=\"col_heading level0 col7\" >Scientific and technical journal articles</th>        <th class=\"col_heading level0 col8\" >Research and development expenditure (% of GDP)</th>    </tr></thead><tbody>\n",
       "                <tr>\n",
       "                        <th id=\"T_8da51564_98a9_11eb_b9b3_3464a9ce8e4dlevel0_row0\" class=\"row_heading level0 row0\" >High-technology exports (% of manufactured exports)</th>\n",
       "                        <td id=\"T_8da51564_98a9_11eb_b9b3_3464a9ce8e4drow0_col0\" class=\"data row0 col0\" >1.000000</td>\n",
       "                        <td id=\"T_8da51564_98a9_11eb_b9b3_3464a9ce8e4drow0_col1\" class=\"data row0 col1\" >0.721448</td>\n",
       "                        <td id=\"T_8da51564_98a9_11eb_b9b3_3464a9ce8e4drow0_col2\" class=\"data row0 col2\" >0.273756</td>\n",
       "                        <td id=\"T_8da51564_98a9_11eb_b9b3_3464a9ce8e4drow0_col3\" class=\"data row0 col3\" >0.352127</td>\n",
       "                        <td id=\"T_8da51564_98a9_11eb_b9b3_3464a9ce8e4drow0_col4\" class=\"data row0 col4\" >0.196380</td>\n",
       "                        <td id=\"T_8da51564_98a9_11eb_b9b3_3464a9ce8e4drow0_col5\" class=\"data row0 col5\" >0.384226</td>\n",
       "                        <td id=\"T_8da51564_98a9_11eb_b9b3_3464a9ce8e4drow0_col6\" class=\"data row0 col6\" >0.290776</td>\n",
       "                        <td id=\"T_8da51564_98a9_11eb_b9b3_3464a9ce8e4drow0_col7\" class=\"data row0 col7\" >0.510045</td>\n",
       "                        <td id=\"T_8da51564_98a9_11eb_b9b3_3464a9ce8e4drow0_col8\" class=\"data row0 col8\" >0.636471</td>\n",
       "            </tr>\n",
       "            <tr>\n",
       "                        <th id=\"T_8da51564_98a9_11eb_b9b3_3464a9ce8e4dlevel0_row1\" class=\"row_heading level0 row1\" >High-technology exports (current US$)</th>\n",
       "                        <td id=\"T_8da51564_98a9_11eb_b9b3_3464a9ce8e4drow1_col0\" class=\"data row1 col0\" >0.721448</td>\n",
       "                        <td id=\"T_8da51564_98a9_11eb_b9b3_3464a9ce8e4drow1_col1\" class=\"data row1 col1\" >1.000000</td>\n",
       "                        <td id=\"T_8da51564_98a9_11eb_b9b3_3464a9ce8e4drow1_col2\" class=\"data row1 col2\" >0.605882</td>\n",
       "                        <td id=\"T_8da51564_98a9_11eb_b9b3_3464a9ce8e4drow1_col3\" class=\"data row1 col3\" >0.718733</td>\n",
       "                        <td id=\"T_8da51564_98a9_11eb_b9b3_3464a9ce8e4drow1_col4\" class=\"data row1 col4\" >0.368959</td>\n",
       "                        <td id=\"T_8da51564_98a9_11eb_b9b3_3464a9ce8e4drow1_col5\" class=\"data row1 col5\" >0.737273</td>\n",
       "                        <td id=\"T_8da51564_98a9_11eb_b9b3_3464a9ce8e4drow1_col6\" class=\"data row1 col6\" >0.551641</td>\n",
       "                        <td id=\"T_8da51564_98a9_11eb_b9b3_3464a9ce8e4drow1_col7\" class=\"data row1 col7\" >0.882262</td>\n",
       "                        <td id=\"T_8da51564_98a9_11eb_b9b3_3464a9ce8e4drow1_col8\" class=\"data row1 col8\" >0.719548</td>\n",
       "            </tr>\n",
       "            <tr>\n",
       "                        <th id=\"T_8da51564_98a9_11eb_b9b3_3464a9ce8e4dlevel0_row2\" class=\"row_heading level0 row2\" >Trademark applications, total</th>\n",
       "                        <td id=\"T_8da51564_98a9_11eb_b9b3_3464a9ce8e4drow2_col0\" class=\"data row2 col0\" >0.273756</td>\n",
       "                        <td id=\"T_8da51564_98a9_11eb_b9b3_3464a9ce8e4drow2_col1\" class=\"data row2 col1\" >0.605882</td>\n",
       "                        <td id=\"T_8da51564_98a9_11eb_b9b3_3464a9ce8e4drow2_col2\" class=\"data row2 col2\" >1.000000</td>\n",
       "                        <td id=\"T_8da51564_98a9_11eb_b9b3_3464a9ce8e4drow2_col3\" class=\"data row2 col3\" >0.955928</td>\n",
       "                        <td id=\"T_8da51564_98a9_11eb_b9b3_3464a9ce8e4drow2_col4\" class=\"data row2 col4\" >0.877828</td>\n",
       "                        <td id=\"T_8da51564_98a9_11eb_b9b3_3464a9ce8e4drow2_col5\" class=\"data row2 col5\" >0.786732</td>\n",
       "                        <td id=\"T_8da51564_98a9_11eb_b9b3_3464a9ce8e4drow2_col6\" class=\"data row2 col6\" >0.861060</td>\n",
       "                        <td id=\"T_8da51564_98a9_11eb_b9b3_3464a9ce8e4drow2_col7\" class=\"data row2 col7\" >0.789502</td>\n",
       "                        <td id=\"T_8da51564_98a9_11eb_b9b3_3464a9ce8e4drow2_col8\" class=\"data row2 col8\" >0.229502</td>\n",
       "            </tr>\n",
       "            <tr>\n",
       "                        <th id=\"T_8da51564_98a9_11eb_b9b3_3464a9ce8e4dlevel0_row3\" class=\"row_heading level0 row3\" >Trademark applications, direct resident</th>\n",
       "                        <td id=\"T_8da51564_98a9_11eb_b9b3_3464a9ce8e4drow3_col0\" class=\"data row3 col0\" >0.352127</td>\n",
       "                        <td id=\"T_8da51564_98a9_11eb_b9b3_3464a9ce8e4drow3_col1\" class=\"data row3 col1\" >0.718733</td>\n",
       "                        <td id=\"T_8da51564_98a9_11eb_b9b3_3464a9ce8e4drow3_col2\" class=\"data row3 col2\" >0.955928</td>\n",
       "                        <td id=\"T_8da51564_98a9_11eb_b9b3_3464a9ce8e4drow3_col3\" class=\"data row3 col3\" >1.000000</td>\n",
       "                        <td id=\"T_8da51564_98a9_11eb_b9b3_3464a9ce8e4drow3_col4\" class=\"data row3 col4\" >0.731674</td>\n",
       "                        <td id=\"T_8da51564_98a9_11eb_b9b3_3464a9ce8e4drow3_col5\" class=\"data row3 col5\" >0.816327</td>\n",
       "                        <td id=\"T_8da51564_98a9_11eb_b9b3_3464a9ce8e4drow3_col6\" class=\"data row3 col6\" >0.829114</td>\n",
       "                        <td id=\"T_8da51564_98a9_11eb_b9b3_3464a9ce8e4drow3_col7\" class=\"data row3 col7\" >0.865520</td>\n",
       "                        <td id=\"T_8da51564_98a9_11eb_b9b3_3464a9ce8e4drow3_col8\" class=\"data row3 col8\" >0.323348</td>\n",
       "            </tr>\n",
       "            <tr>\n",
       "                        <th id=\"T_8da51564_98a9_11eb_b9b3_3464a9ce8e4dlevel0_row4\" class=\"row_heading level0 row4\" >Trademark applications, direct nonresident</th>\n",
       "                        <td id=\"T_8da51564_98a9_11eb_b9b3_3464a9ce8e4drow4_col0\" class=\"data row4 col0\" >0.196380</td>\n",
       "                        <td id=\"T_8da51564_98a9_11eb_b9b3_3464a9ce8e4drow4_col1\" class=\"data row4 col1\" >0.368959</td>\n",
       "                        <td id=\"T_8da51564_98a9_11eb_b9b3_3464a9ce8e4drow4_col2\" class=\"data row4 col2\" >0.877828</td>\n",
       "                        <td id=\"T_8da51564_98a9_11eb_b9b3_3464a9ce8e4drow4_col3\" class=\"data row4 col3\" >0.731674</td>\n",
       "                        <td id=\"T_8da51564_98a9_11eb_b9b3_3464a9ce8e4drow4_col4\" class=\"data row4 col4\" >1.000000</td>\n",
       "                        <td id=\"T_8da51564_98a9_11eb_b9b3_3464a9ce8e4drow4_col5\" class=\"data row4 col5\" >0.595774</td>\n",
       "                        <td id=\"T_8da51564_98a9_11eb_b9b3_3464a9ce8e4drow4_col6\" class=\"data row4 col6\" >0.823412</td>\n",
       "                        <td id=\"T_8da51564_98a9_11eb_b9b3_3464a9ce8e4drow4_col7\" class=\"data row4 col7\" >0.547783</td>\n",
       "                        <td id=\"T_8da51564_98a9_11eb_b9b3_3464a9ce8e4drow4_col8\" class=\"data row4 col8\" >0.055475</td>\n",
       "            </tr>\n",
       "            <tr>\n",
       "                        <th id=\"T_8da51564_98a9_11eb_b9b3_3464a9ce8e4dlevel0_row5\" class=\"row_heading level0 row5\" >Patent applications, residents</th>\n",
       "                        <td id=\"T_8da51564_98a9_11eb_b9b3_3464a9ce8e4drow5_col0\" class=\"data row5 col0\" >0.384226</td>\n",
       "                        <td id=\"T_8da51564_98a9_11eb_b9b3_3464a9ce8e4drow5_col1\" class=\"data row5 col1\" >0.737273</td>\n",
       "                        <td id=\"T_8da51564_98a9_11eb_b9b3_3464a9ce8e4drow5_col2\" class=\"data row5 col2\" >0.786732</td>\n",
       "                        <td id=\"T_8da51564_98a9_11eb_b9b3_3464a9ce8e4drow5_col3\" class=\"data row5 col3\" >0.816327</td>\n",
       "                        <td id=\"T_8da51564_98a9_11eb_b9b3_3464a9ce8e4drow5_col4\" class=\"data row5 col4\" >0.595774</td>\n",
       "                        <td id=\"T_8da51564_98a9_11eb_b9b3_3464a9ce8e4drow5_col5\" class=\"data row5 col5\" >1.000000</td>\n",
       "                        <td id=\"T_8da51564_98a9_11eb_b9b3_3464a9ce8e4drow5_col6\" class=\"data row5 col6\" >0.746114</td>\n",
       "                        <td id=\"T_8da51564_98a9_11eb_b9b3_3464a9ce8e4drow5_col7\" class=\"data row5 col7\" >0.893841</td>\n",
       "                        <td id=\"T_8da51564_98a9_11eb_b9b3_3464a9ce8e4drow5_col8\" class=\"data row5 col8\" >0.530884</td>\n",
       "            </tr>\n",
       "            <tr>\n",
       "                        <th id=\"T_8da51564_98a9_11eb_b9b3_3464a9ce8e4dlevel0_row6\" class=\"row_heading level0 row6\" >Patent applications, nonresidents</th>\n",
       "                        <td id=\"T_8da51564_98a9_11eb_b9b3_3464a9ce8e4drow6_col0\" class=\"data row6 col0\" >0.290776</td>\n",
       "                        <td id=\"T_8da51564_98a9_11eb_b9b3_3464a9ce8e4drow6_col1\" class=\"data row6 col1\" >0.551641</td>\n",
       "                        <td id=\"T_8da51564_98a9_11eb_b9b3_3464a9ce8e4drow6_col2\" class=\"data row6 col2\" >0.861060</td>\n",
       "                        <td id=\"T_8da51564_98a9_11eb_b9b3_3464a9ce8e4drow6_col3\" class=\"data row6 col3\" >0.829114</td>\n",
       "                        <td id=\"T_8da51564_98a9_11eb_b9b3_3464a9ce8e4drow6_col4\" class=\"data row6 col4\" >0.823412</td>\n",
       "                        <td id=\"T_8da51564_98a9_11eb_b9b3_3464a9ce8e4drow6_col5\" class=\"data row6 col5\" >0.746114</td>\n",
       "                        <td id=\"T_8da51564_98a9_11eb_b9b3_3464a9ce8e4drow6_col6\" class=\"data row6 col6\" >1.000000</td>\n",
       "                        <td id=\"T_8da51564_98a9_11eb_b9b3_3464a9ce8e4drow6_col7\" class=\"data row6 col7\" >0.726080</td>\n",
       "                        <td id=\"T_8da51564_98a9_11eb_b9b3_3464a9ce8e4drow6_col8\" class=\"data row6 col8\" >0.298333</td>\n",
       "            </tr>\n",
       "            <tr>\n",
       "                        <th id=\"T_8da51564_98a9_11eb_b9b3_3464a9ce8e4dlevel0_row7\" class=\"row_heading level0 row7\" >Scientific and technical journal articles</th>\n",
       "                        <td id=\"T_8da51564_98a9_11eb_b9b3_3464a9ce8e4drow7_col0\" class=\"data row7 col0\" >0.510045</td>\n",
       "                        <td id=\"T_8da51564_98a9_11eb_b9b3_3464a9ce8e4drow7_col1\" class=\"data row7 col1\" >0.882262</td>\n",
       "                        <td id=\"T_8da51564_98a9_11eb_b9b3_3464a9ce8e4drow7_col2\" class=\"data row7 col2\" >0.789502</td>\n",
       "                        <td id=\"T_8da51564_98a9_11eb_b9b3_3464a9ce8e4drow7_col3\" class=\"data row7 col3\" >0.865520</td>\n",
       "                        <td id=\"T_8da51564_98a9_11eb_b9b3_3464a9ce8e4drow7_col4\" class=\"data row7 col4\" >0.547783</td>\n",
       "                        <td id=\"T_8da51564_98a9_11eb_b9b3_3464a9ce8e4drow7_col5\" class=\"data row7 col5\" >0.893841</td>\n",
       "                        <td id=\"T_8da51564_98a9_11eb_b9b3_3464a9ce8e4drow7_col6\" class=\"data row7 col6\" >0.726080</td>\n",
       "                        <td id=\"T_8da51564_98a9_11eb_b9b3_3464a9ce8e4drow7_col7\" class=\"data row7 col7\" >1.000000</td>\n",
       "                        <td id=\"T_8da51564_98a9_11eb_b9b3_3464a9ce8e4drow7_col8\" class=\"data row7 col8\" >0.625339</td>\n",
       "            </tr>\n",
       "            <tr>\n",
       "                        <th id=\"T_8da51564_98a9_11eb_b9b3_3464a9ce8e4dlevel0_row8\" class=\"row_heading level0 row8\" >Research and development expenditure (% of GDP)</th>\n",
       "                        <td id=\"T_8da51564_98a9_11eb_b9b3_3464a9ce8e4drow8_col0\" class=\"data row8 col0\" >0.636471</td>\n",
       "                        <td id=\"T_8da51564_98a9_11eb_b9b3_3464a9ce8e4drow8_col1\" class=\"data row8 col1\" >0.719548</td>\n",
       "                        <td id=\"T_8da51564_98a9_11eb_b9b3_3464a9ce8e4drow8_col2\" class=\"data row8 col2\" >0.229502</td>\n",
       "                        <td id=\"T_8da51564_98a9_11eb_b9b3_3464a9ce8e4drow8_col3\" class=\"data row8 col3\" >0.323348</td>\n",
       "                        <td id=\"T_8da51564_98a9_11eb_b9b3_3464a9ce8e4drow8_col4\" class=\"data row8 col4\" >0.055475</td>\n",
       "                        <td id=\"T_8da51564_98a9_11eb_b9b3_3464a9ce8e4drow8_col5\" class=\"data row8 col5\" >0.530884</td>\n",
       "                        <td id=\"T_8da51564_98a9_11eb_b9b3_3464a9ce8e4drow8_col6\" class=\"data row8 col6\" >0.298333</td>\n",
       "                        <td id=\"T_8da51564_98a9_11eb_b9b3_3464a9ce8e4drow8_col7\" class=\"data row8 col7\" >0.625339</td>\n",
       "                        <td id=\"T_8da51564_98a9_11eb_b9b3_3464a9ce8e4drow8_col8\" class=\"data row8 col8\" >1.000000</td>\n",
       "            </tr>\n",
       "    </tbody></table>"
      ],
      "text/plain": [
       "<pandas.io.formats.style.Styler at 0x12407430>"
      ]
     },
     "execution_count": 24,
     "metadata": {},
     "output_type": "execute_result"
    }
   ],
   "source": [
    "st_data_2018_clean.corr(method='spearman').style.background_gradient(cmap='viridis')"
   ]
  },
  {
   "cell_type": "markdown",
   "metadata": {},
   "source": [
    "Two highly related features are selected and plotted on scatter plots."
   ]
  },
  {
   "cell_type": "code",
   "execution_count": 25,
   "metadata": {
    "colab": {
     "base_uri": "https://localhost:8080/",
     "height": 296
    },
    "id": "DcIbJvZE9qpL",
    "outputId": "c1f39969-0528-464a-fe6a-401447b3bd7b"
   },
   "outputs": [
    {
     "data": {
      "image/png": "[encoded data removed]",
      "text/plain": [
       "<Figure size 432x288 with 1 Axes>"
      ]
     },
     "metadata": {
      "needs_background": "light"
     },
     "output_type": "display_data"
    }
   ],
   "source": [
    "st_data_2018_clean.plot.scatter(x='Scientific and technical journal articles',y='Patent applications, nonresidents')\n",
    "plt.savefig('correlation18.png')"
   ]
  },
  {
   "cell_type": "code",
   "execution_count": 26,
   "metadata": {
    "id": "8PZLm7Sz-NSQ"
   },
   "outputs": [],
   "source": [
    "st_data_2018_clean_nonUS = st_data_2018_clean[st_data_2018_clean['Country Name'] != 'United States']"
   ]
  },
  {
   "cell_type": "code",
   "execution_count": 27,
   "metadata": {
    "colab": {
     "base_uri": "https://localhost:8080/",
     "height": 296
    },
    "id": "y1McIi83-nJp",
    "outputId": "4a43cd0d-0f87-40b2-9320-3b0072c43241"
   },
   "outputs": [
    {
     "data": {
      "image/png": "[encoded data removed]",
      "text/plain": [
       "<Figure size 432x288 with 1 Axes>"
      ]
     },
     "metadata": {
      "needs_background": "light"
     },
     "output_type": "display_data"
    }
   ],
   "source": [
    "st_data_2018_clean_nonUS.plot.scatter(x='Scientific and technical journal articles',y='Patent applications, nonresidents')\n",
    "plt.savefig('correlation18_nonUS.png')"
   ]
  },
  {
   "cell_type": "code",
   "execution_count": 28,
   "metadata": {
    "colab": {
     "base_uri": "https://localhost:8080/",
     "height": 501
    },
    "id": "XeSWmRKC-3p5",
    "outputId": "e2f7c12e-f0f8-4c99-c040-8b092548664f"
   },
   "outputs": [
    {
     "data": {
      "text/html": [
       "<style  type=\"text/css\" >\n",
       "#T_8e249818_98a9_11eb_a919_3464a9ce8e4drow0_col0,#T_8e249818_98a9_11eb_a919_3464a9ce8e4drow1_col1,#T_8e249818_98a9_11eb_a919_3464a9ce8e4drow2_col2,#T_8e249818_98a9_11eb_a919_3464a9ce8e4drow2_col3,#T_8e249818_98a9_11eb_a919_3464a9ce8e4drow3_col2,#T_8e249818_98a9_11eb_a919_3464a9ce8e4drow3_col3,#T_8e249818_98a9_11eb_a919_3464a9ce8e4drow4_col4,#T_8e249818_98a9_11eb_a919_3464a9ce8e4drow5_col5,#T_8e249818_98a9_11eb_a919_3464a9ce8e4drow6_col6,#T_8e249818_98a9_11eb_a919_3464a9ce8e4drow7_col7,#T_8e249818_98a9_11eb_a919_3464a9ce8e4drow8_col8{\n",
       "            background-color:  #fde725;\n",
       "            color:  #000000;\n",
       "        }#T_8e249818_98a9_11eb_a919_3464a9ce8e4drow0_col1{\n",
       "            background-color:  #46307e;\n",
       "            color:  #f1f1f1;\n",
       "        }#T_8e249818_98a9_11eb_a919_3464a9ce8e4drow0_col2{\n",
       "            background-color:  #482173;\n",
       "            color:  #f1f1f1;\n",
       "        }#T_8e249818_98a9_11eb_a919_3464a9ce8e4drow0_col3{\n",
       "            background-color:  #482071;\n",
       "            color:  #f1f1f1;\n",
       "        }#T_8e249818_98a9_11eb_a919_3464a9ce8e4drow0_col4{\n",
       "            background-color:  #472f7d;\n",
       "            color:  #f1f1f1;\n",
       "        }#T_8e249818_98a9_11eb_a919_3464a9ce8e4drow0_col5,#T_8e249818_98a9_11eb_a919_3464a9ce8e4drow0_col6,#T_8e249818_98a9_11eb_a919_3464a9ce8e4drow0_col7,#T_8e249818_98a9_11eb_a919_3464a9ce8e4drow3_col0,#T_8e249818_98a9_11eb_a919_3464a9ce8e4drow3_col8,#T_8e249818_98a9_11eb_a919_3464a9ce8e4drow8_col1,#T_8e249818_98a9_11eb_a919_3464a9ce8e4drow8_col2,#T_8e249818_98a9_11eb_a919_3464a9ce8e4drow8_col3,#T_8e249818_98a9_11eb_a919_3464a9ce8e4drow8_col4{\n",
       "            background-color:  #440154;\n",
       "            color:  #f1f1f1;\n",
       "        }#T_8e249818_98a9_11eb_a919_3464a9ce8e4drow0_col8,#T_8e249818_98a9_11eb_a919_3464a9ce8e4drow1_col0{\n",
       "            background-color:  #34608d;\n",
       "            color:  #f1f1f1;\n",
       "        }#T_8e249818_98a9_11eb_a919_3464a9ce8e4drow1_col2,#T_8e249818_98a9_11eb_a919_3464a9ce8e4drow3_col4{\n",
       "            background-color:  #93d741;\n",
       "            color:  #000000;\n",
       "        }#T_8e249818_98a9_11eb_a919_3464a9ce8e4drow1_col3{\n",
       "            background-color:  #90d743;\n",
       "            color:  #000000;\n",
       "        }#T_8e249818_98a9_11eb_a919_3464a9ce8e4drow1_col4{\n",
       "            background-color:  #63cb5f;\n",
       "            color:  #000000;\n",
       "        }#T_8e249818_98a9_11eb_a919_3464a9ce8e4drow1_col5{\n",
       "            background-color:  #37b878;\n",
       "            color:  #000000;\n",
       "        }#T_8e249818_98a9_11eb_a919_3464a9ce8e4drow1_col6,#T_8e249818_98a9_11eb_a919_3464a9ce8e4drow2_col6{\n",
       "            background-color:  #228d8d;\n",
       "            color:  #000000;\n",
       "        }#T_8e249818_98a9_11eb_a919_3464a9ce8e4drow1_col7,#T_8e249818_98a9_11eb_a919_3464a9ce8e4drow7_col5{\n",
       "            background-color:  #4ec36b;\n",
       "            color:  #000000;\n",
       "        }#T_8e249818_98a9_11eb_a919_3464a9ce8e4drow1_col8{\n",
       "            background-color:  #39558c;\n",
       "            color:  #f1f1f1;\n",
       "        }#T_8e249818_98a9_11eb_a919_3464a9ce8e4drow2_col0,#T_8e249818_98a9_11eb_a919_3464a9ce8e4drow6_col0{\n",
       "            background-color:  #450559;\n",
       "            color:  #f1f1f1;\n",
       "        }#T_8e249818_98a9_11eb_a919_3464a9ce8e4drow2_col1{\n",
       "            background-color:  #70cf57;\n",
       "            color:  #000000;\n",
       "        }#T_8e249818_98a9_11eb_a919_3464a9ce8e4drow2_col4{\n",
       "            background-color:  #a5db36;\n",
       "            color:  #000000;\n",
       "        }#T_8e249818_98a9_11eb_a919_3464a9ce8e4drow2_col5{\n",
       "            background-color:  #1fa188;\n",
       "            color:  #000000;\n",
       "        }#T_8e249818_98a9_11eb_a919_3464a9ce8e4drow2_col7{\n",
       "            background-color:  #42be71;\n",
       "            color:  #000000;\n",
       "        }#T_8e249818_98a9_11eb_a919_3464a9ce8e4drow2_col8{\n",
       "            background-color:  #440256;\n",
       "            color:  #f1f1f1;\n",
       "        }#T_8e249818_98a9_11eb_a919_3464a9ce8e4drow3_col1{\n",
       "            background-color:  #6ccd5a;\n",
       "            color:  #000000;\n",
       "        }#T_8e249818_98a9_11eb_a919_3464a9ce8e4drow3_col5{\n",
       "            background-color:  #1e9d89;\n",
       "            color:  #000000;\n",
       "        }#T_8e249818_98a9_11eb_a919_3464a9ce8e4drow3_col6{\n",
       "            background-color:  #24868e;\n",
       "            color:  #000000;\n",
       "        }#T_8e249818_98a9_11eb_a919_3464a9ce8e4drow3_col7{\n",
       "            background-color:  #3bbb75;\n",
       "            color:  #000000;\n",
       "        }#T_8e249818_98a9_11eb_a919_3464a9ce8e4drow4_col0{\n",
       "            background-color:  #482475;\n",
       "            color:  #f1f1f1;\n",
       "        }#T_8e249818_98a9_11eb_a919_3464a9ce8e4drow4_col1{\n",
       "            background-color:  #40bd72;\n",
       "            color:  #000000;\n",
       "        }#T_8e249818_98a9_11eb_a919_3464a9ce8e4drow4_col2{\n",
       "            background-color:  #aadc32;\n",
       "            color:  #000000;\n",
       "        }#T_8e249818_98a9_11eb_a919_3464a9ce8e4drow4_col3{\n",
       "            background-color:  #98d83e;\n",
       "            color:  #000000;\n",
       "        }#T_8e249818_98a9_11eb_a919_3464a9ce8e4drow4_col5{\n",
       "            background-color:  #29af7f;\n",
       "            color:  #000000;\n",
       "        }#T_8e249818_98a9_11eb_a919_3464a9ce8e4drow4_col6{\n",
       "            background-color:  #2db27d;\n",
       "            color:  #000000;\n",
       "        }#T_8e249818_98a9_11eb_a919_3464a9ce8e4drow4_col7,#T_8e249818_98a9_11eb_a919_3464a9ce8e4drow7_col2{\n",
       "            background-color:  #50c46a;\n",
       "            color:  #000000;\n",
       "        }#T_8e249818_98a9_11eb_a919_3464a9ce8e4drow4_col8{\n",
       "            background-color:  #481467;\n",
       "            color:  #f1f1f1;\n",
       "        }#T_8e249818_98a9_11eb_a919_3464a9ce8e4drow5_col0{\n",
       "            background-color:  #481668;\n",
       "            color:  #f1f1f1;\n",
       "        }#T_8e249818_98a9_11eb_a919_3464a9ce8e4drow5_col1,#T_8e249818_98a9_11eb_a919_3464a9ce8e4drow5_col3{\n",
       "            background-color:  #25ac82;\n",
       "            color:  #000000;\n",
       "        }#T_8e249818_98a9_11eb_a919_3464a9ce8e4drow5_col2{\n",
       "            background-color:  #28ae80;\n",
       "            color:  #000000;\n",
       "        }#T_8e249818_98a9_11eb_a919_3464a9ce8e4drow5_col4{\n",
       "            background-color:  #35b779;\n",
       "            color:  #000000;\n",
       "        }#T_8e249818_98a9_11eb_a919_3464a9ce8e4drow5_col6{\n",
       "            background-color:  #3fbc73;\n",
       "            color:  #000000;\n",
       "        }#T_8e249818_98a9_11eb_a919_3464a9ce8e4drow5_col7{\n",
       "            background-color:  #52c569;\n",
       "            color:  #000000;\n",
       "        }#T_8e249818_98a9_11eb_a919_3464a9ce8e4drow5_col8{\n",
       "            background-color:  #355e8d;\n",
       "            color:  #f1f1f1;\n",
       "        }#T_8e249818_98a9_11eb_a919_3464a9ce8e4drow6_col1{\n",
       "            background-color:  #2c718e;\n",
       "            color:  #f1f1f1;\n",
       "        }#T_8e249818_98a9_11eb_a919_3464a9ce8e4drow6_col2{\n",
       "            background-color:  #1f988b;\n",
       "            color:  #000000;\n",
       "        }#T_8e249818_98a9_11eb_a919_3464a9ce8e4drow6_col3{\n",
       "            background-color:  #20938c;\n",
       "            color:  #000000;\n",
       "        }#T_8e249818_98a9_11eb_a919_3464a9ce8e4drow6_col4,#T_8e249818_98a9_11eb_a919_3464a9ce8e4drow7_col1{\n",
       "            background-color:  #34b679;\n",
       "            color:  #000000;\n",
       "        }#T_8e249818_98a9_11eb_a919_3464a9ce8e4drow6_col5{\n",
       "            background-color:  #38b977;\n",
       "            color:  #000000;\n",
       "        }#T_8e249818_98a9_11eb_a919_3464a9ce8e4drow6_col7,#T_8e249818_98a9_11eb_a919_3464a9ce8e4drow7_col6{\n",
       "            background-color:  #bddf26;\n",
       "            color:  #000000;\n",
       "        }#T_8e249818_98a9_11eb_a919_3464a9ce8e4drow6_col8{\n",
       "            background-color:  #443b84;\n",
       "            color:  #f1f1f1;\n",
       "        }#T_8e249818_98a9_11eb_a919_3464a9ce8e4drow7_col0{\n",
       "            background-color:  #46085c;\n",
       "            color:  #f1f1f1;\n",
       "        }#T_8e249818_98a9_11eb_a919_3464a9ce8e4drow7_col3{\n",
       "            background-color:  #4cc26c;\n",
       "            color:  #000000;\n",
       "        }#T_8e249818_98a9_11eb_a919_3464a9ce8e4drow7_col4{\n",
       "            background-color:  #58c765;\n",
       "            color:  #000000;\n",
       "        }#T_8e249818_98a9_11eb_a919_3464a9ce8e4drow7_col8{\n",
       "            background-color:  #3e4989;\n",
       "            color:  #f1f1f1;\n",
       "        }#T_8e249818_98a9_11eb_a919_3464a9ce8e4drow8_col0{\n",
       "            background-color:  #3d4e8a;\n",
       "            color:  #f1f1f1;\n",
       "        }#T_8e249818_98a9_11eb_a919_3464a9ce8e4drow8_col5{\n",
       "            background-color:  #433e85;\n",
       "            color:  #f1f1f1;\n",
       "        }#T_8e249818_98a9_11eb_a919_3464a9ce8e4drow8_col6{\n",
       "            background-color:  #481f70;\n",
       "            color:  #f1f1f1;\n",
       "        }#T_8e249818_98a9_11eb_a919_3464a9ce8e4drow8_col7{\n",
       "            background-color:  #472e7c;\n",
       "            color:  #f1f1f1;\n",
       "        }</style><table id=\"T_8e249818_98a9_11eb_a919_3464a9ce8e4d\" ><thead>    <tr>        <th class=\"blank level0\" ></th>        <th class=\"col_heading level0 col0\" >High-technology exports (% of manufactured exports)</th>        <th class=\"col_heading level0 col1\" >High-technology exports (current US$)</th>        <th class=\"col_heading level0 col2\" >Trademark applications, total</th>        <th class=\"col_heading level0 col3\" >Trademark applications, direct resident</th>        <th class=\"col_heading level0 col4\" >Trademark applications, direct nonresident</th>        <th class=\"col_heading level0 col5\" >Patent applications, residents</th>        <th class=\"col_heading level0 col6\" >Patent applications, nonresidents</th>        <th class=\"col_heading level0 col7\" >Scientific and technical journal articles</th>        <th class=\"col_heading level0 col8\" >Research and development expenditure (% of GDP)</th>    </tr></thead><tbody>\n",
       "                <tr>\n",
       "                        <th id=\"T_8e249818_98a9_11eb_a919_3464a9ce8e4dlevel0_row0\" class=\"row_heading level0 row0\" >High-technology exports (% of manufactured exports)</th>\n",
       "                        <td id=\"T_8e249818_98a9_11eb_a919_3464a9ce8e4drow0_col0\" class=\"data row0 col0\" >1.000000</td>\n",
       "                        <td id=\"T_8e249818_98a9_11eb_a919_3464a9ce8e4drow0_col1\" class=\"data row0 col1\" >0.451715</td>\n",
       "                        <td id=\"T_8e249818_98a9_11eb_a919_3464a9ce8e4drow0_col2\" class=\"data row0 col2\" >0.221760</td>\n",
       "                        <td id=\"T_8e249818_98a9_11eb_a919_3464a9ce8e4drow0_col3\" class=\"data row0 col3\" >0.212037</td>\n",
       "                        <td id=\"T_8e249818_98a9_11eb_a919_3464a9ce8e4drow0_col4\" class=\"data row0 col4\" >0.290795</td>\n",
       "                        <td id=\"T_8e249818_98a9_11eb_a919_3464a9ce8e4drow0_col5\" class=\"data row0 col5\" >0.257387</td>\n",
       "                        <td id=\"T_8e249818_98a9_11eb_a919_3464a9ce8e4drow0_col6\" class=\"data row0 col6\" >0.223541</td>\n",
       "                        <td id=\"T_8e249818_98a9_11eb_a919_3464a9ce8e4drow0_col7\" class=\"data row0 col7\" >0.229710</td>\n",
       "                        <td id=\"T_8e249818_98a9_11eb_a919_3464a9ce8e4drow0_col8\" class=\"data row0 col8\" >0.398800</td>\n",
       "            </tr>\n",
       "            <tr>\n",
       "                        <th id=\"T_8e249818_98a9_11eb_a919_3464a9ce8e4dlevel0_row1\" class=\"row_heading level0 row1\" >High-technology exports (current US$)</th>\n",
       "                        <td id=\"T_8e249818_98a9_11eb_a919_3464a9ce8e4drow1_col0\" class=\"data row1 col0\" >0.451715</td>\n",
       "                        <td id=\"T_8e249818_98a9_11eb_a919_3464a9ce8e4drow1_col1\" class=\"data row1 col1\" >1.000000</td>\n",
       "                        <td id=\"T_8e249818_98a9_11eb_a919_3464a9ce8e4drow1_col2\" class=\"data row1 col2\" >0.860977</td>\n",
       "                        <td id=\"T_8e249818_98a9_11eb_a919_3464a9ce8e4drow1_col3\" class=\"data row1 col3\" >0.856190</td>\n",
       "                        <td id=\"T_8e249818_98a9_11eb_a919_3464a9ce8e4drow1_col4\" class=\"data row1 col4\" >0.804809</td>\n",
       "                        <td id=\"T_8e249818_98a9_11eb_a919_3464a9ce8e4drow1_col5\" class=\"data row1 col5\" >0.755353</td>\n",
       "                        <td id=\"T_8e249818_98a9_11eb_a919_3464a9ce8e4drow1_col6\" class=\"data row1 col6\" >0.601401</td>\n",
       "                        <td id=\"T_8e249818_98a9_11eb_a919_3464a9ce8e4drow1_col7\" class=\"data row1 col7\" >0.784358</td>\n",
       "                        <td id=\"T_8e249818_98a9_11eb_a919_3464a9ce8e4drow1_col8\" class=\"data row1 col8\" >0.364458</td>\n",
       "            </tr>\n",
       "            <tr>\n",
       "                        <th id=\"T_8e249818_98a9_11eb_a919_3464a9ce8e4dlevel0_row2\" class=\"row_heading level0 row2\" >Trademark applications, total</th>\n",
       "                        <td id=\"T_8e249818_98a9_11eb_a919_3464a9ce8e4drow2_col0\" class=\"data row2 col0\" >0.221760</td>\n",
       "                        <td id=\"T_8e249818_98a9_11eb_a919_3464a9ce8e4drow2_col1\" class=\"data row2 col1\" >0.860977</td>\n",
       "                        <td id=\"T_8e249818_98a9_11eb_a919_3464a9ce8e4drow2_col2\" class=\"data row2 col2\" >1.000000</td>\n",
       "                        <td id=\"T_8e249818_98a9_11eb_a919_3464a9ce8e4drow2_col3\" class=\"data row2 col3\" >0.998930</td>\n",
       "                        <td id=\"T_8e249818_98a9_11eb_a919_3464a9ce8e4drow2_col4\" class=\"data row2 col4\" >0.890599</td>\n",
       "                        <td id=\"T_8e249818_98a9_11eb_a919_3464a9ce8e4drow2_col5\" class=\"data row2 col5\" >0.679947</td>\n",
       "                        <td id=\"T_8e249818_98a9_11eb_a919_3464a9ce8e4drow2_col6\" class=\"data row2 col6\" >0.600145</td>\n",
       "                        <td id=\"T_8e249818_98a9_11eb_a919_3464a9ce8e4drow2_col7\" class=\"data row2 col7\" >0.765730</td>\n",
       "                        <td id=\"T_8e249818_98a9_11eb_a919_3464a9ce8e4drow2_col8\" class=\"data row2 col8\" >0.143373</td>\n",
       "            </tr>\n",
       "            <tr>\n",
       "                        <th id=\"T_8e249818_98a9_11eb_a919_3464a9ce8e4dlevel0_row3\" class=\"row_heading level0 row3\" >Trademark applications, direct resident</th>\n",
       "                        <td id=\"T_8e249818_98a9_11eb_a919_3464a9ce8e4drow3_col0\" class=\"data row3 col0\" >0.212037</td>\n",
       "                        <td id=\"T_8e249818_98a9_11eb_a919_3464a9ce8e4drow3_col1\" class=\"data row3 col1\" >0.856190</td>\n",
       "                        <td id=\"T_8e249818_98a9_11eb_a919_3464a9ce8e4drow3_col2\" class=\"data row3 col2\" >0.998930</td>\n",
       "                        <td id=\"T_8e249818_98a9_11eb_a919_3464a9ce8e4drow3_col3\" class=\"data row3 col3\" >1.000000</td>\n",
       "                        <td id=\"T_8e249818_98a9_11eb_a919_3464a9ce8e4drow3_col4\" class=\"data row3 col4\" >0.868618</td>\n",
       "                        <td id=\"T_8e249818_98a9_11eb_a919_3464a9ce8e4drow3_col5\" class=\"data row3 col5\" >0.666960</td>\n",
       "                        <td id=\"T_8e249818_98a9_11eb_a919_3464a9ce8e4drow3_col6\" class=\"data row3 col6\" >0.580380</td>\n",
       "                        <td id=\"T_8e249818_98a9_11eb_a919_3464a9ce8e4drow3_col7\" class=\"data row3 col7\" >0.754258</td>\n",
       "                        <td id=\"T_8e249818_98a9_11eb_a919_3464a9ce8e4drow3_col8\" class=\"data row3 col8\" >0.137723</td>\n",
       "            </tr>\n",
       "            <tr>\n",
       "                        <th id=\"T_8e249818_98a9_11eb_a919_3464a9ce8e4dlevel0_row4\" class=\"row_heading level0 row4\" >Trademark applications, direct nonresident</th>\n",
       "                        <td id=\"T_8e249818_98a9_11eb_a919_3464a9ce8e4drow4_col0\" class=\"data row4 col0\" >0.290795</td>\n",
       "                        <td id=\"T_8e249818_98a9_11eb_a919_3464a9ce8e4drow4_col1\" class=\"data row4 col1\" >0.804809</td>\n",
       "                        <td id=\"T_8e249818_98a9_11eb_a919_3464a9ce8e4drow4_col2\" class=\"data row4 col2\" >0.890599</td>\n",
       "                        <td id=\"T_8e249818_98a9_11eb_a919_3464a9ce8e4drow4_col3\" class=\"data row4 col3\" >0.868618</td>\n",
       "                        <td id=\"T_8e249818_98a9_11eb_a919_3464a9ce8e4drow4_col4\" class=\"data row4 col4\" >1.000000</td>\n",
       "                        <td id=\"T_8e249818_98a9_11eb_a919_3464a9ce8e4drow4_col5\" class=\"data row4 col5\" >0.726147</td>\n",
       "                        <td id=\"T_8e249818_98a9_11eb_a919_3464a9ce8e4drow4_col6\" class=\"data row4 col6\" >0.722581</td>\n",
       "                        <td id=\"T_8e249818_98a9_11eb_a919_3464a9ce8e4drow4_col7\" class=\"data row4 col7\" >0.786736</td>\n",
       "                        <td id=\"T_8e249818_98a9_11eb_a919_3464a9ce8e4drow4_col8\" class=\"data row4 col8\" >0.181750</td>\n",
       "            </tr>\n",
       "            <tr>\n",
       "                        <th id=\"T_8e249818_98a9_11eb_a919_3464a9ce8e4dlevel0_row5\" class=\"row_heading level0 row5\" >Patent applications, residents</th>\n",
       "                        <td id=\"T_8e249818_98a9_11eb_a919_3464a9ce8e4drow5_col0\" class=\"data row5 col0\" >0.257387</td>\n",
       "                        <td id=\"T_8e249818_98a9_11eb_a919_3464a9ce8e4drow5_col1\" class=\"data row5 col1\" >0.755353</td>\n",
       "                        <td id=\"T_8e249818_98a9_11eb_a919_3464a9ce8e4drow5_col2\" class=\"data row5 col2\" >0.679947</td>\n",
       "                        <td id=\"T_8e249818_98a9_11eb_a919_3464a9ce8e4drow5_col3\" class=\"data row5 col3\" >0.666960</td>\n",
       "                        <td id=\"T_8e249818_98a9_11eb_a919_3464a9ce8e4drow5_col4\" class=\"data row5 col4\" >0.726147</td>\n",
       "                        <td id=\"T_8e249818_98a9_11eb_a919_3464a9ce8e4drow5_col5\" class=\"data row5 col5\" >1.000000</td>\n",
       "                        <td id=\"T_8e249818_98a9_11eb_a919_3464a9ce8e4drow5_col6\" class=\"data row5 col6\" >0.757374</td>\n",
       "                        <td id=\"T_8e249818_98a9_11eb_a919_3464a9ce8e4drow5_col7\" class=\"data row5 col7\" >0.791142</td>\n",
       "                        <td id=\"T_8e249818_98a9_11eb_a919_3464a9ce8e4drow5_col8\" class=\"data row5 col8\" >0.392954</td>\n",
       "            </tr>\n",
       "            <tr>\n",
       "                        <th id=\"T_8e249818_98a9_11eb_a919_3464a9ce8e4dlevel0_row6\" class=\"row_heading level0 row6\" >Patent applications, nonresidents</th>\n",
       "                        <td id=\"T_8e249818_98a9_11eb_a919_3464a9ce8e4drow6_col0\" class=\"data row6 col0\" >0.223541</td>\n",
       "                        <td id=\"T_8e249818_98a9_11eb_a919_3464a9ce8e4drow6_col1\" class=\"data row6 col1\" >0.601401</td>\n",
       "                        <td id=\"T_8e249818_98a9_11eb_a919_3464a9ce8e4drow6_col2\" class=\"data row6 col2\" >0.600145</td>\n",
       "                        <td id=\"T_8e249818_98a9_11eb_a919_3464a9ce8e4drow6_col3\" class=\"data row6 col3\" >0.580380</td>\n",
       "                        <td id=\"T_8e249818_98a9_11eb_a919_3464a9ce8e4drow6_col4\" class=\"data row6 col4\" >0.722581</td>\n",
       "                        <td id=\"T_8e249818_98a9_11eb_a919_3464a9ce8e4drow6_col5\" class=\"data row6 col5\" >0.757374</td>\n",
       "                        <td id=\"T_8e249818_98a9_11eb_a919_3464a9ce8e4drow6_col6\" class=\"data row6 col6\" >1.000000</td>\n",
       "                        <td id=\"T_8e249818_98a9_11eb_a919_3464a9ce8e4drow6_col7\" class=\"data row6 col7\" >0.923330</td>\n",
       "                        <td id=\"T_8e249818_98a9_11eb_a919_3464a9ce8e4drow6_col8\" class=\"data row6 col8\" >0.288958</td>\n",
       "            </tr>\n",
       "            <tr>\n",
       "                        <th id=\"T_8e249818_98a9_11eb_a919_3464a9ce8e4dlevel0_row7\" class=\"row_heading level0 row7\" >Scientific and technical journal articles</th>\n",
       "                        <td id=\"T_8e249818_98a9_11eb_a919_3464a9ce8e4drow7_col0\" class=\"data row7 col0\" >0.229710</td>\n",
       "                        <td id=\"T_8e249818_98a9_11eb_a919_3464a9ce8e4drow7_col1\" class=\"data row7 col1\" >0.784358</td>\n",
       "                        <td id=\"T_8e249818_98a9_11eb_a919_3464a9ce8e4drow7_col2\" class=\"data row7 col2\" >0.765730</td>\n",
       "                        <td id=\"T_8e249818_98a9_11eb_a919_3464a9ce8e4drow7_col3\" class=\"data row7 col3\" >0.754258</td>\n",
       "                        <td id=\"T_8e249818_98a9_11eb_a919_3464a9ce8e4drow7_col4\" class=\"data row7 col4\" >0.786736</td>\n",
       "                        <td id=\"T_8e249818_98a9_11eb_a919_3464a9ce8e4drow7_col5\" class=\"data row7 col5\" >0.791142</td>\n",
       "                        <td id=\"T_8e249818_98a9_11eb_a919_3464a9ce8e4drow7_col6\" class=\"data row7 col6\" >0.923330</td>\n",
       "                        <td id=\"T_8e249818_98a9_11eb_a919_3464a9ce8e4drow7_col7\" class=\"data row7 col7\" >1.000000</td>\n",
       "                        <td id=\"T_8e249818_98a9_11eb_a919_3464a9ce8e4drow7_col8\" class=\"data row7 col8\" >0.329275</td>\n",
       "            </tr>\n",
       "            <tr>\n",
       "                        <th id=\"T_8e249818_98a9_11eb_a919_3464a9ce8e4dlevel0_row8\" class=\"row_heading level0 row8\" >Research and development expenditure (% of GDP)</th>\n",
       "                        <td id=\"T_8e249818_98a9_11eb_a919_3464a9ce8e4drow8_col0\" class=\"data row8 col0\" >0.398800</td>\n",
       "                        <td id=\"T_8e249818_98a9_11eb_a919_3464a9ce8e4drow8_col1\" class=\"data row8 col1\" >0.364458</td>\n",
       "                        <td id=\"T_8e249818_98a9_11eb_a919_3464a9ce8e4drow8_col2\" class=\"data row8 col2\" >0.143373</td>\n",
       "                        <td id=\"T_8e249818_98a9_11eb_a919_3464a9ce8e4drow8_col3\" class=\"data row8 col3\" >0.137723</td>\n",
       "                        <td id=\"T_8e249818_98a9_11eb_a919_3464a9ce8e4drow8_col4\" class=\"data row8 col4\" >0.181750</td>\n",
       "                        <td id=\"T_8e249818_98a9_11eb_a919_3464a9ce8e4drow8_col5\" class=\"data row8 col5\" >0.392954</td>\n",
       "                        <td id=\"T_8e249818_98a9_11eb_a919_3464a9ce8e4drow8_col6\" class=\"data row8 col6\" >0.288958</td>\n",
       "                        <td id=\"T_8e249818_98a9_11eb_a919_3464a9ce8e4drow8_col7\" class=\"data row8 col7\" >0.329275</td>\n",
       "                        <td id=\"T_8e249818_98a9_11eb_a919_3464a9ce8e4drow8_col8\" class=\"data row8 col8\" >1.000000</td>\n",
       "            </tr>\n",
       "    </tbody></table>"
      ],
      "text/plain": [
       "<pandas.io.formats.style.Styler at 0x12e396b0>"
      ]
     },
     "execution_count": 28,
     "metadata": {},
     "output_type": "execute_result"
    }
   ],
   "source": [
    "st_data_2009_clean.corr(method='pearson').style.background_gradient(cmap='viridis')"
   ]
  },
  {
   "cell_type": "code",
   "execution_count": 29,
   "metadata": {
    "colab": {
     "base_uri": "https://localhost:8080/",
     "height": 501
    },
    "id": "hEYfV4YP_A4Y",
    "outputId": "b9828a3a-5e18-4338-db59-0c5cd095cb1c"
   },
   "outputs": [
    {
     "data": {
      "text/html": [
       "<style  type=\"text/css\" >\n",
       "#T_8e2f6c18_98a9_11eb_ad8e_3464a9ce8e4drow0_col0,#T_8e2f6c18_98a9_11eb_ad8e_3464a9ce8e4drow1_col1,#T_8e2f6c18_98a9_11eb_ad8e_3464a9ce8e4drow2_col2,#T_8e2f6c18_98a9_11eb_ad8e_3464a9ce8e4drow3_col3,#T_8e2f6c18_98a9_11eb_ad8e_3464a9ce8e4drow4_col4,#T_8e2f6c18_98a9_11eb_ad8e_3464a9ce8e4drow5_col5,#T_8e2f6c18_98a9_11eb_ad8e_3464a9ce8e4drow6_col6,#T_8e2f6c18_98a9_11eb_ad8e_3464a9ce8e4drow7_col7,#T_8e2f6c18_98a9_11eb_ad8e_3464a9ce8e4drow8_col8{\n",
       "            background-color:  #fde725;\n",
       "            color:  #000000;\n",
       "        }#T_8e2f6c18_98a9_11eb_ad8e_3464a9ce8e4drow0_col1{\n",
       "            background-color:  #26828e;\n",
       "            color:  #000000;\n",
       "        }#T_8e2f6c18_98a9_11eb_ad8e_3464a9ce8e4drow0_col2,#T_8e2f6c18_98a9_11eb_ad8e_3464a9ce8e4drow0_col3,#T_8e2f6c18_98a9_11eb_ad8e_3464a9ce8e4drow0_col5,#T_8e2f6c18_98a9_11eb_ad8e_3464a9ce8e4drow0_col7,#T_8e2f6c18_98a9_11eb_ad8e_3464a9ce8e4drow3_col0,#T_8e2f6c18_98a9_11eb_ad8e_3464a9ce8e4drow4_col1,#T_8e2f6c18_98a9_11eb_ad8e_3464a9ce8e4drow4_col8,#T_8e2f6c18_98a9_11eb_ad8e_3464a9ce8e4drow8_col4,#T_8e2f6c18_98a9_11eb_ad8e_3464a9ce8e4drow8_col6{\n",
       "            background-color:  #440154;\n",
       "            color:  #f1f1f1;\n",
       "        }#T_8e2f6c18_98a9_11eb_ad8e_3464a9ce8e4drow0_col4{\n",
       "            background-color:  #472c7a;\n",
       "            color:  #f1f1f1;\n",
       "        }#T_8e2f6c18_98a9_11eb_ad8e_3464a9ce8e4drow0_col6{\n",
       "            background-color:  #482374;\n",
       "            color:  #f1f1f1;\n",
       "        }#T_8e2f6c18_98a9_11eb_ad8e_3464a9ce8e4drow0_col8{\n",
       "            background-color:  #21918c;\n",
       "            color:  #000000;\n",
       "        }#T_8e2f6c18_98a9_11eb_ad8e_3464a9ce8e4drow1_col0{\n",
       "            background-color:  #35b779;\n",
       "            color:  #000000;\n",
       "        }#T_8e2f6c18_98a9_11eb_ad8e_3464a9ce8e4drow1_col2{\n",
       "            background-color:  #1e9d89;\n",
       "            color:  #000000;\n",
       "        }#T_8e2f6c18_98a9_11eb_ad8e_3464a9ce8e4drow1_col3{\n",
       "            background-color:  #20a486;\n",
       "            color:  #000000;\n",
       "        }#T_8e2f6c18_98a9_11eb_ad8e_3464a9ce8e4drow1_col4{\n",
       "            background-color:  #277e8e;\n",
       "            color:  #000000;\n",
       "        }#T_8e2f6c18_98a9_11eb_ad8e_3464a9ce8e4drow1_col5{\n",
       "            background-color:  #26ad81;\n",
       "            color:  #000000;\n",
       "        }#T_8e2f6c18_98a9_11eb_ad8e_3464a9ce8e4drow1_col6{\n",
       "            background-color:  #23898e;\n",
       "            color:  #000000;\n",
       "        }#T_8e2f6c18_98a9_11eb_ad8e_3464a9ce8e4drow1_col7{\n",
       "            background-color:  #54c568;\n",
       "            color:  #000000;\n",
       "        }#T_8e2f6c18_98a9_11eb_ad8e_3464a9ce8e4drow1_col8{\n",
       "            background-color:  #22a884;\n",
       "            color:  #000000;\n",
       "        }#T_8e2f6c18_98a9_11eb_ad8e_3464a9ce8e4drow2_col0{\n",
       "            background-color:  #470e61;\n",
       "            color:  #f1f1f1;\n",
       "        }#T_8e2f6c18_98a9_11eb_ad8e_3464a9ce8e4drow2_col1,#T_8e2f6c18_98a9_11eb_ad8e_3464a9ce8e4drow5_col0{\n",
       "            background-color:  #365c8d;\n",
       "            color:  #f1f1f1;\n",
       "        }#T_8e2f6c18_98a9_11eb_ad8e_3464a9ce8e4drow2_col3,#T_8e2f6c18_98a9_11eb_ad8e_3464a9ce8e4drow3_col2{\n",
       "            background-color:  #f1e51d;\n",
       "            color:  #000000;\n",
       "        }#T_8e2f6c18_98a9_11eb_ad8e_3464a9ce8e4drow2_col4,#T_8e2f6c18_98a9_11eb_ad8e_3464a9ce8e4drow6_col4{\n",
       "            background-color:  #a5db36;\n",
       "            color:  #000000;\n",
       "        }#T_8e2f6c18_98a9_11eb_ad8e_3464a9ce8e4drow2_col5{\n",
       "            background-color:  #1fa188;\n",
       "            color:  #000000;\n",
       "        }#T_8e2f6c18_98a9_11eb_ad8e_3464a9ce8e4drow2_col6{\n",
       "            background-color:  #75d054;\n",
       "            color:  #000000;\n",
       "        }#T_8e2f6c18_98a9_11eb_ad8e_3464a9ce8e4drow2_col7,#T_8e2f6c18_98a9_11eb_ad8e_3464a9ce8e4drow7_col1{\n",
       "            background-color:  #37b878;\n",
       "            color:  #000000;\n",
       "        }#T_8e2f6c18_98a9_11eb_ad8e_3464a9ce8e4drow2_col8{\n",
       "            background-color:  #46327e;\n",
       "            color:  #f1f1f1;\n",
       "        }#T_8e2f6c18_98a9_11eb_ad8e_3464a9ce8e4drow3_col1,#T_8e2f6c18_98a9_11eb_ad8e_3464a9ce8e4drow4_col5,#T_8e2f6c18_98a9_11eb_ad8e_3464a9ce8e4drow8_col1{\n",
       "            background-color:  #34618d;\n",
       "            color:  #f1f1f1;\n",
       "        }#T_8e2f6c18_98a9_11eb_ad8e_3464a9ce8e4drow3_col4{\n",
       "            background-color:  #6ccd5a;\n",
       "            color:  #000000;\n",
       "        }#T_8e2f6c18_98a9_11eb_ad8e_3464a9ce8e4drow3_col5{\n",
       "            background-color:  #20a386;\n",
       "            color:  #000000;\n",
       "        }#T_8e2f6c18_98a9_11eb_ad8e_3464a9ce8e4drow3_col6{\n",
       "            background-color:  #4ac16d;\n",
       "            color:  #000000;\n",
       "        }#T_8e2f6c18_98a9_11eb_ad8e_3464a9ce8e4drow3_col7{\n",
       "            background-color:  #44bf70;\n",
       "            color:  #000000;\n",
       "        }#T_8e2f6c18_98a9_11eb_ad8e_3464a9ce8e4drow3_col8{\n",
       "            background-color:  #463480;\n",
       "            color:  #f1f1f1;\n",
       "        }#T_8e2f6c18_98a9_11eb_ad8e_3464a9ce8e4drow4_col0{\n",
       "            background-color:  #482071;\n",
       "            color:  #f1f1f1;\n",
       "        }#T_8e2f6c18_98a9_11eb_ad8e_3464a9ce8e4drow4_col2{\n",
       "            background-color:  #9dd93b;\n",
       "            color:  #000000;\n",
       "        }#T_8e2f6c18_98a9_11eb_ad8e_3464a9ce8e4drow4_col3,#T_8e2f6c18_98a9_11eb_ad8e_3464a9ce8e4drow6_col3{\n",
       "            background-color:  #65cb5e;\n",
       "            color:  #000000;\n",
       "        }#T_8e2f6c18_98a9_11eb_ad8e_3464a9ce8e4drow4_col6{\n",
       "            background-color:  #8ed645;\n",
       "            color:  #000000;\n",
       "        }#T_8e2f6c18_98a9_11eb_ad8e_3464a9ce8e4drow4_col7{\n",
       "            background-color:  #32658e;\n",
       "            color:  #f1f1f1;\n",
       "        }#T_8e2f6c18_98a9_11eb_ad8e_3464a9ce8e4drow5_col1{\n",
       "            background-color:  #1e9c89;\n",
       "            color:  #000000;\n",
       "        }#T_8e2f6c18_98a9_11eb_ad8e_3464a9ce8e4drow5_col2{\n",
       "            background-color:  #3aba76;\n",
       "            color:  #000000;\n",
       "        }#T_8e2f6c18_98a9_11eb_ad8e_3464a9ce8e4drow5_col3{\n",
       "            background-color:  #42be71;\n",
       "            color:  #000000;\n",
       "        }#T_8e2f6c18_98a9_11eb_ad8e_3464a9ce8e4drow5_col4{\n",
       "            background-color:  #1f968b;\n",
       "            color:  #000000;\n",
       "        }#T_8e2f6c18_98a9_11eb_ad8e_3464a9ce8e4drow5_col6{\n",
       "            background-color:  #1e9b8a;\n",
       "            color:  #000000;\n",
       "        }#T_8e2f6c18_98a9_11eb_ad8e_3464a9ce8e4drow5_col7{\n",
       "            background-color:  #9bd93c;\n",
       "            color:  #000000;\n",
       "        }#T_8e2f6c18_98a9_11eb_ad8e_3464a9ce8e4drow5_col8{\n",
       "            background-color:  #1f988b;\n",
       "            color:  #000000;\n",
       "        }#T_8e2f6c18_98a9_11eb_ad8e_3464a9ce8e4drow6_col0{\n",
       "            background-color:  #3a548c;\n",
       "            color:  #f1f1f1;\n",
       "        }#T_8e2f6c18_98a9_11eb_ad8e_3464a9ce8e4drow6_col1{\n",
       "            background-color:  #375a8c;\n",
       "            color:  #f1f1f1;\n",
       "        }#T_8e2f6c18_98a9_11eb_ad8e_3464a9ce8e4drow6_col2{\n",
       "            background-color:  #89d548;\n",
       "            color:  #000000;\n",
       "        }#T_8e2f6c18_98a9_11eb_ad8e_3464a9ce8e4drow6_col5{\n",
       "            background-color:  #228b8d;\n",
       "            color:  #000000;\n",
       "        }#T_8e2f6c18_98a9_11eb_ad8e_3464a9ce8e4drow6_col7{\n",
       "            background-color:  #218f8d;\n",
       "            color:  #000000;\n",
       "        }#T_8e2f6c18_98a9_11eb_ad8e_3464a9ce8e4drow6_col8{\n",
       "            background-color:  #3f4788;\n",
       "            color:  #f1f1f1;\n",
       "        }#T_8e2f6c18_98a9_11eb_ad8e_3464a9ce8e4drow7_col0{\n",
       "            background-color:  #3a538b;\n",
       "            color:  #f1f1f1;\n",
       "        }#T_8e2f6c18_98a9_11eb_ad8e_3464a9ce8e4drow7_col2{\n",
       "            background-color:  #5ac864;\n",
       "            color:  #000000;\n",
       "        }#T_8e2f6c18_98a9_11eb_ad8e_3464a9ce8e4drow7_col3{\n",
       "            background-color:  #6ece58;\n",
       "            color:  #000000;\n",
       "        }#T_8e2f6c18_98a9_11eb_ad8e_3464a9ce8e4drow7_col4{\n",
       "            background-color:  #1f948c;\n",
       "            color:  #000000;\n",
       "        }#T_8e2f6c18_98a9_11eb_ad8e_3464a9ce8e4drow7_col5{\n",
       "            background-color:  #98d83e;\n",
       "            color:  #000000;\n",
       "        }#T_8e2f6c18_98a9_11eb_ad8e_3464a9ce8e4drow7_col6{\n",
       "            background-color:  #1f9a8a;\n",
       "            color:  #000000;\n",
       "        }#T_8e2f6c18_98a9_11eb_ad8e_3464a9ce8e4drow7_col8{\n",
       "            background-color:  #25ab82;\n",
       "            color:  #000000;\n",
       "        }#T_8e2f6c18_98a9_11eb_ad8e_3464a9ce8e4drow8_col0{\n",
       "            background-color:  #228c8d;\n",
       "            color:  #000000;\n",
       "        }#T_8e2f6c18_98a9_11eb_ad8e_3464a9ce8e4drow8_col2{\n",
       "            background-color:  #481a6c;\n",
       "            color:  #f1f1f1;\n",
       "        }#T_8e2f6c18_98a9_11eb_ad8e_3464a9ce8e4drow8_col3{\n",
       "            background-color:  #482979;\n",
       "            color:  #f1f1f1;\n",
       "        }#T_8e2f6c18_98a9_11eb_ad8e_3464a9ce8e4drow8_col5{\n",
       "            background-color:  #33638d;\n",
       "            color:  #f1f1f1;\n",
       "        }#T_8e2f6c18_98a9_11eb_ad8e_3464a9ce8e4drow8_col7{\n",
       "            background-color:  #25858e;\n",
       "            color:  #000000;\n",
       "        }</style><table id=\"T_8e2f6c18_98a9_11eb_ad8e_3464a9ce8e4d\" ><thead>    <tr>        <th class=\"blank level0\" ></th>        <th class=\"col_heading level0 col0\" >High-technology exports (% of manufactured exports)</th>        <th class=\"col_heading level0 col1\" >High-technology exports (current US$)</th>        <th class=\"col_heading level0 col2\" >Trademark applications, total</th>        <th class=\"col_heading level0 col3\" >Trademark applications, direct resident</th>        <th class=\"col_heading level0 col4\" >Trademark applications, direct nonresident</th>        <th class=\"col_heading level0 col5\" >Patent applications, residents</th>        <th class=\"col_heading level0 col6\" >Patent applications, nonresidents</th>        <th class=\"col_heading level0 col7\" >Scientific and technical journal articles</th>        <th class=\"col_heading level0 col8\" >Research and development expenditure (% of GDP)</th>    </tr></thead><tbody>\n",
       "                <tr>\n",
       "                        <th id=\"T_8e2f6c18_98a9_11eb_ad8e_3464a9ce8e4dlevel0_row0\" class=\"row_heading level0 row0\" >High-technology exports (% of manufactured exports)</th>\n",
       "                        <td id=\"T_8e2f6c18_98a9_11eb_ad8e_3464a9ce8e4drow0_col0\" class=\"data row0 col0\" >1.000000</td>\n",
       "                        <td id=\"T_8e2f6c18_98a9_11eb_ad8e_3464a9ce8e4drow0_col1\" class=\"data row0 col1\" >0.725085</td>\n",
       "                        <td id=\"T_8e2f6c18_98a9_11eb_ad8e_3464a9ce8e4drow0_col2\" class=\"data row0 col2\" >0.208544</td>\n",
       "                        <td id=\"T_8e2f6c18_98a9_11eb_ad8e_3464a9ce8e4drow0_col3\" class=\"data row0 col3\" >0.177717</td>\n",
       "                        <td id=\"T_8e2f6c18_98a9_11eb_ad8e_3464a9ce8e4drow0_col4\" class=\"data row0 col4\" >0.248804</td>\n",
       "                        <td id=\"T_8e2f6c18_98a9_11eb_ad8e_3464a9ce8e4drow0_col5\" class=\"data row0 col5\" >0.413507</td>\n",
       "                        <td id=\"T_8e2f6c18_98a9_11eb_ad8e_3464a9ce8e4drow0_col6\" class=\"data row0 col6\" >0.390813</td>\n",
       "                        <td id=\"T_8e2f6c18_98a9_11eb_ad8e_3464a9ce8e4drow0_col7\" class=\"data row0 col7\" >0.386945</td>\n",
       "                        <td id=\"T_8e2f6c18_98a9_11eb_ad8e_3464a9ce8e4drow0_col8\" class=\"data row0 col8\" >0.573342</td>\n",
       "            </tr>\n",
       "            <tr>\n",
       "                        <th id=\"T_8e2f6c18_98a9_11eb_ad8e_3464a9ce8e4dlevel0_row1\" class=\"row_heading level0 row1\" >High-technology exports (current US$)</th>\n",
       "                        <td id=\"T_8e2f6c18_98a9_11eb_ad8e_3464a9ce8e4drow1_col0\" class=\"data row1 col0\" >0.725085</td>\n",
       "                        <td id=\"T_8e2f6c18_98a9_11eb_ad8e_3464a9ce8e4drow1_col1\" class=\"data row1 col1\" >1.000000</td>\n",
       "                        <td id=\"T_8e2f6c18_98a9_11eb_ad8e_3464a9ce8e4drow1_col2\" class=\"data row1 col2\" >0.646343</td>\n",
       "                        <td id=\"T_8e2f6c18_98a9_11eb_ad8e_3464a9ce8e4drow1_col3\" class=\"data row1 col3\" >0.656664</td>\n",
       "                        <td id=\"T_8e2f6c18_98a9_11eb_ad8e_3464a9ce8e4drow1_col4\" class=\"data row1 col4\" >0.504511</td>\n",
       "                        <td id=\"T_8e2f6c18_98a9_11eb_ad8e_3464a9ce8e4drow1_col5\" class=\"data row1 col5\" >0.775987</td>\n",
       "                        <td id=\"T_8e2f6c18_98a9_11eb_ad8e_3464a9ce8e4drow1_col6\" class=\"data row1 col6\" >0.643449</td>\n",
       "                        <td id=\"T_8e2f6c18_98a9_11eb_ad8e_3464a9ce8e4drow1_col7\" class=\"data row1 col7\" >0.835680</td>\n",
       "                        <td id=\"T_8e2f6c18_98a9_11eb_ad8e_3464a9ce8e4drow1_col8\" class=\"data row1 col8\" >0.657348</td>\n",
       "            </tr>\n",
       "            <tr>\n",
       "                        <th id=\"T_8e2f6c18_98a9_11eb_ad8e_3464a9ce8e4dlevel0_row2\" class=\"row_heading level0 row2\" >Trademark applications, total</th>\n",
       "                        <td id=\"T_8e2f6c18_98a9_11eb_ad8e_3464a9ce8e4drow2_col0\" class=\"data row2 col0\" >0.208544</td>\n",
       "                        <td id=\"T_8e2f6c18_98a9_11eb_ad8e_3464a9ce8e4drow2_col1\" class=\"data row2 col1\" >0.646343</td>\n",
       "                        <td id=\"T_8e2f6c18_98a9_11eb_ad8e_3464a9ce8e4drow2_col2\" class=\"data row2 col2\" >1.000000</td>\n",
       "                        <td id=\"T_8e2f6c18_98a9_11eb_ad8e_3464a9ce8e4drow2_col3\" class=\"data row2 col3\" >0.982228</td>\n",
       "                        <td id=\"T_8e2f6c18_98a9_11eb_ad8e_3464a9ce8e4drow2_col4\" class=\"data row2 col4\" >0.884621</td>\n",
       "                        <td id=\"T_8e2f6c18_98a9_11eb_ad8e_3464a9ce8e4drow2_col5\" class=\"data row2 col5\" >0.746424</td>\n",
       "                        <td id=\"T_8e2f6c18_98a9_11eb_ad8e_3464a9ce8e4drow2_col6\" class=\"data row2 col6\" >0.860165</td>\n",
       "                        <td id=\"T_8e2f6c18_98a9_11eb_ad8e_3464a9ce8e4drow2_col7\" class=\"data row2 col7\" >0.798701</td>\n",
       "                        <td id=\"T_8e2f6c18_98a9_11eb_ad8e_3464a9ce8e4drow2_col8\" class=\"data row2 col8\" >0.263841</td>\n",
       "            </tr>\n",
       "            <tr>\n",
       "                        <th id=\"T_8e2f6c18_98a9_11eb_ad8e_3464a9ce8e4dlevel0_row3\" class=\"row_heading level0 row3\" >Trademark applications, direct resident</th>\n",
       "                        <td id=\"T_8e2f6c18_98a9_11eb_ad8e_3464a9ce8e4drow3_col0\" class=\"data row3 col0\" >0.177717</td>\n",
       "                        <td id=\"T_8e2f6c18_98a9_11eb_ad8e_3464a9ce8e4drow3_col1\" class=\"data row3 col1\" >0.656664</td>\n",
       "                        <td id=\"T_8e2f6c18_98a9_11eb_ad8e_3464a9ce8e4drow3_col2\" class=\"data row3 col2\" >0.982228</td>\n",
       "                        <td id=\"T_8e2f6c18_98a9_11eb_ad8e_3464a9ce8e4drow3_col3\" class=\"data row3 col3\" >1.000000</td>\n",
       "                        <td id=\"T_8e2f6c18_98a9_11eb_ad8e_3464a9ce8e4drow3_col4\" class=\"data row3 col4\" >0.806220</td>\n",
       "                        <td id=\"T_8e2f6c18_98a9_11eb_ad8e_3464a9ce8e4drow3_col5\" class=\"data row3 col5\" >0.752610</td>\n",
       "                        <td id=\"T_8e2f6c18_98a9_11eb_ad8e_3464a9ce8e4drow3_col6\" class=\"data row3 col6\" >0.806917</td>\n",
       "                        <td id=\"T_8e2f6c18_98a9_11eb_ad8e_3464a9ce8e4drow3_col7\" class=\"data row3 col7\" >0.817157</td>\n",
       "                        <td id=\"T_8e2f6c18_98a9_11eb_ad8e_3464a9ce8e4drow3_col8\" class=\"data row3 col8\" >0.272386</td>\n",
       "            </tr>\n",
       "            <tr>\n",
       "                        <th id=\"T_8e2f6c18_98a9_11eb_ad8e_3464a9ce8e4dlevel0_row4\" class=\"row_heading level0 row4\" >Trademark applications, direct nonresident</th>\n",
       "                        <td id=\"T_8e2f6c18_98a9_11eb_ad8e_3464a9ce8e4drow4_col0\" class=\"data row4 col0\" >0.248804</td>\n",
       "                        <td id=\"T_8e2f6c18_98a9_11eb_ad8e_3464a9ce8e4drow4_col1\" class=\"data row4 col1\" >0.504511</td>\n",
       "                        <td id=\"T_8e2f6c18_98a9_11eb_ad8e_3464a9ce8e4drow4_col2\" class=\"data row4 col2\" >0.884621</td>\n",
       "                        <td id=\"T_8e2f6c18_98a9_11eb_ad8e_3464a9ce8e4drow4_col3\" class=\"data row4 col3\" >0.806220</td>\n",
       "                        <td id=\"T_8e2f6c18_98a9_11eb_ad8e_3464a9ce8e4drow4_col4\" class=\"data row4 col4\" >1.000000</td>\n",
       "                        <td id=\"T_8e2f6c18_98a9_11eb_ad8e_3464a9ce8e4drow4_col5\" class=\"data row4 col5\" >0.593380</td>\n",
       "                        <td id=\"T_8e2f6c18_98a9_11eb_ad8e_3464a9ce8e4drow4_col6\" class=\"data row4 col6\" >0.885798</td>\n",
       "                        <td id=\"T_8e2f6c18_98a9_11eb_ad8e_3464a9ce8e4drow4_col7\" class=\"data row4 col7\" >0.584894</td>\n",
       "                        <td id=\"T_8e2f6c18_98a9_11eb_ad8e_3464a9ce8e4drow4_col8\" class=\"data row4 col8\" >0.142925</td>\n",
       "            </tr>\n",
       "            <tr>\n",
       "                        <th id=\"T_8e2f6c18_98a9_11eb_ad8e_3464a9ce8e4dlevel0_row5\" class=\"row_heading level0 row5\" >Patent applications, residents</th>\n",
       "                        <td id=\"T_8e2f6c18_98a9_11eb_ad8e_3464a9ce8e4drow5_col0\" class=\"data row5 col0\" >0.413507</td>\n",
       "                        <td id=\"T_8e2f6c18_98a9_11eb_ad8e_3464a9ce8e4drow5_col1\" class=\"data row5 col1\" >0.775987</td>\n",
       "                        <td id=\"T_8e2f6c18_98a9_11eb_ad8e_3464a9ce8e4drow5_col2\" class=\"data row5 col2\" >0.746424</td>\n",
       "                        <td id=\"T_8e2f6c18_98a9_11eb_ad8e_3464a9ce8e4drow5_col3\" class=\"data row5 col3\" >0.752610</td>\n",
       "                        <td id=\"T_8e2f6c18_98a9_11eb_ad8e_3464a9ce8e4drow5_col4\" class=\"data row5 col4\" >0.593380</td>\n",
       "                        <td id=\"T_8e2f6c18_98a9_11eb_ad8e_3464a9ce8e4drow5_col5\" class=\"data row5 col5\" >1.000000</td>\n",
       "                        <td id=\"T_8e2f6c18_98a9_11eb_ad8e_3464a9ce8e4drow5_col6\" class=\"data row5 col6\" >0.694453</td>\n",
       "                        <td id=\"T_8e2f6c18_98a9_11eb_ad8e_3464a9ce8e4drow5_col7\" class=\"data row5 col7\" >0.908970</td>\n",
       "                        <td id=\"T_8e2f6c18_98a9_11eb_ad8e_3464a9ce8e4drow5_col8\" class=\"data row5 col8\" >0.598882</td>\n",
       "            </tr>\n",
       "            <tr>\n",
       "                        <th id=\"T_8e2f6c18_98a9_11eb_ad8e_3464a9ce8e4dlevel0_row6\" class=\"row_heading level0 row6\" >Patent applications, nonresidents</th>\n",
       "                        <td id=\"T_8e2f6c18_98a9_11eb_ad8e_3464a9ce8e4drow6_col0\" class=\"data row6 col0\" >0.390813</td>\n",
       "                        <td id=\"T_8e2f6c18_98a9_11eb_ad8e_3464a9ce8e4drow6_col1\" class=\"data row6 col1\" >0.643449</td>\n",
       "                        <td id=\"T_8e2f6c18_98a9_11eb_ad8e_3464a9ce8e4drow6_col2\" class=\"data row6 col2\" >0.860165</td>\n",
       "                        <td id=\"T_8e2f6c18_98a9_11eb_ad8e_3464a9ce8e4drow6_col3\" class=\"data row6 col3\" >0.806917</td>\n",
       "                        <td id=\"T_8e2f6c18_98a9_11eb_ad8e_3464a9ce8e4drow6_col4\" class=\"data row6 col4\" >0.885798</td>\n",
       "                        <td id=\"T_8e2f6c18_98a9_11eb_ad8e_3464a9ce8e4drow6_col5\" class=\"data row6 col5\" >0.694453</td>\n",
       "                        <td id=\"T_8e2f6c18_98a9_11eb_ad8e_3464a9ce8e4drow6_col6\" class=\"data row6 col6\" >1.000000</td>\n",
       "                        <td id=\"T_8e2f6c18_98a9_11eb_ad8e_3464a9ce8e4drow6_col7\" class=\"data row6 col7\" >0.689725</td>\n",
       "                        <td id=\"T_8e2f6c18_98a9_11eb_ad8e_3464a9ce8e4drow6_col8\" class=\"data row6 col8\" >0.325911</td>\n",
       "            </tr>\n",
       "            <tr>\n",
       "                        <th id=\"T_8e2f6c18_98a9_11eb_ad8e_3464a9ce8e4dlevel0_row7\" class=\"row_heading level0 row7\" >Scientific and technical journal articles</th>\n",
       "                        <td id=\"T_8e2f6c18_98a9_11eb_ad8e_3464a9ce8e4drow7_col0\" class=\"data row7 col0\" >0.386945</td>\n",
       "                        <td id=\"T_8e2f6c18_98a9_11eb_ad8e_3464a9ce8e4drow7_col1\" class=\"data row7 col1\" >0.835680</td>\n",
       "                        <td id=\"T_8e2f6c18_98a9_11eb_ad8e_3464a9ce8e4drow7_col2\" class=\"data row7 col2\" >0.798701</td>\n",
       "                        <td id=\"T_8e2f6c18_98a9_11eb_ad8e_3464a9ce8e4drow7_col3\" class=\"data row7 col3\" >0.817157</td>\n",
       "                        <td id=\"T_8e2f6c18_98a9_11eb_ad8e_3464a9ce8e4drow7_col4\" class=\"data row7 col4\" >0.584894</td>\n",
       "                        <td id=\"T_8e2f6c18_98a9_11eb_ad8e_3464a9ce8e4drow7_col5\" class=\"data row7 col5\" >0.908970</td>\n",
       "                        <td id=\"T_8e2f6c18_98a9_11eb_ad8e_3464a9ce8e4drow7_col6\" class=\"data row7 col6\" >0.689725</td>\n",
       "                        <td id=\"T_8e2f6c18_98a9_11eb_ad8e_3464a9ce8e4drow7_col7\" class=\"data row7 col7\" >1.000000</td>\n",
       "                        <td id=\"T_8e2f6c18_98a9_11eb_ad8e_3464a9ce8e4drow7_col8\" class=\"data row7 col8\" >0.665550</td>\n",
       "            </tr>\n",
       "            <tr>\n",
       "                        <th id=\"T_8e2f6c18_98a9_11eb_ad8e_3464a9ce8e4dlevel0_row8\" class=\"row_heading level0 row8\" >Research and development expenditure (% of GDP)</th>\n",
       "                        <td id=\"T_8e2f6c18_98a9_11eb_ad8e_3464a9ce8e4drow8_col0\" class=\"data row8 col0\" >0.573342</td>\n",
       "                        <td id=\"T_8e2f6c18_98a9_11eb_ad8e_3464a9ce8e4drow8_col1\" class=\"data row8 col1\" >0.657348</td>\n",
       "                        <td id=\"T_8e2f6c18_98a9_11eb_ad8e_3464a9ce8e4drow8_col2\" class=\"data row8 col2\" >0.263841</td>\n",
       "                        <td id=\"T_8e2f6c18_98a9_11eb_ad8e_3464a9ce8e4drow8_col3\" class=\"data row8 col3\" >0.272386</td>\n",
       "                        <td id=\"T_8e2f6c18_98a9_11eb_ad8e_3464a9ce8e4drow8_col4\" class=\"data row8 col4\" >0.142925</td>\n",
       "                        <td id=\"T_8e2f6c18_98a9_11eb_ad8e_3464a9ce8e4drow8_col5\" class=\"data row8 col5\" >0.598882</td>\n",
       "                        <td id=\"T_8e2f6c18_98a9_11eb_ad8e_3464a9ce8e4drow8_col6\" class=\"data row8 col6\" >0.325911</td>\n",
       "                        <td id=\"T_8e2f6c18_98a9_11eb_ad8e_3464a9ce8e4drow8_col7\" class=\"data row8 col7\" >0.665550</td>\n",
       "                        <td id=\"T_8e2f6c18_98a9_11eb_ad8e_3464a9ce8e4drow8_col8\" class=\"data row8 col8\" >1.000000</td>\n",
       "            </tr>\n",
       "    </tbody></table>"
      ],
      "text/plain": [
       "<pandas.io.formats.style.Styler at 0x12e42bd0>"
      ]
     },
     "execution_count": 29,
     "metadata": {},
     "output_type": "execute_result"
    }
   ],
   "source": [
    "st_data_2009_clean.corr(method='spearman').style.background_gradient(cmap='viridis')"
   ]
  },
  {
   "cell_type": "code",
   "execution_count": 30,
   "metadata": {
    "colab": {
     "base_uri": "https://localhost:8080/",
     "height": 296
    },
    "id": "nX6Fy4wM_Dnt",
    "outputId": "e516bd6a-9de9-48da-a2fc-543dd2e3d726"
   },
   "outputs": [
    {
     "data": {
      "image/png": "[encoded data removed]",
      "text/plain": [
       "<Figure size 432x288 with 1 Axes>"
      ]
     },
     "metadata": {
      "needs_background": "light"
     },
     "output_type": "display_data"
    }
   ],
   "source": [
    "st_data_2009_clean.plot.scatter(x='High-technology exports (% of manufactured exports)',y='Patent applications, nonresidents')\n",
    "plt.savefig('correlation09.png')"
   ]
  },
  {
   "cell_type": "code",
   "execution_count": 31,
   "metadata": {
    "id": "3e2FxIw1_IKw"
   },
   "outputs": [],
   "source": [
    "st_data_2009_clean_nonUS = st_data_2009_clean[st_data_2009_clean['Country Name'] != 'United States']"
   ]
  },
  {
   "cell_type": "code",
   "execution_count": 32,
   "metadata": {
    "colab": {
     "base_uri": "https://localhost:8080/",
     "height": 296
    },
    "id": "Yb2gIIwp_N5k",
    "outputId": "9d217a25-4b69-43a6-ba62-377acd3996b2"
   },
   "outputs": [
    {
     "data": {
      "image/png": "[encoded data removed]",
      "text/plain": [
       "<Figure size 432x288 with 1 Axes>"
      ]
     },
     "metadata": {
      "needs_background": "light"
     },
     "output_type": "display_data"
    }
   ],
   "source": [
    "st_data_2009_clean_nonUS.plot.scatter(x='High-technology exports (% of manufactured exports)',y='Patent applications, nonresidents')\n",
    "plt.savefig('correlation09_nonUS.png')"
   ]
  },
  {
   "cell_type": "markdown",
   "metadata": {
    "id": "yD4dVDVr_8z9"
   },
   "source": [
    "### 7 T-tests"
   ]
  },
  {
   "cell_type": "code",
   "execution_count": 33,
   "metadata": {
    "id": "vwr_8Ld5_UlY"
   },
   "outputs": [],
   "source": [
    "import scipy.stats as stats"
   ]
  },
  {
   "cell_type": "code",
   "execution_count": 34,
   "metadata": {
    "colab": {
     "base_uri": "https://localhost:8080/"
    },
    "id": "7q8l-zSVAZSN",
    "outputId": "c839f789-5380-457f-b1e0-33b0cceb9425"
   },
   "outputs": [
    {
     "data": {
      "text/plain": [
       "Ttest_indResult(statistic=0.17093628150351461, pvalue=0.8646028361752646)"
      ]
     },
     "execution_count": 34,
     "metadata": {},
     "output_type": "execute_result"
    }
   ],
   "source": [
    "a = st_data_2009_clean['Patent applications, residents']\n",
    "b = st_data_2018_clean['Patent applications, residents']\n",
    "stats.ttest_ind(a,b)"
   ]
  },
  {
   "cell_type": "code",
   "execution_count": 35,
   "metadata": {
    "id": "rglobRfiAtiF"
   },
   "outputs": [],
   "source": [
    "columns = st_data_2009_clean.columns"
   ]
  },
  {
   "cell_type": "code",
   "execution_count": 36,
   "metadata": {
    "colab": {
     "base_uri": "https://localhost:8080/"
    },
    "id": "oyQwM0dmBgC9",
    "outputId": "3fb2704a-cf23-40fa-b78e-7f69e0431765"
   },
   "outputs": [
    {
     "name": "stdout",
     "output_type": "stream",
     "text": [
      "High-technology exports (% of manufactured exports)\n",
      "Statistic: 1.5178124850425097 p-value: 0.13206686889029143\n",
      "Not significant\n",
      "High-technology exports (current US$)\n",
      "Statistic: 0.12265583290103693 p-value: 0.902614099731734\n",
      "Not significant\n",
      "Trademark applications, total\n",
      "Statistic: 0.2704033385824462 p-value: 0.7873807591420726\n",
      "Not significant\n",
      "Trademark applications, direct resident\n",
      "Statistic: 0.3877442167941513 p-value: 0.6989902537733603\n",
      "Not significant\n",
      "Trademark applications, direct nonresident\n",
      "Statistic: -0.48589263440463604 p-value: 0.628055750890876\n",
      "Not significant\n",
      "Patent applications, residents\n",
      "Statistic: 0.17093628150351461 p-value: 0.8646028361752646\n",
      "Not significant\n",
      "Patent applications, nonresidents\n",
      "Statistic: -0.044717907923683436 p-value: 0.9644170934929569\n",
      "Not significant\n",
      "Scientific and technical journal articles\n",
      "Statistic: -0.006105403997445266 p-value: 0.9951402075104707\n",
      "Not significant\n",
      "Research and development expenditure (% of GDP)\n",
      "Statistic: -0.2796230548958726 p-value: 0.7803167965750044\n",
      "Not significant\n"
     ]
    }
   ],
   "source": [
    "for i in range(1,len(columns)):\n",
    "  a = st_data_2009_clean[columns[i]]\n",
    "  b = st_data_2018_clean[columns[i]]\n",
    "  print(columns[i])\n",
    "  statistic, pvalue = stats.ttest_ind(a,b)\n",
    "  print(\"Statistic: %s p-value: %s\" %(statistic,pvalue))\n",
    "  if pvalue < 0.05:\n",
    "    print(\"Significant\")\n",
    "  else:\n",
    "    print(\"Not significant\")"
   ]
  },
  {
   "cell_type": "markdown",
   "metadata": {},
   "source": [
    "The p-values indicate that none of the features in 2018 are significantly different than those of 2009."
   ]
  }
 ],
 "metadata": {
  "colab": {
   "collapsed_sections": [
    "vsqCB5aHukLf",
    "YOq_5xOwzHLG",
    "cPdx0fb91Ufv",
    "nLq6HYry4ipO",
    "m_zgecyR79Yv",
    "yD4dVDVr_8z9"
   ],
   "name": "world-bank-science-tech.ipynb",
   "provenance": []
  },
  "kernelspec": {
   "display_name": "Python 3",
   "language": "python",
   "name": "python3"
  },
  "language_info": {
   "codemirror_mode": {
    "name": "ipython",
    "version": 3
   },
   "file_extension": ".py",
   "mimetype": "text/x-python",
   "name": "python",
   "nbconvert_exporter": "python",
   "pygments_lexer": "ipython3",
   "version": "3.7.2"
  }
 },
 "nbformat": 4,
 "nbformat_minor": 4
}
